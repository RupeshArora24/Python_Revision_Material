{
 "cells": [
  {
   "cell_type": "code",
   "execution_count": 1,
   "id": "9d791ec4",
   "metadata": {},
   "outputs": [],
   "source": [
    "#Convert String to List \n",
    "#.split('delimeter',times of split) - returns a split string as list\n",
    "#.split(default=' ',default= -1)\n",
    "#-1 means all"
   ]
  },
  {
   "cell_type": "code",
   "execution_count": 4,
   "id": "191a11c6",
   "metadata": {
    "scrolled": true
   },
   "outputs": [
    {
     "name": "stdout",
     "output_type": "stream",
     "text": [
      "Enter the value: BuriBuri Zimone\n",
      "['BuriBuri Zimone']\n"
     ]
    }
   ],
   "source": [
    "n=input('Enter the value: ')\n",
    "l=n.split(' ',0)\n",
    "print(l)"
   ]
  },
  {
   "cell_type": "code",
   "execution_count": 6,
   "id": "d88c809c",
   "metadata": {
    "scrolled": true
   },
   "outputs": [
    {
     "name": "stdout",
     "output_type": "stream",
     "text": [
      "Enter the value1=This\n",
      "Enter the value2=is \n",
      "Enter the value3=my\n",
      "['This', 'is ', 'my']\n"
     ]
    }
   ],
   "source": [
    "k=[]\n",
    "for i in range(1,4):\n",
    "    k.append(input('Enter the value'+str(i)+'='))\n",
    "print(k)"
   ]
  },
  {
   "cell_type": "markdown",
   "id": "755cb98d",
   "metadata": {},
   "source": [
    "-------------------"
   ]
  },
  {
   "cell_type": "code",
   "execution_count": 7,
   "id": "6ecf067d",
   "metadata": {},
   "outputs": [],
   "source": [
    "#Stack & Queue - part of data structure like list,array,set,tuple,dictionary"
   ]
  },
  {
   "cell_type": "code",
   "execution_count": 8,
   "id": "46e24587",
   "metadata": {},
   "outputs": [
    {
     "data": {
      "text/plain": [
       "'\\nPush-Inserting \\nPop-Remove last element\\nPeek-Display the last element\\nDisplay- Display all element\\n'"
      ]
     },
     "execution_count": 8,
     "metadata": {},
     "output_type": "execute_result"
    }
   ],
   "source": [
    "#Stacks are FILO or LIFO- first element is at bottom and last element is at top\n",
    "\"\"\" Concept:\n",
    "Push-Inserting at top\n",
    "Pop-Remove last element (Top element)\n",
    "Peek-Display the last element i.e top element\n",
    "Display- Display all element\n",
    "\"\"\""
   ]
  },
  {
   "cell_type": "code",
   "execution_count": 23,
   "id": "1eaf95d2",
   "metadata": {},
   "outputs": [
    {
     "name": "stdout",
     "output_type": "stream",
     "text": [
      "List : []\n",
      "\n",
      "    1-Push\n",
      "    2-Pop\n",
      "    3-Peek\n",
      "    4-Display\n",
      "    5-Exit\n",
      "    \n",
      "    5\n",
      "Exiting\n"
     ]
    }
   ],
   "source": [
    "l=[]\n",
    "print('List :',l)\n",
    "while(True):\n",
    "    c=int(input(\"\"\"\n",
    "    1-Push\n",
    "    2-Pop\n",
    "    3-Peek\n",
    "    4-Display\n",
    "    5-Exit\n",
    "    \n",
    "    \"\"\"))\n",
    "    \n",
    "    if c==1:\n",
    "        l.append(input('Enter the value to Push: '))\n",
    "        print('List after Push ',l)\n",
    "        \n",
    "    elif c==2:\n",
    "        if (len(l)==0):\n",
    "            print('Empty list')\n",
    "            \n",
    "        else:\n",
    "            l.pop()\n",
    "            print('List after Pop: ',l)\n",
    " \n",
    "    elif(c==3):\n",
    "        if (len(l)==0):\n",
    "            print('Empty list')\n",
    "         \n",
    "        else:\n",
    "            print('Last element: ',l[-1])\n",
    "    \n",
    "    elif(c==4):\n",
    "        print('Display all elements: ',l)\n",
    "    \n",
    "    elif(c==5):\n",
    "        print('Exiting')\n",
    "        break;\n",
    "    \n",
    "    elif not(c==1 or c==2 or c==3 or c==4 or c==5):\n",
    "        print('Exiting')\n",
    "        break;"
   ]
  },
  {
   "cell_type": "markdown",
   "id": "5b8c3743",
   "metadata": {},
   "source": [
    "------------------"
   ]
  },
  {
   "cell_type": "code",
   "execution_count": 26,
   "id": "10992884",
   "metadata": {},
   "outputs": [
    {
     "data": {
      "text/plain": [
       "' '"
      ]
     },
     "execution_count": 26,
     "metadata": {},
     "output_type": "execute_result"
    }
   ],
   "source": [
    "#Queue - FIFO\n",
    "\"\"\" Concepts:\n",
    "Enqueue: adds an item to the queue, to the last\n",
    "Dequeue: removes an item from the queue, remove from the first\n",
    "Front: Get the front item from queue\n",
    "Rear: Get the last item from queue\n",
    "\"\"\""
   ]
  },
  {
   "cell_type": "code",
   "execution_count": 27,
   "id": "648abcea",
   "metadata": {},
   "outputs": [
    {
     "name": "stdout",
     "output_type": "stream",
     "text": [
      "List : []\n",
      "\n",
      "    1-Enqueue (Push)\n",
      "    2-Dequeue (Pop) \n",
      "    3-Front (Peek)\n",
      "    4-Rear (Peek)\n",
      "    5-Display\n",
      "    6-Exit\n",
      "    \n",
      "    1\n",
      "Enter the value to Push: 10\n",
      "List after Push  ['10']\n",
      "\n",
      "    1-Enqueue (Push)\n",
      "    2-Dequeue (Pop) \n",
      "    3-Front (Peek)\n",
      "    4-Rear (Peek)\n",
      "    5-Display\n",
      "    6-Exit\n",
      "    \n",
      "    1\n",
      "Enter the value to Push: 20\n",
      "List after Push  ['10', '20']\n",
      "\n",
      "    1-Enqueue (Push)\n",
      "    2-Dequeue (Pop) \n",
      "    3-Front (Peek)\n",
      "    4-Rear (Peek)\n",
      "    5-Display\n",
      "    6-Exit\n",
      "    \n",
      "    1\n",
      "Enter the value to Push: 30\n",
      "List after Push  ['10', '20', '30']\n",
      "\n",
      "    1-Enqueue (Push)\n",
      "    2-Dequeue (Pop) \n",
      "    3-Front (Peek)\n",
      "    4-Rear (Peek)\n",
      "    5-Display\n",
      "    6-Exit\n",
      "    \n",
      "    1\n",
      "Enter the value to Push: 40\n",
      "List after Push  ['10', '20', '30', '40']\n",
      "\n",
      "    1-Enqueue (Push)\n",
      "    2-Dequeue (Pop) \n",
      "    3-Front (Peek)\n",
      "    4-Rear (Peek)\n",
      "    5-Display\n",
      "    6-Exit\n",
      "    \n",
      "    5\n",
      "All element:  ['10', '20', '30', '40']\n",
      "\n",
      "    1-Enqueue (Push)\n",
      "    2-Dequeue (Pop) \n",
      "    3-Front (Peek)\n",
      "    4-Rear (Peek)\n",
      "    5-Display\n",
      "    6-Exit\n",
      "    \n",
      "    4\n",
      "Rear element:  40\n",
      "\n",
      "    1-Enqueue (Push)\n",
      "    2-Dequeue (Pop) \n",
      "    3-Front (Peek)\n",
      "    4-Rear (Peek)\n",
      "    5-Display\n",
      "    6-Exit\n",
      "    \n",
      "    3\n",
      "Front element:  10\n",
      "\n",
      "    1-Enqueue (Push)\n",
      "    2-Dequeue (Pop) \n",
      "    3-Front (Peek)\n",
      "    4-Rear (Peek)\n",
      "    5-Display\n",
      "    6-Exit\n",
      "    \n",
      "    5\n",
      "All element:  ['10', '20', '30', '40']\n",
      "\n",
      "    1-Enqueue (Push)\n",
      "    2-Dequeue (Pop) \n",
      "    3-Front (Peek)\n",
      "    4-Rear (Peek)\n",
      "    5-Display\n",
      "    6-Exit\n",
      "    \n",
      "    9\n",
      "Exiting\n"
     ]
    }
   ],
   "source": [
    "k=[]\n",
    "print('List :',l)\n",
    "while(True):\n",
    "    c=int(input(\"\"\"\n",
    "    1-Enqueue (Push)\n",
    "    2-Dequeue (Pop) \n",
    "    3-Front (Peek)\n",
    "    4-Rear (Peek)\n",
    "    5-Display\n",
    "    6-Exit\n",
    "    \n",
    "    \"\"\"))\n",
    "    \n",
    "    if c==1:\n",
    "        k.append(input('Enter the value to Push: '))\n",
    "        print('List after Push ',k)\n",
    "        \n",
    "    elif c==2:\n",
    "        if (len(k)==0):\n",
    "            print('Empty list')\n",
    "            \n",
    "        else:\n",
    "            k.pop(0)\n",
    "            print('List after Pop: ',k)\n",
    " \n",
    "    elif(c==3):\n",
    "        if (len(k)==0):\n",
    "            print('Empty list')\n",
    "         \n",
    "        else:\n",
    "            print('Front element: ',k[0])\n",
    "    \n",
    "    elif(c==4):\n",
    "        if(len(k)==0):\n",
    "            print('Empty list')\n",
    "         \n",
    "        else:\n",
    "            print('Rear element: ',k[-1])\n",
    "    \n",
    "    elif(c==5):\n",
    "        if(len(k)==0):\n",
    "            print('Empty list')\n",
    "         \n",
    "        else:\n",
    "            print('All element: ',k)\n",
    "    \n",
    "    elif(c==6):\n",
    "        print('Exiting')\n",
    "        break;\n",
    "    \n",
    "    elif not(c==1 or c==2 or c==3 or c==4 or c==5 or c==6):\n",
    "        print('Exiting')\n",
    "        break;"
   ]
  },
  {
   "cell_type": "code",
   "execution_count": null,
   "id": "68e6a458",
   "metadata": {},
   "outputs": [],
   "source": []
  }
 ],
 "metadata": {
  "kernelspec": {
   "display_name": "Python 3 (ipykernel)",
   "language": "python",
   "name": "python3"
  },
  "language_info": {
   "codemirror_mode": {
    "name": "ipython",
    "version": 3
   },
   "file_extension": ".py",
   "mimetype": "text/x-python",
   "name": "python",
   "nbconvert_exporter": "python",
   "pygments_lexer": "ipython3",
   "version": "3.9.7"
  }
 },
 "nbformat": 4,
 "nbformat_minor": 5
}
