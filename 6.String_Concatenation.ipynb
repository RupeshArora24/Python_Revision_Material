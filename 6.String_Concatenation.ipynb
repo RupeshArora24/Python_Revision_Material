{
 "cells": [
  {
   "cell_type": "code",
   "execution_count": 1,
   "id": "0606db5e",
   "metadata": {},
   "outputs": [
    {
     "name": "stdout",
     "output_type": "stream",
     "text": [
      "10 10\n"
     ]
    }
   ],
   "source": [
    "# a variable is always declared with a alphabet or only with '_' speical character and nothing else\n",
    "a=10\n",
    "b=10\n",
    "print (a,b)"
   ]
  },
  {
   "cell_type": "code",
   "execution_count": 4,
   "id": "869113e8",
   "metadata": {},
   "outputs": [
    {
     "name": "stdout",
     "output_type": "stream",
     "text": [
      "Value= 10\n"
     ]
    }
   ],
   "source": [
    "print('Value=',a)"
   ]
  },
  {
   "cell_type": "code",
   "execution_count": 6,
   "id": "18be2199",
   "metadata": {},
   "outputs": [
    {
     "name": "stdout",
     "output_type": "stream",
     "text": [
      "2043236870736 2043236870736\n"
     ]
    }
   ],
   "source": [
    "print(id(a),id(b)) #[python allots memory to value of variabele and not variable itself unlike in c, java]\n",
    "#'id()' allows us to check for memory address of a value inside variable\n",
    "    "
   ]
  },
  {
   "cell_type": "markdown",
   "id": "53c94ac2",
   "metadata": {},
   "source": [
    "-------------------"
   ]
  },
  {
   "cell_type": "code",
   "execution_count": 7,
   "id": "9af2cb30",
   "metadata": {},
   "outputs": [
    {
     "name": "stdout",
     "output_type": "stream",
     "text": [
      "20\n"
     ]
    }
   ],
   "source": [
    "#string concatenation\n",
    "d='Hello'\n",
    "e='Rohit'\n",
    "\n",
    "print(d+e) #concatenation can happen with string only\n",
    "#print(d+a)            #if used with a number then it throws error\n"
   ]
  },
  {
   "cell_type": "code",
   "execution_count": null,
   "id": "f28e6cb4",
   "metadata": {},
   "outputs": [],
   "source": [
    "\n"
   ]
  },
  {
   "cell_type": "code",
   "execution_count": null,
   "id": "f1ac2d66",
   "metadata": {},
   "outputs": [],
   "source": []
  }
 ],
 "metadata": {
  "kernelspec": {
   "display_name": "Python 3 (ipykernel)",
   "language": "python",
   "name": "python3"
  },
  "language_info": {
   "codemirror_mode": {
    "name": "ipython",
    "version": 3
   },
   "file_extension": ".py",
   "mimetype": "text/x-python",
   "name": "python",
   "nbconvert_exporter": "python",
   "pygments_lexer": "ipython3",
   "version": "3.9.7"
  }
 },
 "nbformat": 4,
 "nbformat_minor": 5
}
