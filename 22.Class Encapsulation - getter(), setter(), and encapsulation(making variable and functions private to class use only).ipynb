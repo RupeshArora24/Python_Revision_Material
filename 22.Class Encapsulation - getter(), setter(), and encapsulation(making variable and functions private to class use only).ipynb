{
 "cells": [
  {
   "cell_type": "code",
   "execution_count": 1,
   "id": "41dbdae2",
   "metadata": {},
   "outputs": [],
   "source": [
    "#Class Encapsulation- making varibles and methods private."
   ]
  },
  {
   "cell_type": "markdown",
   "id": "222fdeb3",
   "metadata": {},
   "source": [
    "-----------"
   ]
  },
  {
   "cell_type": "markdown",
   "id": "7fac1351",
   "metadata": {},
   "source": [
    "In Python, there is no existence of “Private” instance variables that cannot be accessed except inside an object. \n",
    "However, a convention is being followed by most Python code and coders i.e., a name prefixed with an underscore, \n",
    "For e.g. _geek should be treated as a non-public part of the API or any Python code, whether it is a function, \n",
    "a method, or a data member. While going through this we would also try to understand the concept of various forms \n",
    "of trailing underscores, for e.g., for _ in range(10), __init__(self). "
   ]
  },
  {
   "cell_type": "markdown",
   "id": "f5fc4324",
   "metadata": {},
   "source": [
    "### _Single Leading Underscores\n",
    "\n",
    "So basically one underline at the beginning of a method, function, or data member means you shouldn’t access this method because it’s not part of the API. Let’s look at this snippet of code: "
   ]
  },
  {
   "cell_type": "code",
   "execution_count": null,
   "id": "06406cd3",
   "metadata": {},
   "outputs": [],
   "source": [
    "# Python code to illustrate\n",
    "# how single underscore works\n",
    "def _get_errors(self):\n",
    "    if self._errors is None:\n",
    "        self.full_clean()\n",
    "    return self._errors\n",
    " \n",
    "errors = property(_get_errors)"
   ]
  },
  {
   "cell_type": "markdown",
   "id": "6a12556d",
   "metadata": {},
   "source": [
    "The snippet is taken from the Django source code (django/forms/forms.py). This suggests that errors are property, and it’s also a part of the API, but the method, _get_errors, is “private”, so one shouldn’t access it."
   ]
  },
  {
   "cell_type": "markdown",
   "id": "3bc51f4d",
   "metadata": {},
   "source": [
    "### __Double Leading Underscores\n",
    "\n",
    "Two underlines, in the beginning, cause a lot of confusion. This is about syntax rather than a convention. double underscore will mangle the attribute names of a class to avoid conflicts of attribute names between classes.\\\n",
    "__Name mangling: Python interpreter alter the variable name in a way that it is difficult to clash with the names of subclass which inherits parent class.__\n",
    "\n",
    "For example: Any identifier of the form __ geek (at least two leading underscores or at most one trailing underscore) is replaced with _ classname__ geek, where classname is the current class name with a leading underscore(s) stripped."
   ]
  },
  {
   "cell_type": "code",
   "execution_count": null,
   "id": "5a97494b",
   "metadata": {
    "scrolled": true
   },
   "outputs": [],
   "source": [
    "# Python code to illustrate how double\n",
    "# underscore at the beginning works\n",
    "class Geek:\n",
    "    def _single_method(self):\n",
    "        pass\n",
    "    def __double_method(self): # for mangling\n",
    "        pass\n",
    "class Pyth(Geek):\n",
    "    def __double_method(self): # for mangling\n",
    "        pass"
   ]
  },
  {
   "cell_type": "markdown",
   "id": "fdf0ca37",
   "metadata": {},
   "source": [
    "__Double leading and Double trailing underscores__\n",
    "\n",
    "There’s another case of double leading and trailing underscores. We follow this while using special variables or methods (called “magic method”) such as__len__, __init__. These methods provide special syntactic features to the names. Dunder methods are names that are preceded and succeeded by double underscores, hence the name dunder. They are also called magic methods and can help override functionality for built-in functions for custom classes. For example, __file__ indicates the location of the Python file, __eq__ is executed when a == b expression is executed. "
   ]
  },
  {
   "cell_type": "markdown",
   "id": "999a61d5",
   "metadata": {},
   "source": [
    "Things to Remember for dunders\n",
    "\n",
    "    1. Call them “dunders” — Since there is nothing arcane or magical about them. Terminology like “magic” makes them seem much more complicated than they actually are.\n",
    "    2. Implement dunders as desired — It’s a core Python feature and should be used as needed.\n",
    "    3. Inventing our own dunders is highly discouraged — It’s best to stay away from using names that start and end with double underscores in our programs to avoid collisions with our own methods and attributes."
   ]
  },
  {
   "cell_type": "markdown",
   "id": "0756ae63",
   "metadata": {},
   "source": [
    "--------------------"
   ]
  },
  {
   "cell_type": "code",
   "execution_count": null,
   "id": "7920d2bd",
   "metadata": {},
   "outputs": [],
   "source": []
  },
  {
   "cell_type": "code",
   "execution_count": null,
   "id": "fd4a60bb",
   "metadata": {},
   "outputs": [],
   "source": [
    "#Getter and Setter"
   ]
  },
  {
   "cell_type": "code",
   "execution_count": 3,
   "id": "90ec3d73",
   "metadata": {},
   "outputs": [],
   "source": [
    "class student:\n",
    "    def __init__(self):#initializing object means we are creating class specific variable to refer to the valus of object\n",
    "        self.__name=\"\" #1.blank string to inititalize object\n",
    "    def getname(self): #getter\n",
    "        return self.__name #3.returns name when called\n",
    "    def setname(self, name): #setter\n",
    "        self.__name=name#2.sets name passed through the method"
   ]
  },
  {
   "cell_type": "code",
   "execution_count": 4,
   "id": "34b1309a",
   "metadata": {},
   "outputs": [],
   "source": [
    "obj=student()\n",
    "obj.setname('Rohit')\n",
    "name=obj.getname()"
   ]
  },
  {
   "cell_type": "code",
   "execution_count": 5,
   "id": "a379a1d1",
   "metadata": {},
   "outputs": [
    {
     "name": "stdout",
     "output_type": "stream",
     "text": [
      "Rohit\n"
     ]
    }
   ],
   "source": [
    "print(name)"
   ]
  },
  {
   "cell_type": "markdown",
   "id": "faf5dc49",
   "metadata": {},
   "source": [
    "---------------\n"
   ]
  },
  {
   "cell_type": "code",
   "execution_count": 6,
   "id": "730d6c0f",
   "metadata": {},
   "outputs": [],
   "source": [
    "#Encapsulation"
   ]
  },
  {
   "cell_type": "code",
   "execution_count": null,
   "id": "1b10bbd6",
   "metadata": {},
   "outputs": [],
   "source": [
    "#accessing private variable outside the class without initializing"
   ]
  },
  {
   "cell_type": "code",
   "execution_count": 29,
   "id": "ee1b6b0f",
   "metadata": {},
   "outputs": [],
   "source": [
    "class student():\n",
    "    __name='Rohit' # '__' in '__name' or '__variablename' signfies encapsulation\n"
   ]
  },
  {
   "cell_type": "code",
   "execution_count": 30,
   "id": "b92887c9",
   "metadata": {},
   "outputs": [
    {
     "ename": "AttributeError",
     "evalue": "'student' object has no attribute '__name'",
     "output_type": "error",
     "traceback": [
      "\u001b[1;31m---------------------------------------------------------------------------\u001b[0m",
      "\u001b[1;31mAttributeError\u001b[0m                            Traceback (most recent call last)",
      "\u001b[1;32m~\\AppData\\Local\\Temp/ipykernel_14884/75269253.py\u001b[0m in \u001b[0;36m<module>\u001b[1;34m\u001b[0m\n\u001b[0;32m      1\u001b[0m \u001b[0mobj\u001b[0m\u001b[1;33m=\u001b[0m\u001b[0mstudent\u001b[0m\u001b[1;33m(\u001b[0m\u001b[1;33m)\u001b[0m\u001b[1;33m\u001b[0m\u001b[1;33m\u001b[0m\u001b[0m\n\u001b[1;32m----> 2\u001b[1;33m \u001b[0mprint\u001b[0m\u001b[1;33m(\u001b[0m\u001b[0mobj\u001b[0m\u001b[1;33m.\u001b[0m\u001b[0m__name\u001b[0m\u001b[1;33m)\u001b[0m \u001b[1;31m#since obj cannot access __name we get attribue error as it is private to the class only and object cannot access it\u001b[0m\u001b[1;33m\u001b[0m\u001b[1;33m\u001b[0m\u001b[0m\n\u001b[0m\u001b[0;32m      3\u001b[0m                     \u001b[1;31m# without explicity initializing it for the object\u001b[0m\u001b[1;33m\u001b[0m\u001b[1;33m\u001b[0m\u001b[0m\n",
      "\u001b[1;31mAttributeError\u001b[0m: 'student' object has no attribute '__name'"
     ]
    }
   ],
   "source": [
    "obj=student()\n",
    "print(obj.__name) #since obj cannot access __name we get attribue error as it is private to the class only and object cannot access it\n",
    "                    # without explicity initializing it for the object"
   ]
  },
  {
   "cell_type": "code",
   "execution_count": 13,
   "id": "e9bd6c45",
   "metadata": {},
   "outputs": [],
   "source": [
    "#accessing private variable - inside the class (object can call private variable inside the class)\n",
    "class student():\n",
    "    __name='Rohit' # '__' in '__name' or '__variablename' signfies encapsulation\n",
    "    def __init__(self):\n",
    "                print(self.__name)"
   ]
  },
  {
   "cell_type": "code",
   "execution_count": 14,
   "id": "c8ac0bb5",
   "metadata": {},
   "outputs": [
    {
     "name": "stdout",
     "output_type": "stream",
     "text": [
      "Rohit\n"
     ]
    }
   ],
   "source": [
    "obj=student()"
   ]
  },
  {
   "cell_type": "code",
   "execution_count": 15,
   "id": "2d838a12",
   "metadata": {},
   "outputs": [
    {
     "ename": "AttributeError",
     "evalue": "'student' object has no attribute '__name'",
     "output_type": "error",
     "traceback": [
      "\u001b[1;31m---------------------------------------------------------------------------\u001b[0m",
      "\u001b[1;31mAttributeError\u001b[0m                            Traceback (most recent call last)",
      "\u001b[1;32m~\\AppData\\Local\\Temp/ipykernel_8776/2189253194.py\u001b[0m in \u001b[0;36m<module>\u001b[1;34m\u001b[0m\n\u001b[1;32m----> 1\u001b[1;33m \u001b[0mobj\u001b[0m\u001b[1;33m.\u001b[0m\u001b[0m__name\u001b[0m\u001b[1;33m\u001b[0m\u001b[1;33m\u001b[0m\u001b[0m\n\u001b[0m",
      "\u001b[1;31mAttributeError\u001b[0m: 'student' object has no attribute '__name'"
     ]
    }
   ],
   "source": [
    "obj.__name"
   ]
  },
  {
   "cell_type": "code",
   "execution_count": 4,
   "id": "dfa0462a",
   "metadata": {},
   "outputs": [],
   "source": [
    "#accessing private function - outside the class\n",
    "\n",
    "class student():\n",
    "    __name='Rohit' #can only be used inside the class by object\n",
    "    def __init__(self):\n",
    "        print(self.__name) #can only use it inside the class by object\n",
    "        #self.__name =__name - cannot assign it, cannot use it outside class\n",
    "        \n",
    "    def __displayinfo(): #private function can only be used inside the class\n",
    "        print('This is my Kingdom')\n",
    "    "
   ]
  },
  {
   "cell_type": "code",
   "execution_count": 5,
   "id": "151b8fda",
   "metadata": {},
   "outputs": [
    {
     "name": "stdout",
     "output_type": "stream",
     "text": [
      "Rohit\n"
     ]
    }
   ],
   "source": [
    "obj1=student()"
   ]
  },
  {
   "cell_type": "code",
   "execution_count": 6,
   "id": "7bd6eac5",
   "metadata": {
    "scrolled": true
   },
   "outputs": [
    {
     "ename": "AttributeError",
     "evalue": "'student' object has no attribute '__displayinfo'",
     "output_type": "error",
     "traceback": [
      "\u001b[1;31m---------------------------------------------------------------------------\u001b[0m",
      "\u001b[1;31mAttributeError\u001b[0m                            Traceback (most recent call last)",
      "\u001b[1;32m~\\AppData\\Local\\Temp/ipykernel_12224/3774060306.py\u001b[0m in \u001b[0;36m<module>\u001b[1;34m\u001b[0m\n\u001b[1;32m----> 1\u001b[1;33m \u001b[0mobj1\u001b[0m\u001b[1;33m.\u001b[0m\u001b[0m__displayinfo\u001b[0m\u001b[1;33m(\u001b[0m\u001b[1;33m)\u001b[0m\u001b[1;31m#cannot call it outside the class\u001b[0m\u001b[1;33m\u001b[0m\u001b[1;33m\u001b[0m\u001b[0m\n\u001b[0m",
      "\u001b[1;31mAttributeError\u001b[0m: 'student' object has no attribute '__displayinfo'"
     ]
    }
   ],
   "source": [
    "obj1.__displayinfo()#cannot call it outside the class"
   ]
  },
  {
   "cell_type": "markdown",
   "id": "f2793399",
   "metadata": {},
   "source": [
    "### This is the also reason why we make a getter, setter, deleter function private when making a property using property() function"
   ]
  },
  {
   "cell_type": "markdown",
   "id": "2a1f1359",
   "metadata": {},
   "source": [
    "# Accessing private function -  by object with the help of a method."
   ]
  },
  {
   "cell_type": "code",
   "execution_count": 4,
   "id": "a686b91a",
   "metadata": {},
   "outputs": [],
   "source": [
    "\n",
    "\n",
    "class student():\n",
    "    __name='Rohit' #can only be used inside the class\n",
    "    def __init__(self):\n",
    "        print(self.__name) #can only use it inside the class\n",
    "        self.__displayinfo()# can only be called inside the class by object.\n",
    "        \n",
    "    def __displayinfo(self): \n",
    "        print('This is my Kingdom')\n",
    "    \n",
    "    def test_private(self): #accessing a private method inside another method.\n",
    "        return self.__displayinfo()"
   ]
  },
  {
   "cell_type": "code",
   "execution_count": 5,
   "id": "faf3493f",
   "metadata": {},
   "outputs": [
    {
     "name": "stdout",
     "output_type": "stream",
     "text": [
      "Rohit\n",
      "This is my Kingdom\n",
      "This is my Kingdom\n"
     ]
    }
   ],
   "source": [
    "obj1=student()\n",
    "obj1.test_private()"
   ]
  },
  {
   "cell_type": "code",
   "execution_count": null,
   "id": "94d211ef",
   "metadata": {},
   "outputs": [],
   "source": []
  }
 ],
 "metadata": {
  "kernelspec": {
   "display_name": "Python 3 (ipykernel)",
   "language": "python",
   "name": "python3"
  },
  "language_info": {
   "codemirror_mode": {
    "name": "ipython",
    "version": 3
   },
   "file_extension": ".py",
   "mimetype": "text/x-python",
   "name": "python",
   "nbconvert_exporter": "python",
   "pygments_lexer": "ipython3",
   "version": "3.9.7"
  }
 },
 "nbformat": 4,
 "nbformat_minor": 5
}
