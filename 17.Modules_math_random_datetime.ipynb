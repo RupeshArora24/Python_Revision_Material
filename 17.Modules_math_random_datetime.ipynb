{
 "cells": [
  {
   "cell_type": "code",
   "execution_count": 1,
   "id": "0fa77154",
   "metadata": {},
   "outputs": [],
   "source": [
    "#modules-libraries\n"
   ]
  },
  {
   "cell_type": "code",
   "execution_count": 2,
   "id": "f9156664",
   "metadata": {},
   "outputs": [],
   "source": [
    "import math"
   ]
  },
  {
   "cell_type": "code",
   "execution_count": 3,
   "id": "cb17d163",
   "metadata": {},
   "outputs": [],
   "source": [
    "x=11.2"
   ]
  },
  {
   "cell_type": "code",
   "execution_count": 5,
   "id": "a0fa298c",
   "metadata": {},
   "outputs": [
    {
     "name": "stdout",
     "output_type": "stream",
     "text": [
      "12\n"
     ]
    }
   ],
   "source": [
    "print(math.ceil(x)) #returns next nearest integer"
   ]
  },
  {
   "cell_type": "code",
   "execution_count": 7,
   "id": "b834d2f1",
   "metadata": {},
   "outputs": [
    {
     "name": "stdout",
     "output_type": "stream",
     "text": [
      "11.0\n"
     ]
    }
   ],
   "source": [
    "print(math.fabs(-11)) #returns positive value or absolute value"
   ]
  },
  {
   "cell_type": "code",
   "execution_count": 8,
   "id": "333fa7fa",
   "metadata": {},
   "outputs": [
    {
     "name": "stdout",
     "output_type": "stream",
     "text": [
      "120\n"
     ]
    }
   ],
   "source": [
    "print(math.factorial(5)) #returns factorial"
   ]
  },
  {
   "cell_type": "code",
   "execution_count": 10,
   "id": "41c13544",
   "metadata": {},
   "outputs": [
    {
     "name": "stdout",
     "output_type": "stream",
     "text": [
      "10\n"
     ]
    }
   ],
   "source": [
    "print(math.floor(10.5)) #returns previous nearest integer "
   ]
  },
  {
   "cell_type": "code",
   "execution_count": 12,
   "id": "4e995b7f",
   "metadata": {},
   "outputs": [
    {
     "data": {
      "text/plain": [
       "15.0"
      ]
     },
     "execution_count": 12,
     "metadata": {},
     "output_type": "execute_result"
    }
   ],
   "source": [
    "l=[1,2,3,4,5]\n",
    "math.fsum(l) #add all the elements of an iterable like list, tuple, array containing int, float"
   ]
  },
  {
   "cell_type": "code",
   "execution_count": 20,
   "id": "033488a8",
   "metadata": {},
   "outputs": [
    {
     "data": {
      "text/plain": [
       "15.0"
      ]
     },
     "execution_count": 20,
     "metadata": {},
     "output_type": "execute_result"
    }
   ],
   "source": [
    "t=list(range(1,6))\n",
    "math.fsum(t)"
   ]
  },
  {
   "cell_type": "code",
   "execution_count": 21,
   "id": "9c7e33c0",
   "metadata": {},
   "outputs": [
    {
     "data": {
      "text/plain": [
       "5.0"
      ]
     },
     "execution_count": 21,
     "metadata": {},
     "output_type": "execute_result"
    }
   ],
   "source": [
    "math.sqrt(25)"
   ]
  },
  {
   "cell_type": "markdown",
   "id": "0ac364b9",
   "metadata": {},
   "source": [
    "-------------------------"
   ]
  },
  {
   "cell_type": "code",
   "execution_count": 22,
   "id": "c3761066",
   "metadata": {},
   "outputs": [],
   "source": [
    "#random module"
   ]
  },
  {
   "cell_type": "code",
   "execution_count": 1,
   "id": "59abe406",
   "metadata": {},
   "outputs": [],
   "source": [
    "import random"
   ]
  },
  {
   "cell_type": "code",
   "execution_count": 25,
   "id": "5eb3f59b",
   "metadata": {},
   "outputs": [
    {
     "data": {
      "text/plain": [
       "5"
      ]
     },
     "execution_count": 25,
     "metadata": {},
     "output_type": "execute_result"
    }
   ],
   "source": [
    "random.randint(5,10) #gives a random betweent the specified value including both boundaries"
   ]
  },
  {
   "cell_type": "code",
   "execution_count": 30,
   "id": "6341c366",
   "metadata": {},
   "outputs": [
    {
     "data": {
      "text/plain": [
       "9"
      ]
     },
     "execution_count": 30,
     "metadata": {},
     "output_type": "execute_result"
    }
   ],
   "source": [
    "random.randrange(5,10) #gives random and works just lik range, extreme boundary is not included"
   ]
  },
  {
   "cell_type": "code",
   "execution_count": 3,
   "id": "b375b021",
   "metadata": {},
   "outputs": [],
   "source": [
    "string='This is my Kingdom'\n",
    "l=[1,2,3,4,5]"
   ]
  },
  {
   "cell_type": "code",
   "execution_count": 35,
   "id": "9656ddb2",
   "metadata": {},
   "outputs": [
    {
     "name": "stdout",
     "output_type": "stream",
     "text": [
      "n\n",
      "3\n"
     ]
    }
   ],
   "source": [
    "print(random.choice(string))\n",
    "print(random.choice(l))"
   ]
  },
  {
   "cell_type": "code",
   "execution_count": 39,
   "id": "3ff809af",
   "metadata": {},
   "outputs": [
    {
     "data": {
      "text/plain": [
       "[4, 4]"
      ]
     },
     "execution_count": 39,
     "metadata": {},
     "output_type": "execute_result"
    }
   ],
   "source": [
    "random.choices(l,k=2)#returns a lsit of size k ,sampling is done with replacement"
   ]
  },
  {
   "cell_type": "code",
   "execution_count": 40,
   "id": "e38a558e",
   "metadata": {},
   "outputs": [
    {
     "data": {
      "text/plain": [
       "0.8235559123373232"
      ]
     },
     "execution_count": 40,
     "metadata": {},
     "output_type": "execute_result"
    }
   ],
   "source": [
    "random.random()#returns a float between 0 and 1"
   ]
  },
  {
   "cell_type": "code",
   "execution_count": 43,
   "id": "fc3fd051",
   "metadata": {},
   "outputs": [
    {
     "data": {
      "text/plain": [
       "[5, 3, 2, 1, 4]"
      ]
     },
     "execution_count": 43,
     "metadata": {},
     "output_type": "execute_result"
    }
   ],
   "source": [
    "random.shuffle(l) # suffles randomly\n",
    "l"
   ]
  },
  {
   "cell_type": "code",
   "execution_count": 45,
   "id": "13b5dfad",
   "metadata": {},
   "outputs": [
    {
     "data": {
      "text/plain": [
       "3.3722678668172663"
      ]
     },
     "execution_count": 45,
     "metadata": {},
     "output_type": "execute_result"
    }
   ],
   "source": [
    "random.uniform(3,9) #returns a random floar including the extreme"
   ]
  },
  {
   "cell_type": "code",
   "execution_count": 5,
   "id": "2686f0ab",
   "metadata": {},
   "outputs": [
    {
     "data": {
      "text/plain": [
       "[3, 2]"
      ]
     },
     "execution_count": 5,
     "metadata": {},
     "output_type": "execute_result"
    }
   ],
   "source": [
    "random.sample(l,2) #sampling is done without replacement0"
   ]
  },
  {
   "cell_type": "markdown",
   "id": "2664e3cd",
   "metadata": {},
   "source": [
    "-----------------"
   ]
  },
  {
   "cell_type": "code",
   "execution_count": 46,
   "id": "2284721c",
   "metadata": {},
   "outputs": [],
   "source": [
    "#datetime"
   ]
  },
  {
   "cell_type": "code",
   "execution_count": 2,
   "id": "9316cbfa",
   "metadata": {},
   "outputs": [],
   "source": [
    "import datetime"
   ]
  },
  {
   "cell_type": "code",
   "execution_count": 7,
   "id": "fe72029d",
   "metadata": {},
   "outputs": [],
   "source": [
    "j=datetime.datetime.now()"
   ]
  },
  {
   "cell_type": "code",
   "execution_count": 8,
   "id": "42f94c20",
   "metadata": {},
   "outputs": [
    {
     "data": {
      "text/plain": [
       "datetime.datetime(2022, 6, 24, 9, 46, 22, 32813)"
      ]
     },
     "execution_count": 8,
     "metadata": {},
     "output_type": "execute_result"
    }
   ],
   "source": [
    "j"
   ]
  },
  {
   "cell_type": "code",
   "execution_count": 5,
   "id": "d11e8923",
   "metadata": {},
   "outputs": [],
   "source": [
    " #creating custom date\n",
    "x=datetime.datetime(2018,1,28)"
   ]
  },
  {
   "cell_type": "code",
   "execution_count": 6,
   "id": "c65fac91",
   "metadata": {},
   "outputs": [
    {
     "data": {
      "text/plain": [
       "datetime.datetime(2018, 1, 28, 0, 0)"
      ]
     },
     "execution_count": 6,
     "metadata": {},
     "output_type": "execute_result"
    }
   ],
   "source": [
    "x"
   ]
  },
  {
   "cell_type": "code",
   "execution_count": 11,
   "id": "ce74f2e5",
   "metadata": {},
   "outputs": [
    {
     "data": {
      "text/plain": [
       "'2018'"
      ]
     },
     "execution_count": 11,
     "metadata": {},
     "output_type": "execute_result"
    }
   ],
   "source": [
    "m=x.strftime('%Y') #string from time\n",
    "m"
   ]
  },
  {
   "cell_type": "code",
   "execution_count": 12,
   "id": "5aba28ca",
   "metadata": {},
   "outputs": [],
   "source": [
    "n=x.strftime('%B')"
   ]
  },
  {
   "cell_type": "code",
   "execution_count": 13,
   "id": "cb974fc7",
   "metadata": {},
   "outputs": [
    {
     "data": {
      "text/plain": [
       "'January'"
      ]
     },
     "execution_count": 13,
     "metadata": {},
     "output_type": "execute_result"
    }
   ],
   "source": [
    "n"
   ]
  },
  {
   "cell_type": "code",
   "execution_count": 14,
   "id": "88a75722",
   "metadata": {},
   "outputs": [],
   "source": [
    "#many parameters are there....need to check documentaion"
   ]
  },
  {
   "cell_type": "code",
   "execution_count": null,
   "id": "887ac655",
   "metadata": {},
   "outputs": [],
   "source": []
  }
 ],
 "metadata": {
  "kernelspec": {
   "display_name": "Python 3 (ipykernel)",
   "language": "python",
   "name": "python3"
  },
  "language_info": {
   "codemirror_mode": {
    "name": "ipython",
    "version": 3
   },
   "file_extension": ".py",
   "mimetype": "text/x-python",
   "name": "python",
   "nbconvert_exporter": "python",
   "pygments_lexer": "ipython3",
   "version": "3.9.7"
  }
 },
 "nbformat": 4,
 "nbformat_minor": 5
}
