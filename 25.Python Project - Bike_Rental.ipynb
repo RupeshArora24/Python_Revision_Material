{
 "cells": [
  {
   "cell_type": "code",
   "execution_count": 1,
   "id": "f88cadd1",
   "metadata": {},
   "outputs": [],
   "source": [
    "#Bike Rental System"
   ]
  },
  {
   "cell_type": "code",
   "execution_count": 6,
   "id": "7fc8a262",
   "metadata": {},
   "outputs": [],
   "source": [
    "class bikeshop:\n",
    "    y=10\n",
    "    def __init__(self,stock=100):\n",
    "        self.stock=stock\n",
    "    \n",
    "    def displaybikes(self):\n",
    "        print(\"Total Bikes: \",self.stock)\n",
    "    \n",
    "    def rentforbikes(self,q):\n",
    "        if self.stock==0:\n",
    "            print('Out of stock')\n",
    "        else:\n",
    "            if q<=0:\n",
    "                print('Enter positive value')\n",
    "            if q>self.stock:\n",
    "                print('Enter the less than or equal to: ',self.stock)\n",
    "            else:\n",
    "                print('Total cost of renting',q,'bikes:',q*100) #cost of rent one bike=100\n",
    "                print('Total stock left: ',self.stock-q)\n",
    "                self.stock=self.stock-r #update stock\n",
    "                \n",
    "    def updatestock(self,s):\n",
    "        self.stock=self.stock+s\n",
    "        print('New updated stock: ',self.stock)  \n",
    "        \n",
    "        "
   ]
  },
  {
   "cell_type": "code",
   "execution_count": 7,
   "id": "d4cf9929",
   "metadata": {},
   "outputs": [
    {
     "name": "stdout",
     "output_type": "stream",
     "text": [
      "\n",
      "    1. Display Stock\n",
      "    2. Rent Bikes\n",
      "    3. Update Stock\n",
      "    4. Exit\n",
      "    Choice: 4\n",
      "Exiting\n"
     ]
    }
   ],
   "source": [
    "\n",
    "obj=bikeshop(100)    #creating stock while creating a stock\n",
    "\n",
    "while(True):\n",
    "    \n",
    "    #user_choice\n",
    "    uc=int(input('''\n",
    "    1. Display Stock\n",
    "    2. Rent Bikes\n",
    "    3. Update Stock\n",
    "    4. Exit\n",
    "    Choice: '''))\n",
    "    \n",
    "    if uc==1:\n",
    "        obj.displaybikes()\n",
    "                \n",
    "    elif uc==2:\n",
    "        if obj.stock==0:\n",
    "            print('Out of Stock')\n",
    "        else:\n",
    "            r=int(input('Enter number of bikes to rent: '))\n",
    "            obj.rentforbikes(r)\n",
    "        \n",
    "    elif uc==3:\n",
    "        u=int(input('Enter the quantity to add to stock: '))\n",
    "        obj.updatestock(u)\n",
    "            \n",
    "    elif uc==4:\n",
    "        print('Exiting')\n",
    "        break;\n",
    "        \n",
    "    else:\n",
    "        print('Invalid input, exiting.')\n",
    "        break;\n",
    "    \n"
   ]
  },
  {
   "cell_type": "code",
   "execution_count": 4,
   "id": "708a0f3c",
   "metadata": {},
   "outputs": [
    {
     "data": {
      "text/plain": [
       "['__class__',\n",
       " '__delattr__',\n",
       " '__dict__',\n",
       " '__dir__',\n",
       " '__doc__',\n",
       " '__eq__',\n",
       " '__format__',\n",
       " '__ge__',\n",
       " '__getattribute__',\n",
       " '__gt__',\n",
       " '__hash__',\n",
       " '__init__',\n",
       " '__init_subclass__',\n",
       " '__le__',\n",
       " '__lt__',\n",
       " '__module__',\n",
       " '__ne__',\n",
       " '__new__',\n",
       " '__reduce__',\n",
       " '__reduce_ex__',\n",
       " '__repr__',\n",
       " '__setattr__',\n",
       " '__sizeof__',\n",
       " '__str__',\n",
       " '__subclasshook__',\n",
       " '__weakref__',\n",
       " 'displaybikes',\n",
       " 'rentforbikes',\n",
       " 'stock',\n",
       " 'updatestock']"
      ]
     },
     "execution_count": 4,
     "metadata": {},
     "output_type": "execute_result"
    }
   ],
   "source": [
    "dir(obj)#returns a list of properties and methods of an object"
   ]
  },
  {
   "cell_type": "code",
   "execution_count": 9,
   "id": "a047e207",
   "metadata": {},
   "outputs": [
    {
     "data": {
      "text/plain": [
       "100"
      ]
     },
     "execution_count": 9,
     "metadata": {},
     "output_type": "execute_result"
    }
   ],
   "source": [
    "getattr(obj,'stock') #is same as obj.stock"
   ]
  },
  {
   "cell_type": "code",
   "execution_count": 13,
   "id": "cbd9cd7c",
   "metadata": {},
   "outputs": [
    {
     "data": {
      "text/plain": [
       "True"
      ]
     },
     "execution_count": 13,
     "metadata": {},
     "output_type": "execute_result"
    }
   ],
   "source": [
    "hasattr(obj,'stock')"
   ]
  },
  {
   "cell_type": "code",
   "execution_count": 16,
   "id": "09b3bf42",
   "metadata": {},
   "outputs": [
    {
     "data": {
      "text/plain": [
       "100"
      ]
     },
     "execution_count": 16,
     "metadata": {},
     "output_type": "execute_result"
    }
   ],
   "source": [
    "hash(obj.stock)"
   ]
  },
  {
   "cell_type": "code",
   "execution_count": 18,
   "id": "51d8b1f7",
   "metadata": {},
   "outputs": [
    {
     "data": {
      "text/plain": [
       "10.14"
      ]
     },
     "execution_count": 18,
     "metadata": {},
     "output_type": "execute_result"
    }
   ],
   "source": [
    "float('10.14')"
   ]
  },
  {
   "cell_type": "code",
   "execution_count": 19,
   "id": "b5eded5a",
   "metadata": {},
   "outputs": [
    {
     "data": {
      "text/plain": [
       "20"
      ]
     },
     "execution_count": 19,
     "metadata": {},
     "output_type": "execute_result"
    }
   ],
   "source": [
    "int(20.29)"
   ]
  },
  {
   "cell_type": "code",
   "execution_count": 27,
   "id": "49909c9e",
   "metadata": {},
   "outputs": [
    {
     "ename": "TypeError",
     "evalue": "iter(v, w): v must be callable",
     "output_type": "error",
     "traceback": [
      "\u001b[1;31m---------------------------------------------------------------------------\u001b[0m",
      "\u001b[1;31mTypeError\u001b[0m                                 Traceback (most recent call last)",
      "\u001b[1;32m~\\AppData\\Local\\Temp/ipykernel_11644/3017399150.py\u001b[0m in \u001b[0;36m<module>\u001b[1;34m\u001b[0m\n\u001b[0;32m      1\u001b[0m \u001b[0ml\u001b[0m\u001b[1;33m=\u001b[0m\u001b[1;33m[\u001b[0m\u001b[1;36m1\u001b[0m\u001b[1;33m,\u001b[0m\u001b[1;36m2\u001b[0m\u001b[1;33m,\u001b[0m\u001b[1;36m3\u001b[0m\u001b[1;33m,\u001b[0m\u001b[1;36m4\u001b[0m\u001b[1;33m,\u001b[0m\u001b[1;36m5\u001b[0m\u001b[1;33m,\u001b[0m\u001b[1;36m6\u001b[0m\u001b[1;33m]\u001b[0m\u001b[1;33m\u001b[0m\u001b[1;33m\u001b[0m\u001b[0m\n\u001b[1;32m----> 2\u001b[1;33m \u001b[0mt\u001b[0m\u001b[1;33m=\u001b[0m\u001b[0miter\u001b[0m\u001b[1;33m(\u001b[0m\u001b[0ml\u001b[0m\u001b[1;33m,\u001b[0m\u001b[1;36m6\u001b[0m\u001b[1;33m)\u001b[0m\u001b[1;33m\u001b[0m\u001b[1;33m\u001b[0m\u001b[0m\n\u001b[0m",
      "\u001b[1;31mTypeError\u001b[0m: iter(v, w): v must be callable"
     ]
    }
   ],
   "source": [
    "l=[1,2,3,4,5,6]\n",
    "t=iter(l,6)"
   ]
  },
  {
   "cell_type": "code",
   "execution_count": 35,
   "id": "ec23ccf5",
   "metadata": {},
   "outputs": [
    {
     "name": "stdout",
     "output_type": "stream",
     "text": [
      "2410213239040\n",
      "2410209835984\n"
     ]
    },
    {
     "data": {
      "text/plain": [
       "<memory at 0x000002312DD287C0>"
      ]
     },
     "execution_count": 35,
     "metadata": {},
     "output_type": "execute_result"
    }
   ],
   "source": [
    "print(id(l))\n",
    "print(id(bytes(l)))\n",
    "memoryview(bytes(l))"
   ]
  },
  {
   "cell_type": "code",
   "execution_count": 25,
   "id": "0f959ed0",
   "metadata": {},
   "outputs": [
    {
     "name": "stdout",
     "output_type": "stream",
     "text": [
      "2\n",
      "3\n",
      "4\n"
     ]
    }
   ],
   "source": [
    "print(next(t))\n",
    "print(next(t))\n",
    "print(next(t))"
   ]
  }
 ],
 "metadata": {
  "kernelspec": {
   "display_name": "Python 3 (ipykernel)",
   "language": "python",
   "name": "python3"
  },
  "language_info": {
   "codemirror_mode": {
    "name": "ipython",
    "version": 3
   },
   "file_extension": ".py",
   "mimetype": "text/x-python",
   "name": "python",
   "nbconvert_exporter": "python",
   "pygments_lexer": "ipython3",
   "version": "3.9.7"
  }
 },
 "nbformat": 4,
 "nbformat_minor": 5
}
