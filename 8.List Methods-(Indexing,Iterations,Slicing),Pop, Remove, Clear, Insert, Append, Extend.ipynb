{
 "cells": [
  {
   "cell_type": "code",
   "execution_count": 1,
   "id": "0d237c3f",
   "metadata": {},
   "outputs": [],
   "source": [
    "#list - can hold any type of value (list,text,numbers,dictionary,tuple,set)"
   ]
  },
  {
   "cell_type": "code",
   "execution_count": 2,
   "id": "e20570e4",
   "metadata": {},
   "outputs": [],
   "source": [
    "l=[1,'num',(1,2,3),{1,2}]"
   ]
  },
  {
   "cell_type": "code",
   "execution_count": 3,
   "id": "9e98b0d1",
   "metadata": {},
   "outputs": [
    {
     "data": {
      "text/plain": [
       "(1, 2, 3)"
      ]
     },
     "execution_count": 3,
     "metadata": {},
     "output_type": "execute_result"
    }
   ],
   "source": [
    "l[2]"
   ]
  },
  {
   "cell_type": "code",
   "execution_count": 4,
   "id": "4ba1d9b9",
   "metadata": {},
   "outputs": [
    {
     "data": {
      "text/plain": [
       "2"
      ]
     },
     "execution_count": 4,
     "metadata": {},
     "output_type": "execute_result"
    }
   ],
   "source": [
    "l[2][1]"
   ]
  },
  {
   "cell_type": "code",
   "execution_count": 5,
   "id": "6eb3d28c",
   "metadata": {},
   "outputs": [
    {
     "data": {
      "text/plain": [
       "['num', (1, 2, 3), {1, 2}]"
      ]
     },
     "execution_count": 5,
     "metadata": {},
     "output_type": "execute_result"
    }
   ],
   "source": [
    "l[1:4]"
   ]
  },
  {
   "cell_type": "code",
   "execution_count": 6,
   "id": "f7fa0c7e",
   "metadata": {},
   "outputs": [],
   "source": [
    "l[2]=2"
   ]
  },
  {
   "cell_type": "code",
   "execution_count": 7,
   "id": "39f12de5",
   "metadata": {},
   "outputs": [
    {
     "data": {
      "text/plain": [
       "[1, 'num', 2, {1, 2}]"
      ]
     },
     "execution_count": 7,
     "metadata": {},
     "output_type": "execute_result"
    }
   ],
   "source": [
    "l"
   ]
  },
  {
   "cell_type": "code",
   "execution_count": 8,
   "id": "da738aa1",
   "metadata": {},
   "outputs": [],
   "source": [
    "l[3]=3"
   ]
  },
  {
   "cell_type": "code",
   "execution_count": 9,
   "id": "06fd4341",
   "metadata": {},
   "outputs": [
    {
     "data": {
      "text/plain": [
       "[1, 'num', 2, 3]"
      ]
     },
     "execution_count": 9,
     "metadata": {},
     "output_type": "execute_result"
    }
   ],
   "source": [
    "l"
   ]
  },
  {
   "cell_type": "markdown",
   "id": "e2c9610d",
   "metadata": {},
   "source": [
    "--------------\n"
   ]
  },
  {
   "cell_type": "code",
   "execution_count": 10,
   "id": "1d9a849c",
   "metadata": {},
   "outputs": [],
   "source": [
    "my_list=[1,2,3,4,5,6,7,8]"
   ]
  },
  {
   "cell_type": "code",
   "execution_count": 11,
   "id": "2f84219b",
   "metadata": {},
   "outputs": [
    {
     "data": {
      "text/plain": [
       "[8, 7, 6, 5, 4, 3, 2, 1]"
      ]
     },
     "execution_count": 11,
     "metadata": {},
     "output_type": "execute_result"
    }
   ],
   "source": [
    "my_list[7::-1] #when you know the index"
   ]
  },
  {
   "cell_type": "code",
   "execution_count": 12,
   "id": "bc1dc223",
   "metadata": {},
   "outputs": [
    {
     "data": {
      "text/plain": [
       "[8, 7, 6, 5, 4, 3, 2, 1]"
      ]
     },
     "execution_count": 12,
     "metadata": {},
     "output_type": "execute_result"
    }
   ],
   "source": [
    "my_list[-1::-1] # when you don't know the index"
   ]
  },
  {
   "cell_type": "code",
   "execution_count": 13,
   "id": "bd194c15",
   "metadata": {},
   "outputs": [
    {
     "data": {
      "text/plain": [
       "[8, 6, 4, 2]"
      ]
     },
     "execution_count": 13,
     "metadata": {},
     "output_type": "execute_result"
    }
   ],
   "source": [
    "my_list[-1::-2]"
   ]
  },
  {
   "cell_type": "markdown",
   "id": "4c68ad9f",
   "metadata": {},
   "source": [
    "-----------------------"
   ]
  },
  {
   "cell_type": "code",
   "execution_count": 14,
   "id": "aeec5bf8",
   "metadata": {},
   "outputs": [],
   "source": [
    "#lsit iteration\n"
   ]
  },
  {
   "cell_type": "code",
   "execution_count": 15,
   "id": "a4b272c4",
   "metadata": {},
   "outputs": [
    {
     "name": "stdout",
     "output_type": "stream",
     "text": [
      "1\n",
      "2\n",
      "3\n",
      "4\n",
      "5\n",
      "6\n",
      "7\n",
      "8\n"
     ]
    }
   ],
   "source": [
    "for i in my_list:\n",
    "    print(i)"
   ]
  },
  {
   "cell_type": "code",
   "execution_count": 16,
   "id": "b1f56d65",
   "metadata": {},
   "outputs": [
    {
     "name": "stdout",
     "output_type": "stream",
     "text": [
      "8\n",
      "7\n",
      "6\n",
      "5\n",
      "4\n",
      "3\n",
      "2\n",
      "1\n"
     ]
    }
   ],
   "source": [
    "for i in range(len(my_list)-1,-1,-1):\n",
    "    print(my_list[i])"
   ]
  },
  {
   "cell_type": "markdown",
   "id": "1309f706",
   "metadata": {},
   "source": [
    "-----------------\n"
   ]
  },
  {
   "cell_type": "code",
   "execution_count": 17,
   "id": "643f8a80",
   "metadata": {},
   "outputs": [],
   "source": [
    "#list functions for delete or remove\n",
    "#del      - only useful of list, deletes element of given index value\n",
    "#remove() - removes element of given value\n",
    "#pop()    - removes element from given index value and gives the removed element as output\n",
    "#clear()  - clears entire list"
   ]
  },
  {
   "cell_type": "code",
   "execution_count": 18,
   "id": "e41fc457",
   "metadata": {},
   "outputs": [],
   "source": [
    "l=[1,2,3,4,5,6,7,8,9,10]\n"
   ]
  },
  {
   "cell_type": "code",
   "execution_count": 19,
   "id": "78cb8c30",
   "metadata": {},
   "outputs": [],
   "source": [
    "del l[1]"
   ]
  },
  {
   "cell_type": "code",
   "execution_count": 20,
   "id": "fd9f141e",
   "metadata": {},
   "outputs": [
    {
     "data": {
      "text/plain": [
       "[1, 3, 4, 5, 6, 7, 8, 9, 10]"
      ]
     },
     "execution_count": 20,
     "metadata": {},
     "output_type": "execute_result"
    }
   ],
   "source": [
    "l"
   ]
  },
  {
   "cell_type": "code",
   "execution_count": 21,
   "id": "115719e5",
   "metadata": {},
   "outputs": [
    {
     "data": {
      "text/plain": [
       "3"
      ]
     },
     "execution_count": 21,
     "metadata": {},
     "output_type": "execute_result"
    }
   ],
   "source": [
    " l.pop(1)"
   ]
  },
  {
   "cell_type": "code",
   "execution_count": 22,
   "id": "eba2a2dc",
   "metadata": {},
   "outputs": [
    {
     "name": "stdout",
     "output_type": "stream",
     "text": [
      "[1, 4, 5, 6, 7, 8, 9, 10]\n"
     ]
    }
   ],
   "source": [
    "print(l)"
   ]
  },
  {
   "cell_type": "code",
   "execution_count": 23,
   "id": "a9bbbfcb",
   "metadata": {},
   "outputs": [],
   "source": [
    "l.remove(10)"
   ]
  },
  {
   "cell_type": "code",
   "execution_count": 24,
   "id": "a8602d36",
   "metadata": {},
   "outputs": [
    {
     "data": {
      "text/plain": [
       "[1, 4, 5, 6, 7, 8, 9]"
      ]
     },
     "execution_count": 24,
     "metadata": {},
     "output_type": "execute_result"
    }
   ],
   "source": [
    "l"
   ]
  },
  {
   "cell_type": "code",
   "execution_count": 25,
   "id": "1beedd5d",
   "metadata": {},
   "outputs": [],
   "source": [
    "l.clear()"
   ]
  },
  {
   "cell_type": "code",
   "execution_count": 26,
   "id": "52bdafbd",
   "metadata": {},
   "outputs": [
    {
     "data": {
      "text/plain": [
       "[]"
      ]
     },
     "execution_count": 26,
     "metadata": {},
     "output_type": "execute_result"
    }
   ],
   "source": [
    "l"
   ]
  },
  {
   "cell_type": "markdown",
   "id": "c9a776c2",
   "metadata": {},
   "source": [
    "------------------"
   ]
  },
  {
   "cell_type": "code",
   "execution_count": 27,
   "id": "f8900df4",
   "metadata": {},
   "outputs": [],
   "source": [
    "#list functions for updating list\n",
    "#insert(index,element) - inserts elements in list, if index givenis out of bounds then element is entered in last\n",
    "#append(element) - add elements to the end of list as they are, if list is put in argument then list is appended as it is\n",
    "#extend([element]) - add elements to the end as extension to original list, if list is passed then it breaks it down to elements then extends the original"
   ]
  },
  {
   "cell_type": "code",
   "execution_count": 28,
   "id": "fde97353",
   "metadata": {},
   "outputs": [],
   "source": [
    "k=[10,20,30,40,50]"
   ]
  },
  {
   "cell_type": "code",
   "execution_count": 29,
   "id": "19b5a703",
   "metadata": {},
   "outputs": [],
   "source": [
    "k.insert(4,60)"
   ]
  },
  {
   "cell_type": "code",
   "execution_count": 30,
   "id": "1de4c61b",
   "metadata": {},
   "outputs": [
    {
     "data": {
      "text/plain": [
       "[10, 20, 30, 40, 60, 50]"
      ]
     },
     "execution_count": 30,
     "metadata": {},
     "output_type": "execute_result"
    }
   ],
   "source": [
    "k"
   ]
  },
  {
   "cell_type": "code",
   "execution_count": 31,
   "id": "671eb9e8",
   "metadata": {},
   "outputs": [],
   "source": [
    "k.insert(6,70)"
   ]
  },
  {
   "cell_type": "code",
   "execution_count": 32,
   "id": "54546673",
   "metadata": {},
   "outputs": [
    {
     "data": {
      "text/plain": [
       "[10, 20, 30, 40, 60, 50, 70]"
      ]
     },
     "execution_count": 32,
     "metadata": {},
     "output_type": "execute_result"
    }
   ],
   "source": [
    "k"
   ]
  },
  {
   "cell_type": "code",
   "execution_count": 33,
   "id": "6d8b1b23",
   "metadata": {},
   "outputs": [],
   "source": [
    "k.insert(9,70)"
   ]
  },
  {
   "cell_type": "code",
   "execution_count": 34,
   "id": "194451b8",
   "metadata": {},
   "outputs": [
    {
     "data": {
      "text/plain": [
       "[10, 20, 30, 40, 60, 50, 70, 70]"
      ]
     },
     "execution_count": 34,
     "metadata": {},
     "output_type": "execute_result"
    }
   ],
   "source": [
    "k"
   ]
  },
  {
   "cell_type": "code",
   "execution_count": 35,
   "id": "76388626",
   "metadata": {},
   "outputs": [],
   "source": [
    "k.insert(11,80)"
   ]
  },
  {
   "cell_type": "code",
   "execution_count": 36,
   "id": "e88847f4",
   "metadata": {},
   "outputs": [
    {
     "data": {
      "text/plain": [
       "[10, 20, 30, 40, 60, 50, 70, 70, 80]"
      ]
     },
     "execution_count": 36,
     "metadata": {},
     "output_type": "execute_result"
    }
   ],
   "source": [
    "k"
   ]
  },
  {
   "cell_type": "code",
   "execution_count": 37,
   "id": "cd2ffd8a",
   "metadata": {},
   "outputs": [],
   "source": [
    "k.insert(17,90)"
   ]
  },
  {
   "cell_type": "code",
   "execution_count": 38,
   "id": "cdacddd8",
   "metadata": {},
   "outputs": [
    {
     "data": {
      "text/plain": [
       "[10, 20, 30, 40, 60, 50, 70, 70, 80, 90]"
      ]
     },
     "execution_count": 38,
     "metadata": {},
     "output_type": "execute_result"
    }
   ],
   "source": [
    "k"
   ]
  },
  {
   "cell_type": "markdown",
   "id": "7dc2f8a4",
   "metadata": {},
   "source": [
    "----------------"
   ]
  },
  {
   "cell_type": "code",
   "execution_count": 3,
   "id": "008ae243",
   "metadata": {},
   "outputs": [],
   "source": [
    "m=[1,2,3,4,5]"
   ]
  },
  {
   "cell_type": "code",
   "execution_count": 4,
   "id": "cc8a81b5",
   "metadata": {},
   "outputs": [],
   "source": [
    "m.append(6)"
   ]
  },
  {
   "cell_type": "code",
   "execution_count": 5,
   "id": "1f895e71",
   "metadata": {},
   "outputs": [
    {
     "data": {
      "text/plain": [
       "[1, 2, 3, 4, 5, 6]"
      ]
     },
     "execution_count": 5,
     "metadata": {},
     "output_type": "execute_result"
    }
   ],
   "source": [
    "m"
   ]
  },
  {
   "cell_type": "code",
   "execution_count": 6,
   "id": "5f234e13",
   "metadata": {},
   "outputs": [],
   "source": [
    "m.append([7,8])"
   ]
  },
  {
   "cell_type": "code",
   "execution_count": 7,
   "id": "8dd73aa9",
   "metadata": {},
   "outputs": [
    {
     "data": {
      "text/plain": [
       "[1, 2, 3, 4, 5, 6, [7, 8]]"
      ]
     },
     "execution_count": 7,
     "metadata": {},
     "output_type": "execute_result"
    }
   ],
   "source": [
    "m"
   ]
  },
  {
   "cell_type": "markdown",
   "id": "8dc9e513",
   "metadata": {},
   "source": [
    "----------"
   ]
  },
  {
   "cell_type": "code",
   "execution_count": 8,
   "id": "2b6786ea",
   "metadata": {},
   "outputs": [],
   "source": [
    "m.extend([9,10])"
   ]
  },
  {
   "cell_type": "code",
   "execution_count": 9,
   "id": "c47e3640",
   "metadata": {},
   "outputs": [
    {
     "data": {
      "text/plain": [
       "[1, 2, 3, 4, 5, 6, [7, 8], 9, 10]"
      ]
     },
     "execution_count": 9,
     "metadata": {},
     "output_type": "execute_result"
    }
   ],
   "source": [
    "m"
   ]
  },
  {
   "cell_type": "code",
   "execution_count": 10,
   "id": "4f96059f",
   "metadata": {},
   "outputs": [
    {
     "data": {
      "text/plain": [
       "[1, 2, 3, 4, 5, 6, [7, 8], 9, 10, 'test']"
      ]
     },
     "execution_count": 10,
     "metadata": {},
     "output_type": "execute_result"
    }
   ],
   "source": [
    "m.append('test')\n",
    "m"
   ]
  },
  {
   "cell_type": "code",
   "execution_count": 11,
   "id": "90cec291",
   "metadata": {},
   "outputs": [
    {
     "data": {
      "text/plain": [
       "[1, 2, 3, 4, 5, 6, [7, 8], 9, 10, 'test', ['apple', 11]]"
      ]
     },
     "execution_count": 11,
     "metadata": {},
     "output_type": "execute_result"
    }
   ],
   "source": [
    "m.append(['apple',11])\n",
    "m"
   ]
  },
  {
   "cell_type": "code",
   "execution_count": 12,
   "id": "99d81801",
   "metadata": {},
   "outputs": [],
   "source": [
    "m.extend(['apple',11])"
   ]
  },
  {
   "cell_type": "code",
   "execution_count": 13,
   "id": "3f0129d9",
   "metadata": {},
   "outputs": [
    {
     "data": {
      "text/plain": [
       "[1, 2, 3, 4, 5, 6, [7, 8], 9, 10, 'test', ['apple', 11], 'apple', 11]"
      ]
     },
     "execution_count": 13,
     "metadata": {},
     "output_type": "execute_result"
    }
   ],
   "source": [
    "m"
   ]
  },
  {
   "cell_type": "code",
   "execution_count": 14,
   "id": "c8a8e3cb",
   "metadata": {},
   "outputs": [],
   "source": [
    "m.extend([12,13,'mangoes'])"
   ]
  },
  {
   "cell_type": "code",
   "execution_count": 15,
   "id": "064e5048",
   "metadata": {},
   "outputs": [
    {
     "data": {
      "text/plain": [
       "[1,\n",
       " 2,\n",
       " 3,\n",
       " 4,\n",
       " 5,\n",
       " 6,\n",
       " [7, 8],\n",
       " 9,\n",
       " 10,\n",
       " 'test',\n",
       " ['apple', 11],\n",
       " 'apple',\n",
       " 11,\n",
       " 12,\n",
       " 13,\n",
       " 'mangoes']"
      ]
     },
     "execution_count": 15,
     "metadata": {},
     "output_type": "execute_result"
    }
   ],
   "source": [
    "m"
   ]
  },
  {
   "cell_type": "code",
   "execution_count": 16,
   "id": "24d87c97",
   "metadata": {},
   "outputs": [],
   "source": [
    "x=[]"
   ]
  },
  {
   "cell_type": "code",
   "execution_count": 18,
   "id": "7da58ce1",
   "metadata": {},
   "outputs": [],
   "source": [
    "x=m.copy()"
   ]
  },
  {
   "cell_type": "code",
   "execution_count": 19,
   "id": "d61f2b3f",
   "metadata": {},
   "outputs": [
    {
     "data": {
      "text/plain": [
       "[1,\n",
       " 2,\n",
       " 3,\n",
       " 4,\n",
       " 5,\n",
       " 6,\n",
       " [7, 8],\n",
       " 9,\n",
       " 10,\n",
       " 'test',\n",
       " ['apple', 11],\n",
       " 'apple',\n",
       " 11,\n",
       " 12,\n",
       " 13,\n",
       " 'mangoes']"
      ]
     },
     "execution_count": 19,
     "metadata": {},
     "output_type": "execute_result"
    }
   ],
   "source": [
    "x"
   ]
  },
  {
   "cell_type": "code",
   "execution_count": null,
   "id": "41329bad",
   "metadata": {},
   "outputs": [],
   "source": []
  },
  {
   "cell_type": "code",
   "execution_count": null,
   "id": "577a93a4",
   "metadata": {},
   "outputs": [],
   "source": []
  },
  {
   "cell_type": "code",
   "execution_count": null,
   "id": "08b50e1b",
   "metadata": {},
   "outputs": [],
   "source": []
  }
 ],
 "metadata": {
  "kernelspec": {
   "display_name": "Python 3 (ipykernel)",
   "language": "python",
   "name": "python3"
  },
  "language_info": {
   "codemirror_mode": {
    "name": "ipython",
    "version": 3
   },
   "file_extension": ".py",
   "mimetype": "text/x-python",
   "name": "python",
   "nbconvert_exporter": "python",
   "pygments_lexer": "ipython3",
   "version": "3.9.7"
  }
 },
 "nbformat": 4,
 "nbformat_minor": 5
}
