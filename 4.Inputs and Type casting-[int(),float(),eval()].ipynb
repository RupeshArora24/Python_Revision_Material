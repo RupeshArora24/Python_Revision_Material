{
 "cells": [
  {
   "cell_type": "code",
   "execution_count": 1,
   "id": "9a1b7d5b",
   "metadata": {},
   "outputs": [
    {
     "data": {
      "text/plain": [
       "'Getting User Input & Type Casting'"
      ]
     },
     "execution_count": 1,
     "metadata": {},
     "output_type": "execute_result"
    }
   ],
   "source": [
    "'''Getting User Input & Type Casting'''"
   ]
  },
  {
   "cell_type": "code",
   "execution_count": null,
   "id": "f0554f25",
   "metadata": {},
   "outputs": [],
   "source": []
  },
  {
   "cell_type": "code",
   "execution_count": 2,
   "id": "1ee6ef48",
   "metadata": {},
   "outputs": [
    {
     "name": "stdout",
     "output_type": "stream",
     "text": [
      "10\n"
     ]
    }
   ],
   "source": [
    " a=input() #waits to take input"
   ]
  },
  {
   "cell_type": "code",
   "execution_count": 5,
   "id": "44b9f0fe",
   "metadata": {},
   "outputs": [
    {
     "name": "stdout",
     "output_type": "stream",
     "text": [
      "Enter the value 20\n"
     ]
    }
   ],
   "source": [
    "b=input(\"Enter the value \")"
   ]
  },
  {
   "cell_type": "code",
   "execution_count": 6,
   "id": "0470346f",
   "metadata": {},
   "outputs": [
    {
     "data": {
      "text/plain": [
       "'20'"
      ]
     },
     "execution_count": 6,
     "metadata": {},
     "output_type": "execute_result"
    }
   ],
   "source": [
    "b"
   ]
  },
  {
   "cell_type": "code",
   "execution_count": 7,
   "id": "1b150afb",
   "metadata": {},
   "outputs": [],
   "source": [
    "#inputs taken from user are always in string"
   ]
  },
  {
   "cell_type": "code",
   "execution_count": 8,
   "id": "6ab63152",
   "metadata": {},
   "outputs": [
    {
     "name": "stdout",
     "output_type": "stream",
     "text": [
      "Enter the value of X 10\n",
      "Enter the value of Y 20\n"
     ]
    }
   ],
   "source": [
    "x=input(\"Enter the value of X \")\n",
    "y=input(\"Enter the value of Y \")"
   ]
  },
  {
   "cell_type": "code",
   "execution_count": 9,
   "id": "dd17165b",
   "metadata": {},
   "outputs": [
    {
     "name": "stdout",
     "output_type": "stream",
     "text": [
      "1020\n"
     ]
    }
   ],
   "source": [
    "print(x+y)"
   ]
  },
  {
   "cell_type": "code",
   "execution_count": 10,
   "id": "3c73ff6b",
   "metadata": {},
   "outputs": [],
   "source": [
    "#input is treted as string and is concatenated"
   ]
  },
  {
   "cell_type": "markdown",
   "id": "a887c0ba",
   "metadata": {},
   "source": [
    "-------------"
   ]
  },
  {
   "cell_type": "code",
   "execution_count": 11,
   "id": "859d7648",
   "metadata": {},
   "outputs": [
    {
     "data": {
      "text/plain": [
       "'Type Casting'"
      ]
     },
     "execution_count": 11,
     "metadata": {},
     "output_type": "execute_result"
    }
   ],
   "source": [
    "'''Type Casting - Changing the type of input value from string to desired type for further process\n",
    "int(),float(),eval() - This are the functions we use for type casting\n",
    "i.e change the data type'''"
   ]
  },
  {
   "cell_type": "code",
   "execution_count": 13,
   "id": "9f4a1919",
   "metadata": {},
   "outputs": [
    {
     "name": "stdout",
     "output_type": "stream",
     "text": [
      "Enter the value of X 10\n",
      "Enter the value of Y 20\n"
     ]
    }
   ],
   "source": [
    "x=int(input(\"Enter the value of X \"))\n",
    "y=int(input(\"Enter the value of Y \"))\n"
   ]
  },
  {
   "cell_type": "code",
   "execution_count": 14,
   "id": "27478549",
   "metadata": {},
   "outputs": [
    {
     "name": "stdout",
     "output_type": "stream",
     "text": [
      "30\n"
     ]
    }
   ],
   "source": [
    "print(x+y)"
   ]
  },
  {
   "cell_type": "code",
   "execution_count": 15,
   "id": "b7d882f9",
   "metadata": {},
   "outputs": [
    {
     "name": "stdout",
     "output_type": "stream",
     "text": [
      "Enter the value of X 10.5\n",
      "Enter the value of Y 5.15\n",
      "15.65\n"
     ]
    }
   ],
   "source": [
    "x=float(input(\"Enter the value of X \"))\n",
    "y=float(input(\"Enter the value of Y \"))\n",
    "print(x+y)\n"
   ]
  },
  {
   "cell_type": "code",
   "execution_count": 16,
   "id": "6f7878b0",
   "metadata": {},
   "outputs": [
    {
     "name": "stdout",
     "output_type": "stream",
     "text": [
      "Enter the value of X 10.5\n",
      "Enter the value of Y 5.15\n",
      "15.65\n"
     ]
    }
   ],
   "source": [
    "#eval() takes care of data types of input, changes them to the int/float data type from input string type\n",
    "# for ex: changes to - int, float, binary from string type of input \n",
    "x=eval(input(\"Enter the value of X \"))\n",
    "y=eval(input(\"Enter the value of Y \"))\n",
    "print(x+y)\n"
   ]
  },
  {
   "cell_type": "code",
   "execution_count": 2,
   "id": "0ea9b01c",
   "metadata": {},
   "outputs": [
    {
     "name": "stdout",
     "output_type": "stream",
     "text": [
      "Enter the value of X 10\n",
      "Enter the value of Y 20\n",
      "30\n"
     ]
    }
   ],
   "source": [
    "x=eval(input(\"Enter the value of X \"))\n",
    "y=eval(input(\"Enter the value of Y \"))\n",
    "print(x+y)"
   ]
  },
  {
   "cell_type": "code",
   "execution_count": 18,
   "id": "736774e8",
   "metadata": {},
   "outputs": [
    {
     "name": "stdout",
     "output_type": "stream",
     "text": [
      "Enter the value of X 0b1010\n",
      "Enter the value of Y 20\n",
      "30\n"
     ]
    }
   ],
   "source": [
    "x=eval(input(\"Enter the value of X \"))\n",
    "y=eval(input(\"Enter the value of Y \"))\n",
    "print(x+y)"
   ]
  },
  {
   "cell_type": "code",
   "execution_count": 1,
   "id": "c03c7800",
   "metadata": {},
   "outputs": [
    {
     "data": {
      "text/plain": [
       "50"
      ]
     },
     "execution_count": 1,
     "metadata": {},
     "output_type": "execute_result"
    }
   ],
   "source": [
    "X=10\n",
    "Y=40\n",
    "eval('X+Y')"
   ]
  },
  {
   "cell_type": "code",
   "execution_count": null,
   "id": "360c9198",
   "metadata": {},
   "outputs": [],
   "source": []
  }
 ],
 "metadata": {
  "kernelspec": {
   "display_name": "Python 3 (ipykernel)",
   "language": "python",
   "name": "python3"
  },
  "language_info": {
   "codemirror_mode": {
    "name": "ipython",
    "version": 3
   },
   "file_extension": ".py",
   "mimetype": "text/x-python",
   "name": "python",
   "nbconvert_exporter": "python",
   "pygments_lexer": "ipython3",
   "version": "3.9.7"
  }
 },
 "nbformat": 4,
 "nbformat_minor": 5
}
