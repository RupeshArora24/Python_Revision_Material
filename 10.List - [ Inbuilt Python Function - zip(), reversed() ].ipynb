{
 "cells": [
  {
   "cell_type": "code",
   "execution_count": 1,
   "id": "b5e7b43a",
   "metadata": {},
   "outputs": [],
   "source": [
    "#zip() in-built function iterate over two or more iterables (list)\n",
    "#it returns an iterator iterating over all the iterables simultaneously\n",
    "# we can take the output in either one variable or two variable"
   ]
  },
  {
   "cell_type": "code",
   "execution_count": 8,
   "id": "893ea9c5",
   "metadata": {},
   "outputs": [],
   "source": [
    "a=[1,2,3,4,5]    # length of both the list needs to be same. extras are ingnored\n",
    "b=[6,7,8,9,10]"
   ]
  },
  {
   "cell_type": "code",
   "execution_count": 9,
   "id": "86785dbe",
   "metadata": {},
   "outputs": [],
   "source": [
    "c=zip(a,b)"
   ]
  },
  {
   "cell_type": "code",
   "execution_count": 10,
   "id": "55b3f14a",
   "metadata": {},
   "outputs": [
    {
     "data": {
      "text/plain": [
       "<zip at 0x2151adf6140>"
      ]
     },
     "execution_count": 10,
     "metadata": {},
     "output_type": "execute_result"
    }
   ],
   "source": [
    "c"
   ]
  },
  {
   "cell_type": "code",
   "execution_count": 11,
   "id": "923089ea",
   "metadata": {},
   "outputs": [
    {
     "name": "stdout",
     "output_type": "stream",
     "text": [
      "<zip object at 0x000002151ADF6140>\n"
     ]
    }
   ],
   "source": [
    "print(c)"
   ]
  },
  {
   "cell_type": "code",
   "execution_count": 12,
   "id": "7646e982",
   "metadata": {},
   "outputs": [],
   "source": [
    "d=[x for x in zip(a,b)]"
   ]
  },
  {
   "cell_type": "code",
   "execution_count": 13,
   "id": "a019b872",
   "metadata": {},
   "outputs": [
    {
     "data": {
      "text/plain": [
       "[(1, 6), (2, 7), (3, 8), (4, 9), (5, 10)]"
      ]
     },
     "execution_count": 13,
     "metadata": {},
     "output_type": "execute_result"
    }
   ],
   "source": [
    "d"
   ]
  },
  {
   "cell_type": "code",
   "execution_count": 19,
   "id": "7c497a1e",
   "metadata": {},
   "outputs": [],
   "source": [
    "f=[x for x,y in zip(a,b)] # valid only if one value is passed"
   ]
  },
  {
   "cell_type": "code",
   "execution_count": 20,
   "id": "e390b7e9",
   "metadata": {},
   "outputs": [
    {
     "data": {
      "text/plain": [
       "[1, 2, 3, 4, 5]"
      ]
     },
     "execution_count": 20,
     "metadata": {},
     "output_type": "execute_result"
    }
   ],
   "source": [
    "f"
   ]
  },
  {
   "cell_type": "markdown",
   "id": "597c6af0",
   "metadata": {},
   "source": [
    "---------------"
   ]
  },
  {
   "cell_type": "code",
   "execution_count": 36,
   "id": "14b77d11",
   "metadata": {},
   "outputs": [
    {
     "name": "stdout",
     "output_type": "stream",
     "text": [
      "1 5\n",
      "2 6\n",
      "3 7\n",
      "4 8\n",
      "5 9\n"
     ]
    }
   ],
   "source": [
    "g=[1,2,3,4,5]\n",
    "h=[5,6,7,8,9,10] # 10 is ignored as it is extra element compared to the first list length\n",
    "\n",
    "for i,j in zip(g,h):\n",
    "    print(i,j)"
   ]
  },
  {
   "cell_type": "code",
   "execution_count": 37,
   "id": "dfae265a",
   "metadata": {},
   "outputs": [],
   "source": [
    "#without using zip() function"
   ]
  },
  {
   "cell_type": "code",
   "execution_count": 38,
   "id": "7ef187cc",
   "metadata": {},
   "outputs": [],
   "source": [
    "'''if len(g)>=len(h):\n",
    "    t=len(h)\n",
    "elif len(g)<len(h):\n",
    "    t=len(g)\n",
    "'''\n",
    "\n",
    "t=min(len(g),len(h))"
   ]
  },
  {
   "cell_type": "code",
   "execution_count": 39,
   "id": "0e4a4cc1",
   "metadata": {},
   "outputs": [
    {
     "data": {
      "text/plain": [
       "5"
      ]
     },
     "execution_count": 39,
     "metadata": {},
     "output_type": "execute_result"
    }
   ],
   "source": [
    "t"
   ]
  },
  {
   "cell_type": "code",
   "execution_count": 40,
   "id": "e27adf18",
   "metadata": {},
   "outputs": [
    {
     "name": "stdout",
     "output_type": "stream",
     "text": [
      "1 5\n",
      "2 6\n",
      "3 7\n",
      "4 8\n",
      "5 9\n"
     ]
    }
   ],
   "source": [
    "#without using zip() function:\n",
    "for i in range(t):\n",
    "    print(g[i],h[i])"
   ]
  },
  {
   "cell_type": "code",
   "execution_count": 44,
   "id": "194f8146",
   "metadata": {},
   "outputs": [
    {
     "name": "stdout",
     "output_type": "stream",
     "text": [
      "5 1\n",
      "6 2\n",
      "7 3\n",
      "8 4\n",
      "9 5\n"
     ]
    }
   ],
   "source": [
    "for i,j in zip(g,h):\n",
    "    o,p=reversed([i,j])   # an iterator is something that iterates over an iterable\n",
    "    print(o,p)            #iterator take elements from iterables and passes it to be processed further by methods such as for loop"
   ]
  },
  {
   "cell_type": "code",
   "execution_count": 59,
   "id": "0057a90a",
   "metadata": {},
   "outputs": [
    {
     "name": "stdout",
     "output_type": "stream",
     "text": [
      "[5, 6, 7, 8, 9, 10] [1, 2, 3, 4, 5]\n"
     ]
    }
   ],
   "source": [
    "#z,y=reversed([1,2]) # depending upon the number of elements being passed to it we need to take the outputs in number of variables\n",
    "                    # if two list is passed iterator iterates over the lists and each iteration gives exactly two elements one from \n",
    "z,y=reversed([g,h]) #each list and we need two variable to store this value.\n",
    "print(z,y)"
   ]
  },
  {
   "cell_type": "code",
   "execution_count": 61,
   "id": "dba6f412",
   "metadata": {},
   "outputs": [
    {
     "name": "stdout",
     "output_type": "stream",
     "text": [
      "[1, 2, 3, 4, 5] [5, 6, 7, 8, 9, 10]\n"
     ]
    }
   ],
   "source": [
    "z,y=reversed([z,y])\n",
    "print(z,y)"
   ]
  },
  {
   "cell_type": "code",
   "execution_count": 55,
   "id": "6d89972a",
   "metadata": {},
   "outputs": [],
   "source": [
    "q=zip(g,h)"
   ]
  },
  {
   "cell_type": "code",
   "execution_count": 56,
   "id": "3024940c",
   "metadata": {},
   "outputs": [
    {
     "data": {
      "text/plain": [
       "<zip at 0x2151aec13c0>"
      ]
     },
     "execution_count": 56,
     "metadata": {},
     "output_type": "execute_result"
    }
   ],
   "source": [
    "q"
   ]
  },
  {
   "cell_type": "code",
   "execution_count": null,
   "id": "cb1965b6",
   "metadata": {},
   "outputs": [],
   "source": []
  }
 ],
 "metadata": {
  "kernelspec": {
   "display_name": "Python 3 (ipykernel)",
   "language": "python",
   "name": "python3"
  },
  "language_info": {
   "codemirror_mode": {
    "name": "ipython",
    "version": 3
   },
   "file_extension": ".py",
   "mimetype": "text/x-python",
   "name": "python",
   "nbconvert_exporter": "python",
   "pygments_lexer": "ipython3",
   "version": "3.9.7"
  }
 },
 "nbformat": 4,
 "nbformat_minor": 5
}
