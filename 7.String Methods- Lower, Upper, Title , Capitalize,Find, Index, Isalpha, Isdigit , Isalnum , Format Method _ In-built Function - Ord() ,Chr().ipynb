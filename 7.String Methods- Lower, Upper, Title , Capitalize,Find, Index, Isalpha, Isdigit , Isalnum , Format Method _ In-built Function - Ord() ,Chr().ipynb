{
 "cells": [
  {
   "cell_type": "code",
   "execution_count": 1,
   "id": "dbb5a303",
   "metadata": {},
   "outputs": [],
   "source": [
    "#String Function"
   ]
  },
  {
   "cell_type": "code",
   "execution_count": 2,
   "id": "2378ff5c",
   "metadata": {},
   "outputs": [],
   "source": [
    "a='This is a new begining'"
   ]
  },
  {
   "cell_type": "code",
   "execution_count": 3,
   "id": "ef513569",
   "metadata": {},
   "outputs": [
    {
     "data": {
      "text/plain": [
       "str"
      ]
     },
     "execution_count": 3,
     "metadata": {},
     "output_type": "execute_result"
    }
   ],
   "source": [
    "type(a)"
   ]
  },
  {
   "cell_type": "code",
   "execution_count": null,
   "id": "c64f0831",
   "metadata": {},
   "outputs": [],
   "source": [
    "#lower(),upper(),capitalize(),title()"
   ]
  },
  {
   "cell_type": "code",
   "execution_count": 4,
   "id": "2a9c39c2",
   "metadata": {},
   "outputs": [
    {
     "data": {
      "text/plain": [
       "'This is a new begining'"
      ]
     },
     "execution_count": 4,
     "metadata": {},
     "output_type": "execute_result"
    }
   ],
   "source": [
    "a"
   ]
  },
  {
   "cell_type": "code",
   "execution_count": 5,
   "id": "1c9f3b29",
   "metadata": {},
   "outputs": [
    {
     "data": {
      "text/plain": [
       "'THIS IS A NEW BEGINING'"
      ]
     },
     "execution_count": 5,
     "metadata": {},
     "output_type": "execute_result"
    }
   ],
   "source": [
    " a.upper()"
   ]
  },
  {
   "cell_type": "code",
   "execution_count": 6,
   "id": "cb7c977d",
   "metadata": {},
   "outputs": [
    {
     "data": {
      "text/plain": [
       "'this is a new begining'"
      ]
     },
     "execution_count": 6,
     "metadata": {},
     "output_type": "execute_result"
    }
   ],
   "source": [
    "a.lower()"
   ]
  },
  {
   "cell_type": "code",
   "execution_count": 7,
   "id": "7f6c050b",
   "metadata": {},
   "outputs": [
    {
     "data": {
      "text/plain": [
       "'This Is A New Begining'"
      ]
     },
     "execution_count": 7,
     "metadata": {},
     "output_type": "execute_result"
    }
   ],
   "source": [
    "a.title()"
   ]
  },
  {
   "cell_type": "code",
   "execution_count": 8,
   "id": "05aaebac",
   "metadata": {},
   "outputs": [
    {
     "data": {
      "text/plain": [
       "'This is a new begining'"
      ]
     },
     "execution_count": 8,
     "metadata": {},
     "output_type": "execute_result"
    }
   ],
   "source": [
    "a.capitalize()"
   ]
  },
  {
   "cell_type": "markdown",
   "id": "32653e04",
   "metadata": {},
   "source": [
    "  -------------------------"
   ]
  },
  {
   "cell_type": "code",
   "execution_count": null,
   "id": "b9532f85",
   "metadata": {},
   "outputs": [],
   "source": [
    "#find() returns position of first character"
   ]
  },
  {
   "cell_type": "code",
   "execution_count": 9,
   "id": "f56cf45c",
   "metadata": {},
   "outputs": [],
   "source": [
    "b='Check this out'\n"
   ]
  },
  {
   "cell_type": "code",
   "execution_count": 10,
   "id": "5b2d3061",
   "metadata": {},
   "outputs": [
    {
     "name": "stdout",
     "output_type": "stream",
     "text": [
      "2\n"
     ]
    }
   ],
   "source": [
    "print(b.find('e',0))"
   ]
  },
  {
   "cell_type": "code",
   "execution_count": 11,
   "id": "2ce7320b",
   "metadata": {},
   "outputs": [
    {
     "name": "stdout",
     "output_type": "stream",
     "text": [
      "2\n"
     ]
    }
   ],
   "source": [
    "print(b.find('e',1))"
   ]
  },
  {
   "cell_type": "code",
   "execution_count": 12,
   "id": "ed4c7891",
   "metadata": {},
   "outputs": [
    {
     "name": "stdout",
     "output_type": "stream",
     "text": [
      "2\n"
     ]
    }
   ],
   "source": [
    "print(b.find('e',2))"
   ]
  },
  {
   "cell_type": "code",
   "execution_count": 13,
   "id": "64d8f43d",
   "metadata": {},
   "outputs": [
    {
     "name": "stdout",
     "output_type": "stream",
     "text": [
      "-1\n"
     ]
    }
   ],
   "source": [
    "print(b.find('e',3)) #result in -1 indicates 'no value found'"
   ]
  },
  {
   "cell_type": "markdown",
   "id": "e2371578",
   "metadata": {},
   "source": [
    "---------------\n"
   ]
  },
  {
   "cell_type": "code",
   "execution_count": null,
   "id": "e5869c85",
   "metadata": {},
   "outputs": [],
   "source": [
    "#index()"
   ]
  },
  {
   "cell_type": "code",
   "execution_count": 14,
   "id": "9f478d65",
   "metadata": {},
   "outputs": [
    {
     "name": "stdout",
     "output_type": "stream",
     "text": [
      "2\n"
     ]
    }
   ],
   "source": [
    "print(b.index('e'))"
   ]
  },
  {
   "cell_type": "code",
   "execution_count": 16,
   "id": "8044ce68",
   "metadata": {},
   "outputs": [
    {
     "ename": "ValueError",
     "evalue": "substring not found",
     "output_type": "error",
     "traceback": [
      "\u001b[1;31m---------------------------------------------------------------------------\u001b[0m",
      "\u001b[1;31mValueError\u001b[0m                                Traceback (most recent call last)",
      "\u001b[1;32m~\\AppData\\Local\\Temp/ipykernel_2800/1751742374.py\u001b[0m in \u001b[0;36m<module>\u001b[1;34m\u001b[0m\n\u001b[1;32m----> 1\u001b[1;33m \u001b[0mprint\u001b[0m\u001b[1;33m(\u001b[0m\u001b[0mb\u001b[0m\u001b[1;33m.\u001b[0m\u001b[0mindex\u001b[0m\u001b[1;33m(\u001b[0m\u001b[1;34m'z'\u001b[0m\u001b[1;33m)\u001b[0m\u001b[1;33m)\u001b[0m \u001b[1;31m#returns error for no value found\u001b[0m\u001b[1;33m\u001b[0m\u001b[1;33m\u001b[0m\u001b[0m\n\u001b[0m",
      "\u001b[1;31mValueError\u001b[0m: substring not found"
     ]
    }
   ],
   "source": [
    "print(b.index('z')) #returns error for no value found"
   ]
  },
  {
   "cell_type": "markdown",
   "id": "84d120a2",
   "metadata": {},
   "source": [
    "-------------------- \n",
    "\n"
   ]
  },
  {
   "cell_type": "code",
   "execution_count": 18,
   "id": "ba20ca8e",
   "metadata": {},
   "outputs": [],
   "source": [
    "#isalpha()- answer is returned in T/F (for all fn starting with 'is')\n"
   ]
  },
  {
   "cell_type": "code",
   "execution_count": 25,
   "id": "a90d1641",
   "metadata": {},
   "outputs": [],
   "source": [
    "c='Thismykingdom' #only aplhabets are valid\n"
   ]
  },
  {
   "cell_type": "code",
   "execution_count": 26,
   "id": "46d14c41",
   "metadata": {},
   "outputs": [
    {
     "name": "stdout",
     "output_type": "stream",
     "text": [
      "True\n"
     ]
    }
   ],
   "source": [
    "print(c.isalpha())"
   ]
  },
  {
   "cell_type": "code",
   "execution_count": 27,
   "id": "761edb06",
   "metadata": {},
   "outputs": [],
   "source": [
    "d='This is my kingdom' #if special character like space is present then False"
   ]
  },
  {
   "cell_type": "code",
   "execution_count": 28,
   "id": "6e4f6e4c",
   "metadata": {},
   "outputs": [
    {
     "name": "stdout",
     "output_type": "stream",
     "text": [
      "False\n"
     ]
    }
   ],
   "source": [
    "print(d.isalpha())"
   ]
  },
  {
   "cell_type": "markdown",
   "id": "9fff33a1",
   "metadata": {},
   "source": [
    "-----------"
   ]
  },
  {
   "cell_type": "code",
   "execution_count": 29,
   "id": "322e91e2",
   "metadata": {},
   "outputs": [],
   "source": [
    "#isdigit()"
   ]
  },
  {
   "cell_type": "code",
   "execution_count": 33,
   "id": "528567dd",
   "metadata": {},
   "outputs": [],
   "source": [
    "e='123'"
   ]
  },
  {
   "cell_type": "code",
   "execution_count": 34,
   "id": "ce2154f1",
   "metadata": {},
   "outputs": [
    {
     "name": "stdout",
     "output_type": "stream",
     "text": [
      "True\n"
     ]
    }
   ],
   "source": [
    "print(e.isdigit())"
   ]
  },
  {
   "cell_type": "code",
   "execution_count": 35,
   "id": "94da7e60",
   "metadata": {},
   "outputs": [
    {
     "name": "stdout",
     "output_type": "stream",
     "text": [
      "False\n"
     ]
    }
   ],
   "source": [
    "f='w123'\n",
    "print(f.isdigit())"
   ]
  },
  {
   "cell_type": "markdown",
   "id": "b6ff94b4",
   "metadata": {},
   "source": [
    "-------------"
   ]
  },
  {
   "cell_type": "code",
   "execution_count": 36,
   "id": "27906c1a",
   "metadata": {},
   "outputs": [],
   "source": [
    "#isalnum()-checks and returns true if a string contains alphabet or numbers or both.\n",
    "# gives fasle for special character or space"
   ]
  },
  {
   "cell_type": "code",
   "execution_count": 37,
   "id": "cee7dd06",
   "metadata": {},
   "outputs": [],
   "source": [
    "g='Thisismykingdom123'"
   ]
  },
  {
   "cell_type": "code",
   "execution_count": 38,
   "id": "550a1580",
   "metadata": {},
   "outputs": [
    {
     "name": "stdout",
     "output_type": "stream",
     "text": [
      "True\n"
     ]
    }
   ],
   "source": [
    "print(g.isalnum())"
   ]
  },
  {
   "cell_type": "code",
   "execution_count": 42,
   "id": "7b7165fb",
   "metadata": {},
   "outputs": [
    {
     "name": "stdout",
     "output_type": "stream",
     "text": [
      "False\n"
     ]
    }
   ],
   "source": [
    "h='Thisismykingdom@123'\n",
    "print(h.isalnum())"
   ]
  },
  {
   "cell_type": "markdown",
   "id": "269fa463",
   "metadata": {},
   "source": [
    "---------------"
   ]
  },
  {
   "cell_type": "code",
   "execution_count": 2,
   "id": "c827836d",
   "metadata": {},
   "outputs": [],
   "source": [
    "#chr() - takes ascii value and returns a single character string"
   ]
  },
  {
   "cell_type": "code",
   "execution_count": 11,
   "id": "4991ad09",
   "metadata": {},
   "outputs": [],
   "source": [
    "y=chr(65)"
   ]
  },
  {
   "cell_type": "code",
   "execution_count": 12,
   "id": "7b20bf12",
   "metadata": {},
   "outputs": [
    {
     "name": "stdout",
     "output_type": "stream",
     "text": [
      "A\n"
     ]
    }
   ],
   "source": [
    "print(y)"
   ]
  },
  {
   "cell_type": "markdown",
   "id": "491eceda",
   "metadata": {},
   "source": [
    "------------------"
   ]
  },
  {
   "cell_type": "code",
   "execution_count": 5,
   "id": "63d24d2a",
   "metadata": {},
   "outputs": [],
   "source": [
    "#ord() - gives ascii value of a single char"
   ]
  },
  {
   "cell_type": "code",
   "execution_count": 13,
   "id": "ec8e9ba4",
   "metadata": {},
   "outputs": [],
   "source": [
    "z=ord('A')\n"
   ]
  },
  {
   "cell_type": "code",
   "execution_count": 14,
   "id": "68e30ee4",
   "metadata": {},
   "outputs": [
    {
     "name": "stdout",
     "output_type": "stream",
     "text": [
      "65\n"
     ]
    }
   ],
   "source": [
    "print(z)"
   ]
  },
  {
   "cell_type": "code",
   "execution_count": 16,
   "id": "30854801",
   "metadata": {},
   "outputs": [
    {
     "name": "stdout",
     "output_type": "stream",
     "text": [
      "104\n"
     ]
    }
   ],
   "source": [
    "print(ord('h'))"
   ]
  },
  {
   "cell_type": "code",
   "execution_count": 17,
   "id": "6535f66a",
   "metadata": {},
   "outputs": [
    {
     "ename": "TypeError",
     "evalue": "ord() expected a character, but string of length 2 found",
     "output_type": "error",
     "traceback": [
      "\u001b[1;31m---------------------------------------------------------------------------\u001b[0m",
      "\u001b[1;31mTypeError\u001b[0m                                 Traceback (most recent call last)",
      "\u001b[1;32m~\\AppData\\Local\\Temp/ipykernel_3724/255304129.py\u001b[0m in \u001b[0;36m<module>\u001b[1;34m\u001b[0m\n\u001b[1;32m----> 1\u001b[1;33m \u001b[0mprint\u001b[0m\u001b[1;33m(\u001b[0m\u001b[0mord\u001b[0m\u001b[1;33m(\u001b[0m\u001b[1;34m'ah'\u001b[0m\u001b[1;33m)\u001b[0m\u001b[1;33m)\u001b[0m \u001b[1;31m# gives error takes only one character\u001b[0m\u001b[1;33m\u001b[0m\u001b[1;33m\u001b[0m\u001b[0m\n\u001b[0m",
      "\u001b[1;31mTypeError\u001b[0m: ord() expected a character, but string of length 2 found"
     ]
    }
   ],
   "source": [
    "print(ord('ah')) # gives error takes only one character"
   ]
  },
  {
   "cell_type": "markdown",
   "id": "9bf3dbb8",
   "metadata": {},
   "source": [
    "---------------------"
   ]
  },
  {
   "cell_type": "code",
   "execution_count": 19,
   "id": "1cb3f378",
   "metadata": {},
   "outputs": [],
   "source": [
    "#format() - method places string in the middle of another string\n",
    "#with the of placeholders '{}' put in betweeen original string\n",
    "\n",
    "'''Python format() function has been introduced for handling complex string \n",
    "formatting more efficiently. This method of the built-in string class provides \n",
    "functionality for complex variable substitutions and value formatting. This new \n",
    "formatting technique is regarded as more elegant. \n",
    "The general syntax of format() method is string.format(var1, var2,…)'''"
   ]
  },
  {
   "cell_type": "code",
   "execution_count": 27,
   "id": "904040c6",
   "metadata": {},
   "outputs": [],
   "source": [
    "txt1='This is {fname} {lname}.'.format(fname='My', lname='kinGdom')"
   ]
  },
  {
   "cell_type": "code",
   "execution_count": 28,
   "id": "c4a6a610",
   "metadata": {},
   "outputs": [
    {
     "name": "stdout",
     "output_type": "stream",
     "text": [
      "This is My kinGdom.\n"
     ]
    }
   ],
   "source": [
    "print(txt1)"
   ]
  },
  {
   "cell_type": "code",
   "execution_count": 24,
   "id": "b8a30688",
   "metadata": {},
   "outputs": [],
   "source": [
    "txt2='Welcome {} the {}'.format('to', 'jungle')"
   ]
  },
  {
   "cell_type": "code",
   "execution_count": 25,
   "id": "a384a1af",
   "metadata": {},
   "outputs": [
    {
     "name": "stdout",
     "output_type": "stream",
     "text": [
      "Welcome to the jungle\n"
     ]
    }
   ],
   "source": [
    "print(txt2)"
   ]
  },
  {
   "cell_type": "code",
   "execution_count": 29,
   "id": "bdbb4612",
   "metadata": {},
   "outputs": [],
   "source": [
    "txt3='Here {1} the {0} end'.format('Worlds','Is')"
   ]
  },
  {
   "cell_type": "code",
   "execution_count": 30,
   "id": "2712597d",
   "metadata": {},
   "outputs": [
    {
     "name": "stdout",
     "output_type": "stream",
     "text": [
      "Here Is the Worlds end\n"
     ]
    }
   ],
   "source": [
    "print(txt3)"
   ]
  },
  {
   "cell_type": "markdown",
   "id": "202f9899",
   "metadata": {},
   "source": [
    "-----------"
   ]
  },
  {
   "cell_type": "code",
   "execution_count": 17,
   "id": "fbc526e5",
   "metadata": {},
   "outputs": [],
   "source": [
    "txt4='Welcome {a:10} to {b} jumgle'"
   ]
  },
  {
   "cell_type": "code",
   "execution_count": 18,
   "id": "3a9d7f13",
   "metadata": {},
   "outputs": [
    {
     "data": {
      "text/plain": [
       "'Welcome         20 to 30 jumgle'"
      ]
     },
     "execution_count": 18,
     "metadata": {},
     "output_type": "execute_result"
    }
   ],
   "source": [
    "txt4.format(a=20,b=30)"
   ]
  },
  {
   "cell_type": "code",
   "execution_count": 35,
   "id": "71b43d71",
   "metadata": {},
   "outputs": [
    {
     "data": {
      "text/plain": [
       "'Welcome 20         to 30 jumgle'"
      ]
     },
     "execution_count": 35,
     "metadata": {},
     "output_type": "execute_result"
    }
   ],
   "source": [
    "txt4='Welcome {a:<10} to {b} jumgle'\n",
    "txt4.format(a=20,b=30)"
   ]
  },
  {
   "cell_type": "code",
   "execution_count": 36,
   "id": "86e2ffa0",
   "metadata": {},
   "outputs": [
    {
     "data": {
      "text/plain": [
       "'Welcome         20 to 30 jumgle'"
      ]
     },
     "execution_count": 36,
     "metadata": {},
     "output_type": "execute_result"
    }
   ],
   "source": [
    "txt4='Welcome {a:>10} to {b} jumgle'\n",
    "txt4.format(a=20,b=30)"
   ]
  },
  {
   "cell_type": "code",
   "execution_count": 37,
   "id": "53807c1c",
   "metadata": {},
   "outputs": [
    {
     "data": {
      "text/plain": [
       "'Welcome     20     to 30 jumgle'"
      ]
     },
     "execution_count": 37,
     "metadata": {},
     "output_type": "execute_result"
    }
   ],
   "source": [
    "txt4='Welcome {a:^10} to {b} jumgle'\n",
    "txt4.format(a=20,b=30)"
   ]
  },
  {
   "cell_type": "code",
   "execution_count": 39,
   "id": "f1befac7",
   "metadata": {},
   "outputs": [
    {
     "name": "stdout",
     "output_type": "stream",
     "text": [
      "\u0007\n"
     ]
    }
   ],
   "source": []
  },
  {
   "cell_type": "code",
   "execution_count": null,
   "id": "b6ea0120",
   "metadata": {},
   "outputs": [],
   "source": []
  }
 ],
 "metadata": {
  "kernelspec": {
   "display_name": "Python 3 (ipykernel)",
   "language": "python",
   "name": "python3"
  },
  "language_info": {
   "codemirror_mode": {
    "name": "ipython",
    "version": 3
   },
   "file_extension": ".py",
   "mimetype": "text/x-python",
   "name": "python",
   "nbconvert_exporter": "python",
   "pygments_lexer": "ipython3",
   "version": "3.9.7"
  }
 },
 "nbformat": 4,
 "nbformat_minor": 5
}
