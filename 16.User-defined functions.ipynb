{
 "cells": [
  {
   "cell_type": "code",
   "execution_count": 1,
   "id": "81d0b7f1",
   "metadata": {},
   "outputs": [],
   "source": [
    "#User-defined function"
   ]
  },
  {
   "cell_type": "code",
   "execution_count": 2,
   "id": "621c5b10",
   "metadata": {},
   "outputs": [],
   "source": [
    "#Simple function:\n",
    "def print_the_statement():\n",
    "    print('This is my Kingodm')"
   ]
  },
  {
   "cell_type": "code",
   "execution_count": 3,
   "id": "ad9d9916",
   "metadata": {},
   "outputs": [
    {
     "name": "stdout",
     "output_type": "stream",
     "text": [
      "This is my Kingodm\n"
     ]
    }
   ],
   "source": [
    "print_the_statement()"
   ]
  },
  {
   "cell_type": "code",
   "execution_count": null,
   "id": "c1ded136",
   "metadata": {},
   "outputs": [],
   "source": []
  }
 ],
 "metadata": {
  "kernelspec": {
   "display_name": "Python 3 (ipykernel)",
   "language": "python",
   "name": "python3"
  },
  "language_info": {
   "codemirror_mode": {
    "name": "ipython",
    "version": 3
   },
   "file_extension": ".py",
   "mimetype": "text/x-python",
   "name": "python",
   "nbconvert_exporter": "python",
   "pygments_lexer": "ipython3",
   "version": "3.9.7"
  }
 },
 "nbformat": 4,
 "nbformat_minor": 5
}
