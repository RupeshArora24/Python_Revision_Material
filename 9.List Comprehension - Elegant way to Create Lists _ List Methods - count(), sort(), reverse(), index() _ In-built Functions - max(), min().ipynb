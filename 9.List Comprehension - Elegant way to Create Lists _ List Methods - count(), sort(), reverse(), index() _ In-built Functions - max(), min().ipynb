{
 "cells": [
  {
   "cell_type": "code",
   "execution_count": 4,
   "id": "b51ac497",
   "metadata": {
    "scrolled": true
   },
   "outputs": [
    {
     "data": {
      "text/plain": [
       "'\\n#List Comprehension- compacting code for creating list\\nfrom existing list is comprehension. It is compact and faster than \\nnormal functions and loops used for creating list.\\n#Using append to add elements is not comprehension\\n\\n'"
      ]
     },
     "execution_count": 4,
     "metadata": {},
     "output_type": "execute_result"
    }
   ],
   "source": [
    "'''\n",
    "#List Comprehension- compacting code for creating list\n",
    "from existing list is comprehension. It is compact and faster than \n",
    "normal functions and for loop is used for creating list.\n",
    "#Using append to add elements is not comprehension\n",
    "Syntax - [expression for itme in list]\n",
    "'''"
   ]
  },
  {
   "cell_type": "code",
   "execution_count": 7,
   "id": "04ce9bef",
   "metadata": {},
   "outputs": [],
   "source": [
    "l=[]\n",
    "for  a in range(1,101):\n",
    "    l.append(a)\n"
   ]
  },
  {
   "cell_type": "code",
   "execution_count": 1,
   "id": "c0a25ddf",
   "metadata": {},
   "outputs": [],
   "source": [
    "#for loop- list comprehension (works only for 'for loop')\n",
    "\n",
    "n=[m for m in range(1,101)]  # elegant way of creating list (list comprehension)\n"
   ]
  },
  {
   "cell_type": "code",
   "execution_count": 2,
   "id": "9019017a",
   "metadata": {},
   "outputs": [],
   "source": [
    "#for loop with conditional statement\n",
    "\n",
    "n=[m for m in range(1,101) if (m%2==0)]"
   ]
  },
  {
   "cell_type": "code",
   "execution_count": 3,
   "id": "9c38e7a7",
   "metadata": {},
   "outputs": [
    {
     "name": "stdout",
     "output_type": "stream",
     "text": [
      "[2, 4, 6, 8, 10, 12, 14, 16, 18, 20, 22, 24, 26, 28, 30, 32, 34, 36, 38, 40, 42, 44, 46, 48, 50, 52, 54, 56, 58, 60, 62, 64, 66, 68, 70, 72, 74, 76, 78, 80, 82, 84, 86, 88, 90, 92, 94, 96, 98, 100]\n"
     ]
    }
   ],
   "source": [
    "print(n)"
   ]
  },
  {
   "cell_type": "markdown",
   "id": "00439e0e",
   "metadata": {},
   "source": [
    "# If there is only ‘if’ condition then write it after ‘for loop’ but if you have both ‘if-else’ condition then write it before the ‘for loop"
   ]
  },
  {
   "cell_type": "code",
   "execution_count": 1,
   "id": "9cbd72d4",
   "metadata": {},
   "outputs": [
    {
     "data": {
      "text/plain": [
       "[0, 0.5, 4, 1.5, 8, 2.5, 12, 3.5, 16, 4.5]"
      ]
     },
     "execution_count": 1,
     "metadata": {},
     "output_type": "execute_result"
    }
   ],
   "source": [
    "k=[i*2 if i%2==0 else i/2 for i in range (10)]\n",
    "k"
   ]
  },
  {
   "cell_type": "markdown",
   "id": "59684010",
   "metadata": {},
   "source": [
    "-----------------------"
   ]
  },
  {
   "cell_type": "code",
   "execution_count": 40,
   "id": "7578d211",
   "metadata": {},
   "outputs": [],
   "source": [
    "#list functions to remove element -del , pop() , remove()"
   ]
  },
  {
   "cell_type": "code",
   "execution_count": 41,
   "id": "0d5d98ab",
   "metadata": {},
   "outputs": [],
   "source": [
    "l=[range(10,60,10)]# you only created a zero dimension list that stores only one element 'range'"
   ]
  },
  {
   "cell_type": "code",
   "execution_count": 43,
   "id": "63e6d9f7",
   "metadata": {},
   "outputs": [],
   "source": [
    "l=[m for m in range(10,70,10)]"
   ]
  },
  {
   "cell_type": "code",
   "execution_count": 44,
   "id": "fa5387ce",
   "metadata": {},
   "outputs": [
    {
     "data": {
      "text/plain": [
       "[10, 20, 30, 40, 50, 60]"
      ]
     },
     "execution_count": 44,
     "metadata": {},
     "output_type": "execute_result"
    }
   ],
   "source": [
    "l"
   ]
  },
  {
   "cell_type": "code",
   "execution_count": 45,
   "id": "f783e79c",
   "metadata": {},
   "outputs": [
    {
     "data": {
      "text/plain": [
       "[10, 30, 40, 50, 60]"
      ]
     },
     "execution_count": 45,
     "metadata": {},
     "output_type": "execute_result"
    }
   ],
   "source": [
    "del l[1]\n",
    "l\n"
   ]
  },
  {
   "cell_type": "code",
   "execution_count": 46,
   "id": "1d6fb18c",
   "metadata": {},
   "outputs": [
    {
     "data": {
      "text/plain": [
       "10"
      ]
     },
     "execution_count": 46,
     "metadata": {},
     "output_type": "execute_result"
    }
   ],
   "source": [
    "l.pop(0)"
   ]
  },
  {
   "cell_type": "code",
   "execution_count": 47,
   "id": "82d940b5",
   "metadata": {},
   "outputs": [],
   "source": [
    "l.remove(60)"
   ]
  },
  {
   "cell_type": "code",
   "execution_count": 48,
   "id": "be9e4631",
   "metadata": {},
   "outputs": [
    {
     "data": {
      "text/plain": [
       "[30, 40, 50]"
      ]
     },
     "execution_count": 48,
     "metadata": {},
     "output_type": "execute_result"
    }
   ],
   "source": [
    "l"
   ]
  },
  {
   "cell_type": "code",
   "execution_count": 49,
   "id": "99de9681",
   "metadata": {},
   "outputs": [],
   "source": [
    "l.clear()"
   ]
  },
  {
   "cell_type": "code",
   "execution_count": 50,
   "id": "901fd5b2",
   "metadata": {},
   "outputs": [
    {
     "data": {
      "text/plain": [
       "[]"
      ]
     },
     "execution_count": 50,
     "metadata": {},
     "output_type": "execute_result"
    }
   ],
   "source": [
    "l"
   ]
  },
  {
   "cell_type": "code",
   "execution_count": 51,
   "id": "c15f966e",
   "metadata": {},
   "outputs": [],
   "source": [
    "#list functions to update- insert(), apend(), extend()"
   ]
  },
  {
   "cell_type": "code",
   "execution_count": 52,
   "id": "c7aa5c15",
   "metadata": {},
   "outputs": [],
   "source": [
    "t=[m for m in range(10,70,10)]"
   ]
  },
  {
   "cell_type": "code",
   "execution_count": 53,
   "id": "def2d632",
   "metadata": {},
   "outputs": [
    {
     "data": {
      "text/plain": [
       "[10, 20, 30, 40, 50, 60]"
      ]
     },
     "execution_count": 53,
     "metadata": {},
     "output_type": "execute_result"
    }
   ],
   "source": [
    "t"
   ]
  },
  {
   "cell_type": "code",
   "execution_count": 55,
   "id": "59f9a769",
   "metadata": {},
   "outputs": [],
   "source": [
    "# t[6]=70 - won't assign value as you cannot assign value to somethig that doesn't exist"
   ]
  },
  {
   "cell_type": "code",
   "execution_count": 56,
   "id": "65beb075",
   "metadata": {},
   "outputs": [],
   "source": [
    "t[0]=70"
   ]
  },
  {
   "cell_type": "code",
   "execution_count": 57,
   "id": "4e781380",
   "metadata": {},
   "outputs": [
    {
     "data": {
      "text/plain": [
       "[70, 20, 30, 40, 50, 60]"
      ]
     },
     "execution_count": 57,
     "metadata": {},
     "output_type": "execute_result"
    }
   ],
   "source": [
    "t"
   ]
  },
  {
   "cell_type": "code",
   "execution_count": 58,
   "id": "2942e732",
   "metadata": {},
   "outputs": [],
   "source": [
    "t.insert(1,80)"
   ]
  },
  {
   "cell_type": "code",
   "execution_count": 59,
   "id": "09acd00e",
   "metadata": {},
   "outputs": [
    {
     "data": {
      "text/plain": [
       "[70, 80, 20, 30, 40, 50, 60]"
      ]
     },
     "execution_count": 59,
     "metadata": {},
     "output_type": "execute_result"
    }
   ],
   "source": [
    "t"
   ]
  },
  {
   "cell_type": "code",
   "execution_count": 60,
   "id": "6c5fe223",
   "metadata": {},
   "outputs": [],
   "source": [
    "t.append([90,10])"
   ]
  },
  {
   "cell_type": "code",
   "execution_count": 61,
   "id": "e529b895",
   "metadata": {},
   "outputs": [
    {
     "data": {
      "text/plain": [
       "[70, 80, 20, 30, 40, 50, 60, [90, 10]]"
      ]
     },
     "execution_count": 61,
     "metadata": {},
     "output_type": "execute_result"
    }
   ],
   "source": [
    "t"
   ]
  },
  {
   "cell_type": "code",
   "execution_count": 62,
   "id": "b80e8e51",
   "metadata": {},
   "outputs": [],
   "source": [
    "t.extend([100,120]) #unpacks list and then adds it to the original list or object list"
   ]
  },
  {
   "cell_type": "code",
   "execution_count": 63,
   "id": "07140678",
   "metadata": {},
   "outputs": [
    {
     "data": {
      "text/plain": [
       "[70, 80, 20, 30, 40, 50, 60, [90, 10], 100, 120]"
      ]
     },
     "execution_count": 63,
     "metadata": {},
     "output_type": "execute_result"
    }
   ],
   "source": [
    "t"
   ]
  },
  {
   "cell_type": "markdown",
   "id": "2a555eb4",
   "metadata": {},
   "source": [
    "---------------"
   ]
  },
  {
   "cell_type": "code",
   "execution_count": 64,
   "id": "65a2f157",
   "metadata": {},
   "outputs": [
    {
     "data": {
      "text/plain": [
       "[70, 80, 20, 30, 40, 50, 60, [90, 10], 100, 120]"
      ]
     },
     "execution_count": 64,
     "metadata": {},
     "output_type": "execute_result"
    }
   ],
   "source": [
    "t\n"
   ]
  },
  {
   "cell_type": "code",
   "execution_count": 65,
   "id": "b794da8d",
   "metadata": {},
   "outputs": [],
   "source": [
    "k=[m for m in range(10,70,10)]"
   ]
  },
  {
   "cell_type": "code",
   "execution_count": 66,
   "id": "43f2c6e1",
   "metadata": {},
   "outputs": [
    {
     "data": {
      "text/plain": [
       "[10, 20, 30, 40, 50, 60]"
      ]
     },
     "execution_count": 66,
     "metadata": {},
     "output_type": "execute_result"
    }
   ],
   "source": [
    "k"
   ]
  },
  {
   "cell_type": "code",
   "execution_count": 71,
   "id": "b6ed6465",
   "metadata": {},
   "outputs": [],
   "source": [
    "k.insert(100,150)# if index given is out of range then it simply appends the element in the last"
   ]
  },
  {
   "cell_type": "code",
   "execution_count": 72,
   "id": "dec06730",
   "metadata": {},
   "outputs": [
    {
     "data": {
      "text/plain": [
       "[10, 20, 30, 40, 50, 60, 100, 100, 150]"
      ]
     },
     "execution_count": 72,
     "metadata": {},
     "output_type": "execute_result"
    }
   ],
   "source": [
    "k"
   ]
  },
  {
   "cell_type": "code",
   "execution_count": 73,
   "id": "3e1f1f80",
   "metadata": {},
   "outputs": [],
   "source": [
    "a='this is sparta'"
   ]
  },
  {
   "cell_type": "code",
   "execution_count": 74,
   "id": "abf54aa4",
   "metadata": {},
   "outputs": [
    {
     "name": "stdout",
     "output_type": "stream",
     "text": [
      "['t', 'h', 'i', 's', ' ', 'i', 's', ' ', 's', 'p', 'a', 'r', 't', 'a']\n"
     ]
    }
   ],
   "source": [
    "print(list(a))"
   ]
  },
  {
   "cell_type": "markdown",
   "id": "8668f429",
   "metadata": {},
   "source": [
    "---------------"
   ]
  },
  {
   "cell_type": "markdown",
   "id": "4daae017",
   "metadata": {},
   "source": [
    "--------------------------------"
   ]
  },
  {
   "cell_type": "code",
   "execution_count": 75,
   "id": "954e6fb0",
   "metadata": {},
   "outputs": [],
   "source": [
    "#list methods-count(),reverse(),sort(), index()\n",
    "# inbuilt functions- max(), min(), "
   ]
  },
  {
   "cell_type": "code",
   "execution_count": 76,
   "id": "e5d00435",
   "metadata": {},
   "outputs": [],
   "source": [
    "#count(element to count)"
   ]
  },
  {
   "cell_type": "code",
   "execution_count": 77,
   "id": "eb7751f7",
   "metadata": {},
   "outputs": [],
   "source": [
    "x=[m for m in range(10,70,10)]"
   ]
  },
  {
   "cell_type": "code",
   "execution_count": 78,
   "id": "6d3fe8f3",
   "metadata": {},
   "outputs": [
    {
     "data": {
      "text/plain": [
       "[10, 20, 30, 40, 50, 60]"
      ]
     },
     "execution_count": 78,
     "metadata": {},
     "output_type": "execute_result"
    }
   ],
   "source": [
    "x"
   ]
  },
  {
   "cell_type": "code",
   "execution_count": 79,
   "id": "2ea42b59",
   "metadata": {},
   "outputs": [],
   "source": [
    "x[3]=90"
   ]
  },
  {
   "cell_type": "code",
   "execution_count": 80,
   "id": "a45e6a82",
   "metadata": {},
   "outputs": [
    {
     "data": {
      "text/plain": [
       "[10, 20, 30, 90, 50, 60]"
      ]
     },
     "execution_count": 80,
     "metadata": {},
     "output_type": "execute_result"
    }
   ],
   "source": [
    "x"
   ]
  },
  {
   "cell_type": "code",
   "execution_count": 81,
   "id": "75444638",
   "metadata": {},
   "outputs": [],
   "source": [
    "x[2]=10"
   ]
  },
  {
   "cell_type": "code",
   "execution_count": 82,
   "id": "8e41fb54",
   "metadata": {},
   "outputs": [
    {
     "data": {
      "text/plain": [
       "[10, 20, 10, 90, 50, 60]"
      ]
     },
     "execution_count": 82,
     "metadata": {},
     "output_type": "execute_result"
    }
   ],
   "source": [
    "x"
   ]
  },
  {
   "cell_type": "code",
   "execution_count": 83,
   "id": "983e339d",
   "metadata": {},
   "outputs": [
    {
     "data": {
      "text/plain": [
       "2"
      ]
     },
     "execution_count": 83,
     "metadata": {},
     "output_type": "execute_result"
    }
   ],
   "source": [
    "x.count(10) # counts number of times an element is present in a list"
   ]
  },
  {
   "cell_type": "code",
   "execution_count": 84,
   "id": "9a012bf7",
   "metadata": {},
   "outputs": [
    {
     "data": {
      "text/plain": [
       "90"
      ]
     },
     "execution_count": 84,
     "metadata": {},
     "output_type": "execute_result"
    }
   ],
   "source": [
    "max(x)"
   ]
  },
  {
   "cell_type": "code",
   "execution_count": 85,
   "id": "d74624f1",
   "metadata": {},
   "outputs": [
    {
     "data": {
      "text/plain": [
       "10"
      ]
     },
     "execution_count": 85,
     "metadata": {},
     "output_type": "execute_result"
    }
   ],
   "source": [
    "min(x)"
   ]
  },
  {
   "cell_type": "code",
   "execution_count": 88,
   "id": "aa850187",
   "metadata": {},
   "outputs": [],
   "source": [
    "x.sort() #is a method"
   ]
  },
  {
   "cell_type": "code",
   "execution_count": 89,
   "id": "cd211ae5",
   "metadata": {},
   "outputs": [
    {
     "data": {
      "text/plain": [
       "[10, 10, 20, 50, 60, 90]"
      ]
     },
     "execution_count": 89,
     "metadata": {},
     "output_type": "execute_result"
    }
   ],
   "source": [
    "x"
   ]
  },
  {
   "cell_type": "code",
   "execution_count": 90,
   "id": "f79035f9",
   "metadata": {},
   "outputs": [],
   "source": [
    "g=['Hello','World']"
   ]
  },
  {
   "cell_type": "code",
   "execution_count": 91,
   "id": "745f744e",
   "metadata": {},
   "outputs": [
    {
     "data": {
      "text/plain": [
       "'World'"
      ]
     },
     "execution_count": 91,
     "metadata": {},
     "output_type": "execute_result"
    }
   ],
   "source": [
    "max(g)"
   ]
  },
  {
   "cell_type": "code",
   "execution_count": 92,
   "id": "60ab6cb6",
   "metadata": {},
   "outputs": [
    {
     "data": {
      "text/plain": [
       "'Hello'"
      ]
     },
     "execution_count": 92,
     "metadata": {},
     "output_type": "execute_result"
    }
   ],
   "source": [
    "min(g)"
   ]
  },
  {
   "cell_type": "code",
   "execution_count": 94,
   "id": "02d11c70",
   "metadata": {},
   "outputs": [
    {
     "data": {
      "text/plain": [
       "0"
      ]
     },
     "execution_count": 94,
     "metadata": {},
     "output_type": "execute_result"
    }
   ],
   "source": [
    "g.index('Hello')"
   ]
  },
  {
   "cell_type": "code",
   "execution_count": null,
   "id": "5c3f18d3",
   "metadata": {},
   "outputs": [],
   "source": []
  }
 ],
 "metadata": {
  "kernelspec": {
   "display_name": "Python 3 (ipykernel)",
   "language": "python",
   "name": "python3"
  },
  "language_info": {
   "codemirror_mode": {
    "name": "ipython",
    "version": 3
   },
   "file_extension": ".py",
   "mimetype": "text/x-python",
   "name": "python",
   "nbconvert_exporter": "python",
   "pygments_lexer": "ipython3",
   "version": "3.9.7"
  }
 },
 "nbformat": 4,
 "nbformat_minor": 5
}
