{
 "cells": [
  {
   "cell_type": "markdown",
   "id": "f09e6c13",
   "metadata": {},
   "source": [
    "#Object Oriented Programming (OOPS)\n"
   ]
  },
  {
   "cell_type": "markdown",
   "id": "b5d8a575",
   "metadata": {},
   "source": [
    "\\__new__ method will be called when an object is created and \\__init__ method will be called to initialize the object.\n",
    " In the base class object, the \\__new__ method is defined as a static method which requires to pass a parameter cls. \n",
    " cls represents the class that is needed to be instantiated, and the compiler automatically provides this parameter \n",
    " at the time of instantiation.\n",
    " \n",
    " \n",
    " "
   ]
  },
  {
   "cell_type": "code",
   "execution_count": null,
   "id": "c26b551e",
   "metadata": {},
   "outputs": [],
   "source": [
    "#Constructor is used to create object. In Python this is done by __new__(cls,*args,**kwargs) method \n",
    "#which is a method that belongs to 'object' base class. We don't usually call __new__()\n",
    "#it is automatically called when creating a object however we can explicity call it \n",
    "#to define how a new object is created with some different attributes or to restrict the number of objects.\n",
    "#__init__(self,*args,**kwargs) is used to initialize an object after it is created. \n",
    "\n",
    "#So far function definition inside a class we need to use self with every object.\n",
    "#And first parameter of every function is self i.e object"
   ]
  },
  {
   "cell_type": "code",
   "execution_count": null,
   "id": "db9383f7",
   "metadata": {},
   "outputs": [],
   "source": [
    "#class_name- no space between the words, we use camel case or title case for name\n",
    "#function() are defined outside the class\n",
    "#.methods() are defined inside the class\n",
    "class DemoClass:\n",
    "    a=10\n",
    "    def sumvalue(self): #when creating a function inside a class we need to pass an argument\n",
    "        print(20+30)"
   ]
  },
  {
   "cell_type": "code",
   "execution_count": null,
   "id": "62de7ec7",
   "metadata": {},
   "outputs": [],
   "source": [
    "demo_object=DemoClass()"
   ]
  },
  {
   "cell_type": "code",
   "execution_count": null,
   "id": "a0ef07d4",
   "metadata": {},
   "outputs": [],
   "source": [
    "demo_object.sumvalue()"
   ]
  },
  {
   "cell_type": "code",
   "execution_count": null,
   "id": "0ef807c7",
   "metadata": {},
   "outputs": [],
   "source": [
    "class test:\n",
    "    a=10 #class variable\n",
    "    \n",
    "    def __init__(self): #__init__() this is a keyword reserved for constructor and is used to initialize a object\n",
    "        print('Constructor is called')\n",
    "    def print_value(self):\n",
    "        print(self.a) #now in order to use attributes of a class inside the function definition we need pass it using self.a as \n",
    "        \n",
    "    def print_value2(self,a=0,b=0):\n",
    "        print(a+b) #here we don't intend to use self.a or self.b as we are't calling the class variable into other functions or call the values by object"
   ]
  },
  {
   "cell_type": "code",
   "execution_count": null,
   "id": "6a422a42",
   "metadata": {},
   "outputs": [],
   "source": [
    "obj=test()\n",
    "obj.print_value()"
   ]
  },
  {
   "cell_type": "code",
   "execution_count": null,
   "id": "bfb4fc15",
   "metadata": {},
   "outputs": [],
   "source": [
    "obj.print_value2(10,20)"
   ]
  },
  {
   "cell_type": "code",
   "execution_count": null,
   "id": "6f7ddbbf",
   "metadata": {},
   "outputs": [],
   "source": [
    "# example of child class only inherits parent class but not initialize it"
   ]
  },
  {
   "cell_type": "code",
   "execution_count": 22,
   "id": "92ec2c54",
   "metadata": {
    "scrolled": true
   },
   "outputs": [
    {
     "name": "stdout",
     "output_type": "stream",
     "text": [
      "Inherited Person Class\n",
      "TCS\n",
      "DA\n"
     ]
    },
    {
     "ename": "AttributeError",
     "evalue": "'Employee' object has no attribute 'name'",
     "output_type": "error",
     "traceback": [
      "\u001b[1;31m---------------------------------------------------------------------------\u001b[0m",
      "\u001b[1;31mAttributeError\u001b[0m                            Traceback (most recent call last)",
      "\u001b[1;32m~\\AppData\\Local\\Temp/ipykernel_9180/1054058410.py\u001b[0m in \u001b[0;36m<module>\u001b[1;34m\u001b[0m\n\u001b[0;32m     18\u001b[0m \u001b[0mprint\u001b[0m\u001b[1;33m(\u001b[0m\u001b[0mp1\u001b[0m\u001b[1;33m.\u001b[0m\u001b[0mcompany\u001b[0m\u001b[1;33m)\u001b[0m\u001b[1;33m\u001b[0m\u001b[1;33m\u001b[0m\u001b[0m\n\u001b[0;32m     19\u001b[0m \u001b[0mprint\u001b[0m\u001b[1;33m(\u001b[0m\u001b[0mp1\u001b[0m\u001b[1;33m.\u001b[0m\u001b[0mposition\u001b[0m\u001b[1;33m)\u001b[0m\u001b[1;33m\u001b[0m\u001b[1;33m\u001b[0m\u001b[0m\n\u001b[1;32m---> 20\u001b[1;33m \u001b[0mp1\u001b[0m\u001b[1;33m.\u001b[0m\u001b[0mname\u001b[0m\u001b[1;33m\u001b[0m\u001b[1;33m\u001b[0m\u001b[0m\n\u001b[0m",
      "\u001b[1;31mAttributeError\u001b[0m: 'Employee' object has no attribute 'name'"
     ]
    }
   ],
   "source": [
    "class Person:\n",
    "    def __init__(self, name, age):\n",
    "        self.name = name #we set vakue for self.name if we wish to call the value using object\n",
    "        self.age = age #instance varibale are declared inside the initializer\n",
    "        \n",
    "    def print_details(self):\n",
    "        #print(self.name, self.age)\n",
    "        print('Inherited Person Class')\n",
    "\n",
    "class Employee(Person):\n",
    "    def __init__(self,name, age, company, position):\n",
    "        self.company=company\n",
    "        self.position=position\n",
    "\n",
    "        \n",
    "p1 = Employee(\"John\", 36,\"TCS\", \"DA\")    \n",
    "p1.print_details()\n",
    "print(p1.company)\n",
    "print(p1.position)\n",
    "p1.name"
   ]
  },
  {
   "cell_type": "code",
   "execution_count": null,
   "id": "62c91da7",
   "metadata": {},
   "outputs": [],
   "source": [
    "#child class inherits and initializes parent class"
   ]
  },
  {
   "cell_type": "code",
   "execution_count": 23,
   "id": "489cf128",
   "metadata": {},
   "outputs": [
    {
     "name": "stdout",
     "output_type": "stream",
     "text": [
      "Inherited Person Class\n",
      "TCS\n",
      "DA\n",
      "John\n"
     ]
    }
   ],
   "source": [
    "class Person:\n",
    "    def __init__(self, name, age):\n",
    "        self.name = name #we set vakue for self.name if we wish to call the value using object\n",
    "        self.age = age #instance varibale are declared inside the initializer\n",
    "        \n",
    "    def print_details(self):\n",
    "        #print(self.name, self.age)\n",
    "        print('Inherited Person Class')\n",
    "\n",
    "class Employee(Person):\n",
    "    def __init__(self,name, age, company, position):\n",
    "        self.company=company\n",
    "        self.position=position\n",
    "        super().__init__(name, age)\n",
    "\n",
    "        \n",
    "p1 = Employee(\"John\", 36,\"TCS\", \"DA\")    \n",
    "p1.print_details()\n",
    "print(p1.company)\n",
    "print(p1.position)\n",
    "print(p1.name)"
   ]
  },
  {
   "cell_type": "markdown",
   "id": "e1c9b953",
   "metadata": {},
   "source": [
    "------------\n"
   ]
  },
  {
   "cell_type": "code",
   "execution_count": null,
   "id": "88104c82",
   "metadata": {},
   "outputs": [],
   "source": [
    "# class inheritance"
   ]
  },
  {
   "cell_type": "code",
   "execution_count": 27,
   "id": "f1dc86c8",
   "metadata": {},
   "outputs": [],
   "source": [
    "class A:\n",
    "    x=10\n",
    "    def displayA(self):\n",
    "        print(\"This is class A\")"
   ]
  },
  {
   "cell_type": "code",
   "execution_count": 28,
   "id": "b602fed2",
   "metadata": {},
   "outputs": [],
   "source": [
    "class B(A): #class B inherits class A\n",
    "    def displayB(self):\n",
    "        print('This is class B')"
   ]
  },
  {
   "cell_type": "code",
   "execution_count": 29,
   "id": "ea352d61",
   "metadata": {},
   "outputs": [],
   "source": [
    "class C(B):\n",
    "    def displayC(slef):\n",
    "        print('This is class C ')"
   ]
  },
  {
   "cell_type": "code",
   "execution_count": 30,
   "id": "6970076e",
   "metadata": {},
   "outputs": [
    {
     "name": "stdout",
     "output_type": "stream",
     "text": [
      "This is class A\n",
      "This is class B\n",
      "This is class C \n"
     ]
    }
   ],
   "source": [
    "obj=C() #only lower class can access upper class\n",
    "obj.displayA()\n",
    "obj.displayB()\n",
    "obj.displayC()"
   ]
  },
  {
   "cell_type": "code",
   "execution_count": 35,
   "id": "48ede6a1",
   "metadata": {},
   "outputs": [
    {
     "name": "stdout",
     "output_type": "stream",
     "text": [
      "This is class D \n",
      "This is class C \n",
      "This is class B\n",
      "This is class A\n"
     ]
    },
    {
     "data": {
      "text/plain": [
       "\"Multiple inheritance is supported by Python only,\\nJAVA, PHP don't support this\""
      ]
     },
     "execution_count": 35,
     "metadata": {},
     "output_type": "execute_result"
    }
   ],
   "source": [
    "class D(C,B,A): #MRO method resolution order is defined by C3 linearization algorithm which states that: the class, the parent, and parent's parent- should be the order while inheritig the class\n",
    "    def displayD(slef):\n",
    "        print('This is class D ')\n",
    "\n",
    "obj_D=D()\n",
    "obj_D.displayD()\n",
    "obj_D.displayC()\n",
    "obj_D.displayB()\n",
    "obj_D.displayA()\n",
    "\n",
    "\n",
    "'''Multiple inheritance is supported by Python only,\n",
    "JAVA, PHP don't support this'''"
   ]
  },
  {
   "cell_type": "code",
   "execution_count": null,
   "id": "da206896",
   "metadata": {},
   "outputs": [],
   "source": [
    "obj1=D()"
   ]
  },
  {
   "cell_type": "code",
   "execution_count": null,
   "id": "842f8f07",
   "metadata": {},
   "outputs": [],
   "source": [
    "obj1.displayA()\n",
    "obj1.displayB()\n",
    "obj1.displayC()\n",
    "obj1.displayD()"
   ]
  },
  {
   "cell_type": "markdown",
   "id": "c4c97d46",
   "metadata": {},
   "source": [
    "--------------"
   ]
  },
  {
   "cell_type": "markdown",
   "id": "a4f889d5",
   "metadata": {},
   "source": [
    "---------------"
   ]
  },
  {
   "cell_type": "code",
   "execution_count": 37,
   "id": "228995b4",
   "metadata": {},
   "outputs": [],
   "source": [
    "#Wihtout using super() trying to use parent class variables : we see errors"
   ]
  },
  {
   "cell_type": "code",
   "execution_count": null,
   "id": "5a510591",
   "metadata": {},
   "outputs": [],
   "source": [
    "# code\n",
    "class Person:\n",
    "    \n",
    "    # Constructor\n",
    "    def __init__(self, name, id):\n",
    "        self.name = name\n",
    "        self.id = id\n",
    "    # To check if this person is an employee\n",
    "    def Display(self):\n",
    "        print(self.name, self.id)\n",
    "\n",
    "class Emp(Person):\n",
    "     \n",
    "    def __init__(self, name, id):\n",
    "        self.name_ = name\n",
    " \n",
    "    def Print(self):\n",
    "        print(\"Emp class called\")\n",
    "\n",
    "Emp_details = Emp(\"Mayank\", 103)\n",
    "# calling parent class function\n",
    "Emp_details.name_, Emp_details.name"
   ]
  },
  {
   "cell_type": "markdown",
   "id": "086ec6d1",
   "metadata": {},
   "source": [
    "---------------------------------------------------------------------------\n",
    "AttributeError                            Traceback (most recent call last)\n",
    "<ipython-input-12-46ffda859ba6> in <module>\n",
    "     24 \n",
    "     25 # calling parent class function\n",
    "---> 26 Emp_details.name_, Emp_details.name\n",
    "\n",
    "AttributeError: 'Emp' object has no attribute 'name'"
   ]
  },
  {
   "cell_type": "markdown",
   "id": "8d6c2c74",
   "metadata": {},
   "source": [
    "child class inherits all of the methods of parent class without initializing the parent class. However, if initializing is not done then all the attributes that are int dunder method __init__ is not initialized and any method that depends on those attributes won't work."
   ]
  },
  {
   "cell_type": "code",
   "execution_count": null,
   "id": "a22ee242",
   "metadata": {},
   "outputs": [],
   "source": [
    "#Inititating Parent Class using super()"
   ]
  },
  {
   "cell_type": "code",
   "execution_count": null,
   "id": "4e0a868a",
   "metadata": {},
   "outputs": [],
   "source": [
    "class Emp():\n",
    "    def __init__(self, id, name, Add):\n",
    "        self.id = id\n",
    "        self.name = name\n",
    "        self.Add = Add\n",
    "# Class freelancer inherits EMP\n",
    "class Freelance(Emp):\n",
    "    def __init__(self, id, name, Add, Emails):\n",
    "        super().__init__(id, name, Add)\n",
    "        self.Emails = Emails\n",
    "Emp_1 = Freelance(103, \"Suraj kr gupta\", \"Noida\" , \"KKK@gmails\")\n",
    "print('The ID is:', Emp_1.id)\n",
    "print('The Name is:', Emp_1.name)\n",
    "print('The Address is:', Emp_1.Add)\n",
    "print('The Emails is:', Emp_1.Emails)"
   ]
  },
  {
   "cell_type": "markdown",
   "id": "ecb03e74",
   "metadata": {},
   "source": [
    "The ID is: 103\n",
    "The Name is: Suraj kr gupta\n",
    "The Address is: Noida\n",
    "The Emails is: KKK@gmails"
   ]
  },
  {
   "cell_type": "code",
   "execution_count": null,
   "id": "ff25b693",
   "metadata": {},
   "outputs": [],
   "source": [
    "#Single Inheritance"
   ]
  },
  {
   "cell_type": "code",
   "execution_count": null,
   "id": "dd499eeb",
   "metadata": {},
   "outputs": [],
   "source": [
    "# Python program to demonstrate\n",
    "# super function\n",
    " \n",
    "class Animals:\n",
    "    # Initializing constructor\n",
    "    def __init__(self):\n",
    "        self.legs = 4\n",
    "        self.domestic = True\n",
    "        self.tail = True\n",
    "        self.mammals = True\n",
    " \n",
    "    def isMammal(self):\n",
    "        if self.mammals:\n",
    "            print(\"It is a mammal.\")\n",
    " \n",
    "    def isDomestic(self):\n",
    "        if self.domestic:\n",
    "            print(\"It is a domestic animal.\")\n",
    "class Dogs(Animals):\n",
    "    def __init__(self):\n",
    "        super().__init__()\n",
    " \n",
    "    def isMammal(self):\n",
    "        super().isMammal()\n",
    "class Horses(Animals):\n",
    "    def __init__(self):\n",
    "        super().__init__()\n",
    " \n",
    "    def hasTailandLegs(self):\n",
    "        if self.tail and self.legs == 4:\n",
    "            print(\"Has legs and tail\")\n",
    "# Driver code\n",
    "Tom = Dogs()\n",
    "Tom.isMammal()\n",
    "Bruno = Horses()\n",
    "Bruno.hasTailandLegs()"
   ]
  },
  {
   "cell_type": "code",
   "execution_count": null,
   "id": "c3ccebe0",
   "metadata": {},
   "outputs": [],
   "source": [
    "It is a mammal.\n",
    "Has legs and tail"
   ]
  },
  {
   "cell_type": "code",
   "execution_count": null,
   "id": "aac72e94",
   "metadata": {},
   "outputs": [],
   "source": [
    "#Multiple inheritance using super()"
   ]
  },
  {
   "cell_type": "code",
   "execution_count": 25,
   "id": "13a4cab1",
   "metadata": {},
   "outputs": [
    {
     "name": "stdout",
     "output_type": "stream",
     "text": [
      "DOG is an Animal\n",
      "DOG cannot Fly\n",
      "DOG can Swim\n",
      "DOG is a Mammal\n"
     ]
    }
   ],
   "source": [
    "class Mammal():\n",
    "    def __init__(self, name):\n",
    "        print(name, \"is a Mammal\")\n",
    "        \n",
    "class canFly(Mammal):\n",
    "    def __init__(self, canFly_name):\n",
    "        print(canFly_name, 'cannot Fly')\n",
    "        super().__init__(canFly_name)\n",
    "    \n",
    "class canSwim(Mammal):\n",
    "    def __init__(self, canSwim_name):\n",
    "        print(canSwim_name, 'can Swim')\n",
    "        super().__init__(canSwim_name)\n",
    "       \n",
    "        \n",
    "class Animal(canFly,canSwim):\n",
    "    def __init__(self, name):\n",
    "        print(name, \"is an Animal\")\n",
    "        super().__init__(name)\n",
    "        \n",
    "        \n",
    "Coco=Animal('DOG')"
   ]
  },
  {
   "cell_type": "markdown",
   "id": "2176b714",
   "metadata": {},
   "source": [
    "Base Class will be invoked only once. Multiple inheritance is a mind-wrecking concept hence it is adivised to not use it."
   ]
  },
  {
   "cell_type": "code",
   "execution_count": null,
   "id": "1dcf5a5d",
   "metadata": {},
   "outputs": [],
   "source": [
    "# Multi-level inheritance"
   ]
  },
  {
   "cell_type": "code",
   "execution_count": 3,
   "id": "ca1d84a0",
   "metadata": {},
   "outputs": [
    {
     "name": "stdout",
     "output_type": "stream",
     "text": [
      "DOG is an Animal\n",
      "DOG can Swim\n",
      "DOG cannot Fly\n",
      "DOG is a Mammal\n"
     ]
    }
   ],
   "source": [
    "class Mammal():\n",
    "    def __init__(self, name):\n",
    "        print(name, \"is a Mammal\")\n",
    "        \n",
    "class canFly(Mammal):\n",
    "    def __init__(self, canFly_name):\n",
    "        print(canFly_name, 'cannot Fly')\n",
    "        super().__init__(canFly_name)\n",
    "    \n",
    "class canSwim(canFly):\n",
    "    def __init__(self, canSwim_name):\n",
    "        print(canSwim_name, 'can Swim')\n",
    "        super().__init__(canSwim_name)\n",
    "       \n",
    "        \n",
    "class Animal(canSwim):\n",
    "    def __init__(self, name):\n",
    "        print(name, \"is an Animal\")\n",
    "        super().__init__(name)\n",
    "        \n",
    "        \n",
    "Coco=Animal('DOG')"
   ]
  },
  {
   "cell_type": "markdown",
   "id": "e508fd0c",
   "metadata": {},
   "source": [
    "------------"
   ]
  },
  {
   "cell_type": "markdown",
   "id": "a857a587",
   "metadata": {},
   "source": [
    "# Static Method"
   ]
  },
  {
   "cell_type": "markdown",
   "id": "aff0b8c0",
   "metadata": {},
   "source": [
    "__Class methods__: Used to access or modify the state of the class. if we use only class variables, we should declare such methods as a class method.\\\n",
    "\n",
    "__Static methods__: A static method is a *__general utility method that performs a task in isolation, or store some logical relationship to other methods__.* Inside this method, we don’t use __instance or class variable__ because this static method doesn’t take any parameters like __self and cls__. Therefore it cannot modify the state of the object or class.\n",
    "\n",
    "__A static method is a general utility method that performs a task in isolation. It is used as utility function or to hold some logical relationship to other class or instance methods.__\n",
    "\n",
    "\n",
    "A static method is bound to the class and not the object of the class. Therefore, we can call it using the __class name__ as well as using __object__ of the class. However the there is only one copy of static method that is inside the class, this is what we meant by the starting statement that 'A static method is bound to the class and not the object of the class.'\n"
   ]
  },
  {
   "cell_type": "code",
   "execution_count": 2,
   "id": "f8592f3f",
   "metadata": {},
   "outputs": [
    {
     "name": "stdout",
     "output_type": "stream",
     "text": [
      "Inside static method 10\n",
      "Inside static method 20\n"
     ]
    }
   ],
   "source": [
    "class Employee:\n",
    "\n",
    "    @staticmethod\n",
    "    def sample(x):\\\n",
    "\n",
    "       print('Inside static method', x)\n",
    "\n",
    "#call static method\n",
    "Employee.sample(10)\\\n",
    "\n",
    "#can be called using object\n",
    "emp = Employee()\n",
    "emp.sample(20)"
   ]
  },
  {
   "cell_type": "markdown",
   "id": "b4c3e7c1",
   "metadata": {},
   "source": [
    "Any method we create in a class will automatically be created as an instance method. We must explicitly tell Python that it is a static method using the __@staticmethod__ decorator or __staticmethod()__ function. [ __staticmethod()__ is an old method using in Python 2.2 and 2.3.]  As static methods have only one copy per class and this methods are not created for instance, so if we don't want to create it as an instance method, which will be created for every instance, we must make it static.\n",
    "\n",
    "The @staticmethod decorator is a built-in function decorator in Python to declare a method as a static method. It is an expression that gets evaluated after our function is defined.\n",
    "\n",
    "In this example, we will create a static method gather_requirement() that accepts the project name and returns all requirements to complete under this project.\n",
    "\n",
    "Static methods are a special case of methods. Sometimes, you’ll write code that belongs to a class, but that doesn’t use the object itself at all. It is a utility method and doesn’t need an object (self parameter) to complete its operation. So we declare it as a static method. Also, we can call it from another method of a class."
   ]
  },
  {
   "attachments": {
    "Screenshot%20%28132%29.png": {
     "image/png": "[encoded data removed]"
    }
   },
   "cell_type": "markdown",
   "id": "dde771a1",
   "metadata": {},
   "source": [
    "![Screenshot%20%28132%29.png](attachment:Screenshot%20%28132%29.png)"
   ]
  },
  {
   "cell_type": "markdown",
   "id": "4a8575df",
   "metadata": {},
   "source": [
    "O/P:\\\n",
    "Completed task_1\\\n",
    "Completed task_2\\\n",
    "Completed task_3"
   ]
  },
  {
   "cell_type": "markdown",
   "id": "5a3a4ea8",
   "metadata": {},
   "source": [
    "* Consume Less memory: Instance methods are object too, and creating them has a cost. Having a static method avoids that. Let’s assume you have ten employee objects and if you create gather_requirement() as a instance method then Python have to create a ten copies of this method (seperate for each object) which will consume more memeory. On the other hand static method has only one copy per class.\n",
    "\n",
    "* To Write Utility functions: Static methods have limited use because they don’t have access to the attributes of an object (instance variables) and class attributes (class variables). However, they can be helpful in utility such as conversion form one type to another. The parameters provided are enough to operate.\n",
    "\n",
    "* Readabiltity: Seeing the @staticmethod at the top of the method, we know that the method does not depend on the object’s state or the class state."
   ]
  },
  {
   "cell_type": "markdown",
   "id": "f73a70d5",
   "metadata": {},
   "source": [
    "-----------"
   ]
  },
  {
   "cell_type": "markdown",
   "id": "3ef7b0f1",
   "metadata": {},
   "source": [
    "## Attributes v/s Property\n",
    "### * Attributes in context of OOP are class variables and instance variables.\\\n",
    "### * Properties are special type of attributes that you can use to get complete control over attributes. For ex: you can set which method can/cannot access (getter) a particular attribute, or specify condition on setting (setter) value. Using property decorator is the most commonly used method of creating property."
   ]
  },
  {
   "cell_type": "code",
   "execution_count": 38,
   "id": "8ae55d15",
   "metadata": {},
   "outputs": [],
   "source": [
    "class A(object):\n",
    "    _x = 0\n",
    "    '''A._x is an attribute'''\n",
    "\n",
    "    @property\n",
    "    def x(self):\n",
    "        '''\n",
    "        A.x is a property\n",
    "        This is the getter method\n",
    "        '''\n",
    "        return self._x\n",
    "\n",
    "    @x.setter\n",
    "    def x(self, value):\n",
    "        \"\"\"\n",
    "        This is the setter method\n",
    "        where I can check it's not assigned a value < 0\n",
    "        \"\"\"\n",
    "        if value < 0:\n",
    "            raise ValueError(\"Must be >= 0\")\n",
    "        self._x = value\n",
    "\n"
   ]
  },
  {
   "cell_type": "code",
   "execution_count": 43,
   "id": "17603ea1",
   "metadata": {},
   "outputs": [
    {
     "data": {
      "text/plain": [
       "0"
      ]
     },
     "execution_count": 43,
     "metadata": {},
     "output_type": "execute_result"
    }
   ],
   "source": [
    "a=A()\n",
    "a._x = -1\n",
    "A._x"
   ]
  },
  {
   "cell_type": "code",
   "execution_count": 42,
   "id": "a402db48",
   "metadata": {
    "scrolled": true
   },
   "outputs": [
    {
     "ename": "ValueError",
     "evalue": "Must be >= 0",
     "output_type": "error",
     "traceback": [
      "\u001b[1;31m---------------------------------------------------------------------------\u001b[0m",
      "\u001b[1;31mValueError\u001b[0m                                Traceback (most recent call last)",
      "\u001b[1;32m~\\AppData\\Local\\Temp/ipykernel_9180/1387092424.py\u001b[0m in \u001b[0;36m<module>\u001b[1;34m\u001b[0m\n\u001b[1;32m----> 1\u001b[1;33m \u001b[0ma\u001b[0m\u001b[1;33m.\u001b[0m\u001b[0mx\u001b[0m\u001b[1;33m=\u001b[0m\u001b[1;33m-\u001b[0m\u001b[1;36m1\u001b[0m\u001b[1;33m\u001b[0m\u001b[1;33m\u001b[0m\u001b[0m\n\u001b[0m",
      "\u001b[1;32m~\\AppData\\Local\\Temp/ipykernel_9180/2200969702.py\u001b[0m in \u001b[0;36mx\u001b[1;34m(self, value)\u001b[0m\n\u001b[0;32m     18\u001b[0m         \"\"\"\n\u001b[0;32m     19\u001b[0m         \u001b[1;32mif\u001b[0m \u001b[0mvalue\u001b[0m \u001b[1;33m<\u001b[0m \u001b[1;36m0\u001b[0m\u001b[1;33m:\u001b[0m\u001b[1;33m\u001b[0m\u001b[1;33m\u001b[0m\u001b[0m\n\u001b[1;32m---> 20\u001b[1;33m             \u001b[1;32mraise\u001b[0m \u001b[0mValueError\u001b[0m\u001b[1;33m(\u001b[0m\u001b[1;34m\"Must be >= 0\"\u001b[0m\u001b[1;33m)\u001b[0m\u001b[1;33m\u001b[0m\u001b[1;33m\u001b[0m\u001b[0m\n\u001b[0m\u001b[0;32m     21\u001b[0m         \u001b[0mself\u001b[0m\u001b[1;33m.\u001b[0m\u001b[0m_x\u001b[0m \u001b[1;33m=\u001b[0m \u001b[0mvalue\u001b[0m\u001b[1;33m\u001b[0m\u001b[1;33m\u001b[0m\u001b[0m\n\u001b[0;32m     22\u001b[0m \u001b[1;33m\u001b[0m\u001b[0m\n",
      "\u001b[1;31mValueError\u001b[0m: Must be >= 0"
     ]
    }
   ],
   "source": [
    "a.x=-1"
   ]
  },
  {
   "cell_type": "markdown",
   "id": "9c69bde5",
   "metadata": {},
   "source": [
    "* If you use property() function to create property then you need to make attribute or object variable private (__) or non-public (_). Using decorator (@property) is the best way to create property. Python automatically makes the instance variable private. "
   ]
  },
  {
   "cell_type": "code",
   "execution_count": null,
   "id": "651c587e",
   "metadata": {},
   "outputs": [],
   "source": [
    "# circle.py\n",
    "\n",
    "class Circle:\n",
    "    def __init__(self, radius):\n",
    "        self._radius = radius\n",
    "\n",
    "    def _get_radius(self):\n",
    "        print(\"Get radius\")\n",
    "        return self._radius\n",
    "\n",
    "    def _set_radius(self, value):\n",
    "        print(\"Set radius\")\n",
    "        self._radius = value\n",
    "\n",
    "    def _del_radius(self):\n",
    "        print(\"Delete radius\")\n",
    "        del self._radius\n",
    "\n",
    "    radius = property(\n",
    "        fget=_get_radius,\n",
    "        fset=_set_radius,\n",
    "        fdel=_del_radius,\n",
    "        doc=\"The radius property.\"\n",
    "    )\n"
   ]
  },
  {
   "cell_type": "markdown",
   "id": "cf3b6d80",
   "metadata": {},
   "source": [
    "In this code snippet, you create Circle. The class initializer, .__init__(), takes radius as an argument and stores it in a non-public attribute called ._radius. Then you define three non-public methods:\n",
    "\n",
    "    ._get_radius() returns the current value of ._radius\n",
    "    ._set_radius() takes value as an argument and assigns it to ._radius\n",
    "    ._del_radius() deletes the instance attribute ._radius\n",
    "\n",
    "Once you have these three methods in place, you create a class attribute called .radius to store the property object. To initialize the property, you pass the three methods as arguments to property(). You also pass a suitable docstring for your property.\n",
    "The .radius property hides the non-public instance attribute ._radius, which is now your managed attribute in this example. You can access and assign .radius directly. Internally, Python automatically calls ._get_radius() and ._set_radius() when needed. When you execute del circle.radius, Python calls ._del_radius(), which deletes the underlying ._radius."
   ]
  },
  {
   "cell_type": "code",
   "execution_count": null,
   "id": "28cd4d6c",
   "metadata": {},
   "outputs": [],
   "source": [
    "class Circle:\n",
    "\n",
    "    def __init__(self, radius):\n",
    "\n",
    "        self._radius = radius\n",
    "\n",
    "\n",
    "    @property\n",
    "\n",
    "    def radius(self):\n",
    "\n",
    "        \"\"\"The radius property.\"\"\"\n",
    "\n",
    "        print(\"Get radius\")\n",
    "\n",
    "        return self._radius\n",
    "\n",
    "\n",
    "    @radius.setter\n",
    "\n",
    "    def radius(self, value):\n",
    "\n",
    "        print(\"Set radius\")\n",
    "\n",
    "        self._radius = value\n",
    "\n",
    "\n",
    "    @radius.deleter\n",
    "\n",
    "    def radius(self):\n",
    "\n",
    "        print(\"Delete radius\")\n",
    "\n",
    "        del self._radius"
   ]
  },
  {
   "cell_type": "markdown",
   "id": "c0ff7117",
   "metadata": {},
   "source": [
    "You don’t need to use method names such as ._get_radius(), ._set_radius(), and ._del_radius() anymore. Now you have three methods with the same clean and descriptive attribute-like name.\n",
    "\n",
    "The decorator approach for creating properties requires defining a first method using the public name for the underlying managed attribute, which is .radius in this case. This method should implement the getter logic. In the above example, lines 7 to 11 implement that method. \n",
    "\n",
    "You don’t need to use a pair of parentheses for calling .radius() as a method. Instead, you can access .radius as you would access a regular attribute, which is the primary use of properties. They allow you to treat methods as attributes, and they take care of calling the underlying set of methods automatically.\n",
    "\n",
    "Here’s a recap of some important points to remember when you’re creating properties with the decorator approach:\n",
    "\n",
    "    The @property decorator must decorate the getter method.\n",
    "    The docstring must go in the getter method.\n",
    "    The setter and deleter methods must be decorated with the name of the getter method plus .setter and .deleter, respectively\n",
    "    \n",
    "In general, you should avoid turning attributes that don’t require extra processing into properties. Using properties in those situations can make your code:\n",
    "\n",
    "    Unnecessarily verbose\n",
    "    Confusing to other developers\n",
    "    Slower than code based on regular attributes\n"
   ]
  },
  {
   "cell_type": "markdown",
   "id": "16a19bd9",
   "metadata": {},
   "source": [
    "-----------"
   ]
  },
  {
   "cell_type": "markdown",
   "id": "c5f3ed2b",
   "metadata": {},
   "source": [
    "### _Single Leading Underscores\n",
    "\n",
    "So basically one underline at the beginning of a method, function, or data member means you shouldn’t access this method because it’s not part of the API. Let’s look at this snippet of code: "
   ]
  },
  {
   "cell_type": "markdown",
   "id": "ca8824e3",
   "metadata": {},
   "source": [
    "### __Double Leading Underscores\n",
    "\n",
    "Two underlines, in the beginning, cause a lot of confusion. This is about syntax rather than a convention. double underscore will mangle the attribute names of a class to avoid conflicts of attribute names between classes. For example: "
   ]
  },
  {
   "cell_type": "markdown",
   "id": "d8fa2a05",
   "metadata": {},
   "source": [
    "--------------------"
   ]
  },
  {
   "cell_type": "markdown",
   "id": "8681c241",
   "metadata": {},
   "source": [
    "--------"
   ]
  },
  {
   "cell_type": "markdown",
   "id": "156cda3a",
   "metadata": {},
   "source": [
    "### Providing Read-Only Attributes"
   ]
  },
  {
   "cell_type": "code",
   "execution_count": null,
   "id": "d732387f",
   "metadata": {},
   "outputs": [],
   "source": [
    "class Point:\n",
    "    def __init__(self, x, y):\n",
    "        self._x = x\n",
    "        self._y = y\n",
    "\n",
    "    @property\n",
    "    def x(self):\n",
    "        return self._x\n",
    "\n",
    "    @property\n",
    "    def y(self):\n",
    "        return self._y"
   ]
  },
  {
   "cell_type": "markdown",
   "id": "5ad9b087",
   "metadata": {},
   "source": [
    "### Providing Write-Only Attributes"
   ]
  },
  {
   "cell_type": "code",
   "execution_count": null,
   "id": "b413b7fb",
   "metadata": {},
   "outputs": [],
   "source": [
    "import hashlib\n",
    "import os\n",
    "\n",
    "class User:\n",
    "    def __init__(self, name, password):\n",
    "        self.name = name\n",
    "        self.password = password\n",
    "\n",
    "    @property\n",
    "    def password(self):\n",
    "        raise AttributeError(\"Password is write-only\")\n",
    "\n",
    "    @password.setter\n",
    "    def password(self, plaintext):\n",
    "        salt = os.urandom(32)\n",
    "        self._hashed_password = hashlib.pbkdf2_hmac(\n",
    "            \"sha256\", plaintext.encode(\"utf-8\"), salt, 100_000\n",
    "        )"
   ]
  }
 ],
 "metadata": {
  "kernelspec": {
   "display_name": "Python 3 (ipykernel)",
   "language": "python",
   "name": "python3"
  },
  "language_info": {
   "codemirror_mode": {
    "name": "ipython",
    "version": 3
   },
   "file_extension": ".py",
   "mimetype": "text/x-python",
   "name": "python",
   "nbconvert_exporter": "python",
   "pygments_lexer": "ipython3",
   "version": "3.9.7"
  }
 },
 "nbformat": 4,
 "nbformat_minor": 5
}
