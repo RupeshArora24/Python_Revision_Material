{
 "cells": [
  {
   "cell_type": "code",
   "execution_count": null,
   "id": "868b2e0f",
   "metadata": {},
   "outputs": [],
   "source": [
    "#Dictionary methods - \n",
    "'''\n",
    "Dictionary stores unique key-value pair, key are unique values can be duplicate\n",
    "\n",
    "Methods:\n",
    "d.get(key) -returns value of key specified\n",
    "d.keys() - returns a list of all keys, type is dict_keys i.e a view which is an iterable\n",
    "d.values() - returns a list of all values as view\n",
    "d.items() - returns a tuple of key value pair\n",
    "del d[]  - keyword deletes key-value pair\n",
    "d.pop() - takes out the key-value pair \n",
    "dict(first='day',week=12) - creates dictionary out of vairables i.e keys are passed as variables and values are paseed as values of variables\n",
    "d.update({'key':'value'}) - used to add new and update existing value                    \n",
    "d.clear() - clears dictionary\n",
    "\n",
    "'''"
   ]
  },
  {
   "cell_type": "code",
   "execution_count": 2,
   "id": "2aa501ee",
   "metadata": {},
   "outputs": [],
   "source": [
    "d={'course':'Python', 'fees':1000, 'duration':'2 months'}"
   ]
  },
  {
   "cell_type": "code",
   "execution_count": 2,
   "id": "1367a7bf",
   "metadata": {},
   "outputs": [
    {
     "data": {
      "text/plain": [
       "'Python'"
      ]
     },
     "execution_count": 2,
     "metadata": {},
     "output_type": "execute_result"
    }
   ],
   "source": [
    "d.get('course')"
   ]
  },
  {
   "cell_type": "code",
   "execution_count": 3,
   "id": "c195bda9",
   "metadata": {},
   "outputs": [
    {
     "data": {
      "text/plain": [
       "'2 months'"
      ]
     },
     "execution_count": 3,
     "metadata": {},
     "output_type": "execute_result"
    }
   ],
   "source": [
    "d.get('duration')"
   ]
  },
  {
   "cell_type": "code",
   "execution_count": 4,
   "id": "b9b2526e",
   "metadata": {},
   "outputs": [
    {
     "data": {
      "text/plain": [
       "dict_keys(['course', 'fees', 'duration'])"
      ]
     },
     "execution_count": 4,
     "metadata": {},
     "output_type": "execute_result"
    }
   ],
   "source": [
    "d.keys()"
   ]
  },
  {
   "cell_type": "code",
   "execution_count": 8,
   "id": "4f80488c",
   "metadata": {},
   "outputs": [
    {
     "name": "stdout",
     "output_type": "stream",
     "text": [
      "dict_keys(['course', 'fees', 'duration'])\n"
     ]
    }
   ],
   "source": [
    "l=d.keys() # This is called views and iterables.\n",
    "\n",
    "print(l)"
   ]
  },
  {
   "cell_type": "code",
   "execution_count": 12,
   "id": "81caa8f5",
   "metadata": {},
   "outputs": [
    {
     "name": "stdout",
     "output_type": "stream",
     "text": [
      "course\n",
      "fees\n",
      "duration\n"
     ]
    }
   ],
   "source": [
    "for i in l:\n",
    "    type(i)\n",
    "    print(i)"
   ]
  },
  {
   "cell_type": "code",
   "execution_count": 15,
   "id": "aad72391",
   "metadata": {},
   "outputs": [
    {
     "data": {
      "text/plain": [
       "dict_values(['Python', 1000, '2 months'])"
      ]
     },
     "execution_count": 15,
     "metadata": {},
     "output_type": "execute_result"
    }
   ],
   "source": [
    "d.values()"
   ]
  },
  {
   "cell_type": "code",
   "execution_count": 14,
   "id": "bf6554ef",
   "metadata": {},
   "outputs": [
    {
     "name": "stdout",
     "output_type": "stream",
     "text": [
      "Python\n",
      "1000\n",
      "2 months\n"
     ]
    }
   ],
   "source": [
    "for i in d.values():\n",
    "    print(i)"
   ]
  },
  {
   "cell_type": "code",
   "execution_count": 16,
   "id": "1593a354",
   "metadata": {},
   "outputs": [
    {
     "data": {
      "text/plain": [
       "dict_items([('course', 'Python'), ('fees', 1000), ('duration', '2 months')])"
      ]
     },
     "execution_count": 16,
     "metadata": {},
     "output_type": "execute_result"
    }
   ],
   "source": [
    "d.items()"
   ]
  },
  {
   "cell_type": "code",
   "execution_count": 17,
   "id": "96c4307e",
   "metadata": {},
   "outputs": [
    {
     "name": "stdout",
     "output_type": "stream",
     "text": [
      "('course', 'Python')\n",
      "('fees', 1000)\n",
      "('duration', '2 months')\n"
     ]
    }
   ],
   "source": [
    "for i in d.items():\n",
    "    print(i)"
   ]
  },
  {
   "cell_type": "code",
   "execution_count": 18,
   "id": "352208f6",
   "metadata": {},
   "outputs": [
    {
     "name": "stdout",
     "output_type": "stream",
     "text": [
      "{'course': 'Python', 'duration': '2 months'}\n"
     ]
    }
   ],
   "source": [
    "del d['fees']\n",
    "print(d)"
   ]
  },
  {
   "cell_type": "code",
   "execution_count": 19,
   "id": "72ea0f5f",
   "metadata": {},
   "outputs": [],
   "source": [
    "a=d.pop('course')"
   ]
  },
  {
   "cell_type": "code",
   "execution_count": 20,
   "id": "4804ecda",
   "metadata": {},
   "outputs": [
    {
     "name": "stdout",
     "output_type": "stream",
     "text": [
      "Python\n",
      "{'duration': '2 months'}\n"
     ]
    }
   ],
   "source": [
    "print(a)\n",
    "print(d)"
   ]
  },
  {
   "cell_type": "code",
   "execution_count": 22,
   "id": "1aaf7449",
   "metadata": {},
   "outputs": [],
   "source": [
    "f=dict(first='day',week=12)"
   ]
  },
  {
   "cell_type": "code",
   "execution_count": 23,
   "id": "735d709f",
   "metadata": {},
   "outputs": [
    {
     "data": {
      "text/plain": [
       "{'first': 'day', 'week': 12}"
      ]
     },
     "execution_count": 23,
     "metadata": {},
     "output_type": "execute_result"
    }
   ],
   "source": [
    "f"
   ]
  },
  {
   "cell_type": "code",
   "execution_count": 26,
   "id": "bbaecb1f",
   "metadata": {},
   "outputs": [],
   "source": [
    "c=dict(first='day',week=12)\n"
   ]
  },
  {
   "cell_type": "code",
   "execution_count": 27,
   "id": "a4caa3a7",
   "metadata": {},
   "outputs": [
    {
     "data": {
      "text/plain": [
       "{'duration': '2 months'}"
      ]
     },
     "execution_count": 27,
     "metadata": {},
     "output_type": "execute_result"
    }
   ],
   "source": [
    "d"
   ]
  },
  {
   "cell_type": "code",
   "execution_count": 28,
   "id": "a0dc5665",
   "metadata": {},
   "outputs": [],
   "source": [
    "d.update({'duration':'3 Months'})"
   ]
  },
  {
   "cell_type": "code",
   "execution_count": 29,
   "id": "9290a8d2",
   "metadata": {},
   "outputs": [
    {
     "data": {
      "text/plain": [
       "{'duration': '3 Months'}"
      ]
     },
     "execution_count": 29,
     "metadata": {},
     "output_type": "execute_result"
    }
   ],
   "source": [
    "d"
   ]
  },
  {
   "cell_type": "code",
   "execution_count": 30,
   "id": "e8a3161a",
   "metadata": {},
   "outputs": [],
   "source": [
    "d.update({'course':'Python'})"
   ]
  },
  {
   "cell_type": "code",
   "execution_count": 31,
   "id": "fd2cdeae",
   "metadata": {},
   "outputs": [
    {
     "data": {
      "text/plain": [
       "{'duration': '3 Months', 'course': 'Python'}"
      ]
     },
     "execution_count": 31,
     "metadata": {},
     "output_type": "execute_result"
    }
   ],
   "source": [
    "d"
   ]
  },
  {
   "cell_type": "code",
   "execution_count": 32,
   "id": "21eabcbd",
   "metadata": {},
   "outputs": [],
   "source": [
    "#another way to insert"
   ]
  },
  {
   "cell_type": "code",
   "execution_count": 33,
   "id": "5ce22fc3",
   "metadata": {},
   "outputs": [],
   "source": [
    "d['fees']=1000"
   ]
  },
  {
   "cell_type": "code",
   "execution_count": 3,
   "id": "905f6d00",
   "metadata": {},
   "outputs": [
    {
     "data": {
      "text/plain": [
       "{'course': 'Python', 'fees': 1000, 'duration': '2 months'}"
      ]
     },
     "execution_count": 3,
     "metadata": {},
     "output_type": "execute_result"
    }
   ],
   "source": [
    "d\n"
   ]
  },
  {
   "cell_type": "code",
   "execution_count": 4,
   "id": "2f99158b",
   "metadata": {},
   "outputs": [
    {
     "name": "stdout",
     "output_type": "stream",
     "text": [
      "Python\n",
      "{'fees': 1000, 'duration': '2 months'}\n"
     ]
    }
   ],
   "source": [
    "t=d.pop('course')\n",
    "print(t)\n",
    "print(d)"
   ]
  },
  {
   "cell_type": "code",
   "execution_count": 5,
   "id": "bdc41dcd",
   "metadata": {},
   "outputs": [
    {
     "name": "stdout",
     "output_type": "stream",
     "text": [
      "{'duration': '2 months'}\n"
     ]
    }
   ],
   "source": [
    "d.pop('fees')\n",
    "print(d)"
   ]
  },
  {
   "cell_type": "code",
   "execution_count": null,
   "id": "529492f0",
   "metadata": {},
   "outputs": [],
   "source": []
  }
 ],
 "metadata": {
  "kernelspec": {
   "display_name": "Python 3 (ipykernel)",
   "language": "python",
   "name": "python3"
  },
  "language_info": {
   "codemirror_mode": {
    "name": "ipython",
    "version": 3
   },
   "file_extension": ".py",
   "mimetype": "text/x-python",
   "name": "python",
   "nbconvert_exporter": "python",
   "pygments_lexer": "ipython3",
   "version": "3.9.7"
  }
 },
 "nbformat": 4,
 "nbformat_minor": 5
}
