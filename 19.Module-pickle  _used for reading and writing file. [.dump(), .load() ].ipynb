{
 "cells": [
  {
   "cell_type": "code",
   "execution_count": 2,
   "id": "5edbd811",
   "metadata": {},
   "outputs": [
    {
     "data": {
      "text/plain": [
       "'\\nBoolean\\nIntegers\\nFloat\\nComplex numbers\\nStrings\\nList\\nSet\\nDictionary\\nTuples\\n'"
      ]
     },
     "execution_count": 2,
     "metadata": {},
     "output_type": "execute_result"
    }
   ],
   "source": [
    "#pickle module-useful for serealize(store in file) and deserealize (read from file)\n",
    "#stores data in binary format, text file is in binary format\n",
    "'''\n",
    "Boolean\n",
    "Integers\n",
    "Float\n",
    "Complex numbers\n",
    "Strings\n",
    "List\n",
    "Set\n",
    "Dictionary\n",
    "Tuples\n",
    "'''"
   ]
  },
  {
   "cell_type": "code",
   "execution_count": 3,
   "id": "a0d08324",
   "metadata": {},
   "outputs": [],
   "source": [
    "#pickling with dump(obj,file) -object to be pickled, file object where data needs to be pickled"
   ]
  },
  {
   "cell_type": "code",
   "execution_count": 4,
   "id": "9a0b7b1f",
   "metadata": {},
   "outputs": [],
   "source": [
    "import pickle\n",
    "l=[1,2,3,4,5,6]\n",
    "\n",
    "file=open('pickle_test.txt','wb') #data is stored in binary format\n",
    "pickle.dump(l,file) #writes data to the file\n",
    "file.close()"
   ]
  },
  {
   "cell_type": "code",
   "execution_count": 5,
   "id": "4d03c0de",
   "metadata": {},
   "outputs": [
    {
     "data": {
      "text/plain": [
       "'C:\\\\Users\\\\rohit\\\\Python_Tutorial'"
      ]
     },
     "execution_count": 5,
     "metadata": {},
     "output_type": "execute_result"
    }
   ],
   "source": [
    "import os\n",
    "os.getcwd()"
   ]
  },
  {
   "cell_type": "code",
   "execution_count": 6,
   "id": "938e1334",
   "metadata": {},
   "outputs": [],
   "source": [
    "#reading file\n",
    "file=open('pickle_test.txt','rb')\n",
    "r=pickle.load(file) #reads file and gives original data stored"
   ]
  },
  {
   "cell_type": "code",
   "execution_count": 7,
   "id": "dafa1e6b",
   "metadata": {},
   "outputs": [
    {
     "name": "stdout",
     "output_type": "stream",
     "text": [
      "[1, 2, 3, 4, 5, 6]\n"
     ]
    }
   ],
   "source": [
    "print(r)"
   ]
  },
  {
   "cell_type": "code",
   "execution_count": null,
   "id": "d805004e",
   "metadata": {},
   "outputs": [],
   "source": []
  }
 ],
 "metadata": {
  "kernelspec": {
   "display_name": "Python 3 (ipykernel)",
   "language": "python",
   "name": "python3"
  },
  "language_info": {
   "codemirror_mode": {
    "name": "ipython",
    "version": 3
   },
   "file_extension": ".py",
   "mimetype": "text/x-python",
   "name": "python",
   "nbconvert_exporter": "python",
   "pygments_lexer": "ipython3",
   "version": "3.9.7"
  }
 },
 "nbformat": 4,
 "nbformat_minor": 5
}
