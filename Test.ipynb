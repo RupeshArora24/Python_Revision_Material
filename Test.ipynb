{
 "cells": [
  {
   "cell_type": "code",
   "execution_count": 4,
   "id": "b2efbe1c",
   "metadata": {},
   "outputs": [
    {
     "name": "stdout",
     "output_type": "stream",
     "text": [
      "DOG is an Animal\n",
      "DOG cannot Fly\n",
      "DOG can Swim\n",
      "DOG is a Mammal\n"
     ]
    }
   ],
   "source": [
    "class Mammal():\n",
    "    def __init__(self, name):\n",
    "        print(name, \"is a Mammal\")\n",
    "        \n",
    "class canFly(Mammal):\n",
    "    def __init__(self, canFly_name):\n",
    "        print(canFly_name, 'cannot Fly')\n",
    "        super().__init__(canFly_name)\n",
    "    \n",
    "class canSwim(Mammal):\n",
    "    def __init__(self, canSwim_name):\n",
    "        print(canSwim_name, 'can Swim')\n",
    "        super().__init__(canSwim_name)\n",
    "       \n",
    "        \n",
    "class Animal(canFly,canSwim):\n",
    "    def __init__(self, name):\n",
    "        print(name, \"is an Animal\")\n",
    "        super().__init__(name)\n",
    "        \n",
    "        \n",
    "Coco=Animal('DOG')"
   ]
  },
  {
   "cell_type": "code",
   "execution_count": null,
   "id": "ee161a77",
   "metadata": {},
   "outputs": [],
   "source": []
  }
 ],
 "metadata": {
  "kernelspec": {
   "display_name": "Python 3 (ipykernel)",
   "language": "python",
   "name": "python3"
  },
  "language_info": {
   "codemirror_mode": {
    "name": "ipython",
    "version": 3
   },
   "file_extension": ".py",
   "mimetype": "text/x-python",
   "name": "python",
   "nbconvert_exporter": "python",
   "pygments_lexer": "ipython3",
   "version": "3.9.7"
  }
 },
 "nbformat": 4,
 "nbformat_minor": 5
}
