{
 "cells": [
  {
   "cell_type": "code",
   "execution_count": 1,
   "id": "1cc12f89",
   "metadata": {},
   "outputs": [],
   "source": [
    "#Python Errors and buil-in exception"
   ]
  },
  {
   "cell_type": "code",
   "execution_count": 2,
   "id": "8cd802c4",
   "metadata": {},
   "outputs": [],
   "source": [
    "#Error\n",
    "##Syntax error - cannot be handled, we need to correct it\n",
    "##Logical errors (Exception) - can be handled "
   ]
  },
  {
   "cell_type": "code",
   "execution_count": 3,
   "id": "1be191ce",
   "metadata": {},
   "outputs": [],
   "source": [
    "#Exception error handling: handling error doesn't break the code"
   ]
  },
  {
   "cell_type": "code",
   "execution_count": null,
   "id": "1cc088a5",
   "metadata": {},
   "outputs": [],
   "source": [
    "\"\"\"If a condition does not meet our criteria but is correct according to the Python interpreter, we can intentionally raise an exception using the raise keyword. We can use a customized exception in conjunction with the statement.\n",
    "\n",
    "If we wish to use raise to generate an exception when a given condition happens, we may do so as follows:\"\"\""
   ]
  },
  {
   "cell_type": "code",
   "execution_count": 2,
   "id": "a54ad803",
   "metadata": {},
   "outputs": [
    {
     "ename": "Exception",
     "evalue": "Length of the given list must be less than or equal to 3 but is 4",
     "output_type": "error",
     "traceback": [
      "\u001b[1;31m---------------------------------------------------------------------------\u001b[0m",
      "\u001b[1;31mException\u001b[0m                                 Traceback (most recent call last)",
      "\u001b[1;32m~\\AppData\\Local\\Temp/ipykernel_3440/898935215.py\u001b[0m in \u001b[0;36m<module>\u001b[1;34m\u001b[0m\n\u001b[0;32m      2\u001b[0m \u001b[0mnum\u001b[0m \u001b[1;33m=\u001b[0m \u001b[1;33m[\u001b[0m\u001b[1;36m3\u001b[0m\u001b[1;33m,\u001b[0m \u001b[1;36m4\u001b[0m\u001b[1;33m,\u001b[0m \u001b[1;36m5\u001b[0m\u001b[1;33m,\u001b[0m \u001b[1;36m7\u001b[0m\u001b[1;33m]\u001b[0m\u001b[1;33m\u001b[0m\u001b[1;33m\u001b[0m\u001b[0m\n\u001b[0;32m      3\u001b[0m \u001b[1;32mif\u001b[0m \u001b[0mlen\u001b[0m\u001b[1;33m(\u001b[0m\u001b[0mnum\u001b[0m\u001b[1;33m)\u001b[0m \u001b[1;33m>\u001b[0m \u001b[1;36m3\u001b[0m\u001b[1;33m:\u001b[0m\u001b[1;33m\u001b[0m\u001b[1;33m\u001b[0m\u001b[0m\n\u001b[1;32m----> 4\u001b[1;33m     \u001b[1;32mraise\u001b[0m \u001b[0mException\u001b[0m\u001b[1;33m(\u001b[0m \u001b[1;34mf\"Length of the given list must be less than or equal to 3 but is {len(num)}\"\u001b[0m \u001b[1;33m)\u001b[0m\u001b[1;33m\u001b[0m\u001b[1;33m\u001b[0m\u001b[0m\n\u001b[0m",
      "\u001b[1;31mException\u001b[0m: Length of the given list must be less than or equal to 3 but is 4"
     ]
    }
   ],
   "source": [
    "#Python code to show how to raise an exception in Python  \n",
    "num = [3, 4, 5, 7]  \n",
    "if len(num) > 3:  \n",
    "    raise Exception( f\"Length of the given list must be less than or equal to 3 but is {len(num)}\" )  "
   ]
  }
 ],
 "metadata": {
  "kernelspec": {
   "display_name": "Python 3 (ipykernel)",
   "language": "python",
   "name": "python3"
  },
  "language_info": {
   "codemirror_mode": {
    "name": "ipython",
    "version": 3
   },
   "file_extension": ".py",
   "mimetype": "text/x-python",
   "name": "python",
   "nbconvert_exporter": "python",
   "pygments_lexer": "ipython3",
   "version": "3.9.7"
  }
 },
 "nbformat": 4,
 "nbformat_minor": 5
}
