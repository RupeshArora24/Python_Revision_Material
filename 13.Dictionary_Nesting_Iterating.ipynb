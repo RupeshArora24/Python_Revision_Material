{
 "cells": [
  {
   "cell_type": "code",
   "execution_count": null,
   "id": "5943dd59",
   "metadata": {},
   "outputs": [],
   "source": [
    "\"\"\"\n",
    "Nested Dictionary\n",
    "\"\"\""
   ]
  },
  {
   "cell_type": "code",
   "execution_count": 1,
   "id": "346ef9a6",
   "metadata": {},
   "outputs": [],
   "source": [
    "course={'PHP':{'Duration':'2 Months','Fees':1000},\n",
    "       'Python':{'Duration':'1 Months','Fees':2000},\n",
    "       'Java':{'Duration':'6 Months','Fees':4000}}"
   ]
  },
  {
   "cell_type": "code",
   "execution_count": 2,
   "id": "eb2f0341",
   "metadata": {},
   "outputs": [
    {
     "name": "stdout",
     "output_type": "stream",
     "text": [
      "{'PHP': {'Duration': '2 Months', 'Fees': 1000}, 'Python': {'Duration': '1 Months', 'Fees': 2000}, 'Java': {'Duration': '6 Months', 'Fees': 4000}}\n"
     ]
    }
   ],
   "source": [
    "print(course)"
   ]
  },
  {
   "cell_type": "code",
   "execution_count": 6,
   "id": "fe833b1a",
   "metadata": {},
   "outputs": [
    {
     "name": "stdout",
     "output_type": "stream",
     "text": [
      "PHP = {'Duration': '2 Months', 'Fees': 1000}\n",
      "Python = {'Duration': '1 Months', 'Fees': 2000}\n",
      "Java = {'Duration': '6 Months', 'Fees': 4000}\n"
     ]
    }
   ],
   "source": [
    "for i in course:\n",
    "    print(i,'=',course[i])"
   ]
  },
  {
   "cell_type": "code",
   "execution_count": 7,
   "id": "57d79aae",
   "metadata": {},
   "outputs": [],
   "source": [
    "#another way of doing above"
   ]
  },
  {
   "cell_type": "code",
   "execution_count": 9,
   "id": "8e802df9",
   "metadata": {},
   "outputs": [
    {
     "name": "stdout",
     "output_type": "stream",
     "text": [
      "PHP {'Duration': '2 Months', 'Fees': 1000}\n",
      "Python {'Duration': '1 Months', 'Fees': 2000}\n",
      "Java {'Duration': '6 Months', 'Fees': 4000}\n"
     ]
    }
   ],
   "source": [
    "for a,b in course.items():\n",
    "    print(a,b)"
   ]
  },
  {
   "cell_type": "markdown",
   "id": "fa3a2479",
   "metadata": {},
   "source": [
    "--------------"
   ]
  },
  {
   "cell_type": "code",
   "execution_count": 10,
   "id": "694456ea",
   "metadata": {},
   "outputs": [],
   "source": [
    "#treating dict as 2d array"
   ]
  },
  {
   "cell_type": "code",
   "execution_count": 11,
   "id": "7b802e51",
   "metadata": {},
   "outputs": [
    {
     "data": {
      "text/plain": [
       "'2 Months'"
      ]
     },
     "execution_count": 11,
     "metadata": {},
     "output_type": "execute_result"
    }
   ],
   "source": [
    "course['PHP']['Duration']"
   ]
  },
  {
   "cell_type": "markdown",
   "id": "30b6df61",
   "metadata": {},
   "source": [
    "-----------------------"
   ]
  },
  {
   "cell_type": "code",
   "execution_count": 12,
   "id": "92960a96",
   "metadata": {},
   "outputs": [],
   "source": [
    "#updating dict"
   ]
  },
  {
   "cell_type": "code",
   "execution_count": 13,
   "id": "c154dfab",
   "metadata": {},
   "outputs": [],
   "source": [
    "course['Java']['Fees']=8000"
   ]
  },
  {
   "cell_type": "code",
   "execution_count": 14,
   "id": "e968ffd8",
   "metadata": {},
   "outputs": [
    {
     "data": {
      "text/plain": [
       "{'PHP': {'Duration': '2 Months', 'Fees': 1000},\n",
       " 'Python': {'Duration': '1 Months', 'Fees': 2000},\n",
       " 'Java': {'Duration': '6 Months', 'Fees': 8000}}"
      ]
     },
     "execution_count": 14,
     "metadata": {},
     "output_type": "execute_result"
    }
   ],
   "source": [
    "course"
   ]
  },
  {
   "cell_type": "code",
   "execution_count": 16,
   "id": "d664d012",
   "metadata": {},
   "outputs": [
    {
     "name": "stdout",
     "output_type": "stream",
     "text": [
      "dict_items([('PHP', {'Duration': '2 Months', 'Fees': 1000}), ('Python', {'Duration': '1 Months', 'Fees': 2000}), ('Java', {'Duration': '6 Months', 'Fees': 8000})])\n"
     ]
    }
   ],
   "source": [
    "print(course.items())"
   ]
  },
  {
   "cell_type": "code",
   "execution_count": 17,
   "id": "b61d9f18",
   "metadata": {},
   "outputs": [],
   "source": [
    "del course['PHP']['Fees']"
   ]
  },
  {
   "cell_type": "code",
   "execution_count": 18,
   "id": "b2a13a65",
   "metadata": {},
   "outputs": [
    {
     "data": {
      "text/plain": [
       "{'PHP': {'Duration': '2 Months'},\n",
       " 'Python': {'Duration': '1 Months', 'Fees': 2000},\n",
       " 'Java': {'Duration': '6 Months', 'Fees': 8000}}"
      ]
     },
     "execution_count": 18,
     "metadata": {},
     "output_type": "execute_result"
    }
   ],
   "source": [
    "course"
   ]
  },
  {
   "cell_type": "code",
   "execution_count": null,
   "id": "249281da",
   "metadata": {},
   "outputs": [],
   "source": []
  }
 ],
 "metadata": {
  "kernelspec": {
   "display_name": "Python 3 (ipykernel)",
   "language": "python",
   "name": "python3"
  },
  "language_info": {
   "codemirror_mode": {
    "name": "ipython",
    "version": 3
   },
   "file_extension": ".py",
   "mimetype": "text/x-python",
   "name": "python",
   "nbconvert_exporter": "python",
   "pygments_lexer": "ipython3",
   "version": "3.9.7"
  }
 },
 "nbformat": 4,
 "nbformat_minor": 5
}
