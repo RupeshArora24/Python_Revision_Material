{
 "cells": [
  {
   "cell_type": "code",
   "execution_count": 42,
   "id": "55443660",
   "metadata": {},
   "outputs": [
    {
     "name": "stdout",
     "output_type": "stream",
     "text": [
      "Enter no. of ballons to select 2\n",
      "Enter no. colors 100\n",
      "9900\n"
     ]
    }
   ],
   "source": [
    "import sys\n",
    "#from IPython.core.debugger import set_trace\n",
    "\n",
    "#set_trace()\n",
    "import math\n",
    "def countWays(n, k):\n",
    "    # Write your code here\n",
    "    \n",
    "    \n",
    "    def _fact(x):\n",
    "        if x<0:\n",
    "            raise ValueError(\"Factorial of negative number is undefined\")\n",
    "        return 1 if (x ==1 or x==0) else x* fact(x-1)\n",
    "    \n",
    "    def fact(z):\n",
    "        try:\n",
    "            return _fact(z)\n",
    "        except:\n",
    "            return 0\n",
    "        \n",
    "    \n",
    "    \n",
    "    \n",
    "    if n <=10**5 and k <=10**5:\n",
    "        try:\n",
    "            ways=int(math.factorial(k)/math.factorial(k-n))\n",
    "        except:\n",
    "            return \"0 Ways to arrange such combination\"\n",
    "    else:\n",
    "        return \"Values out of bound.\"\n",
    "    \n",
    "    return ways\n",
    "\n",
    "\n",
    "\n",
    "\n",
    "def main():\n",
    "    n = int(input(\"Enter no. of ballons to select \"))#int(sys.stdin.readline().strip()) # no. of ballons you select\n",
    "    \n",
    "    k = int(input(\"Enter no. colors \"))#int(sys.stdin.readline().strip()) #different color available\n",
    "\n",
    "    result = countWays(n, k)\n",
    "\n",
    "    print(result)\n",
    "\n",
    "\n",
    "if __name__ == \"__main__\":\n",
    "    main()"
   ]
  },
  {
   "cell_type": "code",
   "execution_count": 2,
   "id": "66d3e2a2",
   "metadata": {},
   "outputs": [],
   "source": [
    "b\n",
    "    "
   ]
  },
  {
   "cell_type": "code",
   "execution_count": null,
   "id": "62cec0c8",
   "metadata": {},
   "outputs": [],
   "source": []
  },
  {
   "cell_type": "code",
   "execution_count": null,
   "id": "79095071",
   "metadata": {},
   "outputs": [],
   "source": []
  },
  {
   "cell_type": "code",
   "execution_count": 3,
   "id": "2916aa88",
   "metadata": {},
   "outputs": [
    {
     "data": {
      "text/plain": [
       "[('abc', 2), ('def', 1), ('ghi', 8)]"
      ]
     },
     "execution_count": 3,
     "metadata": {},
     "output_type": "execute_result"
    }
   ],
   "source": []
  }
 ],
 "metadata": {
  "kernelspec": {
   "display_name": "Python 3 (ipykernel)",
   "language": "python",
   "name": "python3"
  },
  "language_info": {
   "codemirror_mode": {
    "name": "ipython",
    "version": 3
   },
   "file_extension": ".py",
   "mimetype": "text/x-python",
   "name": "python",
   "nbconvert_exporter": "python",
   "pygments_lexer": "ipython3",
   "version": "3.9.7"
  }
 },
 "nbformat": 4,
 "nbformat_minor": 5
}
