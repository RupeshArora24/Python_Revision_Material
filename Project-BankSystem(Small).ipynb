{
 "cells": [
  {
   "cell_type": "code",
   "execution_count": 15,
   "id": "7aa61112",
   "metadata": {},
   "outputs": [],
   "source": [
    "#creating a simple bank_balance program\n",
    "\n",
    "class customer:\n",
    "    def __init__(self,name,age,gender):\n",
    "        self.name=name\n",
    "        self.age=age\n",
    "        self.gender=gender\n",
    "\n",
    "    def show_details(self):\n",
    "        print(\"\"\"\n",
    "        Customer details:\n",
    "        Name: {n}\n",
    "        Age: {a}\n",
    "        Gender: {g}\n",
    "        \"\"\".format(n=self.name, a=self.age, g=self.gender))\n",
    "\n",
    "class bank(customer):\n",
    "    def __init__(self,name,age,gender):\n",
    "        super().__init__(name,age,gender)\n",
    "        self.balance=0\n",
    "    \n",
    "    def deposit(self,amount):\n",
    "        self.balance +=amount\n",
    "        print('Balance after deposit: ',self.balance)\n",
    "\n",
    "    def withdraw(self,amount):#variables are local to a function definition\n",
    "        if amount>self.balance:\n",
    "            print('Insufficient Balance. Availabel Balance: ',self.balance)\n",
    "        else:\n",
    "            self.balance -=amount\n",
    "            print ('''\n",
    "            Amount Withdrawn: {}\n",
    "            Remaining Balance: {}'''.format(amount,self.balance))\n",
    " \n",
    "            \n",
    "\n",
    "    \n",
    "\n",
    "\n",
    "\n"
   ]
  },
  {
   "cell_type": "code",
   "execution_count": 16,
   "id": "e3a68b74",
   "metadata": {},
   "outputs": [],
   "source": [
    "c1=bank('ROhit',27,'male')"
   ]
  },
  {
   "cell_type": "code",
   "execution_count": 11,
   "id": "ca76888a",
   "metadata": {},
   "outputs": [
    {
     "name": "stdout",
     "output_type": "stream",
     "text": [
      "\n",
      "        Customer details:\n",
      "        Name: ROhit\n",
      "        Age: 27\n",
      "        Gender: male\n",
      "        \n"
     ]
    }
   ],
   "source": [
    "c1.show_details() "
   ]
  },
  {
   "cell_type": "code",
   "execution_count": 17,
   "id": "32c40bb4",
   "metadata": {},
   "outputs": [
    {
     "data": {
      "text/plain": [
       "0"
      ]
     },
     "execution_count": 17,
     "metadata": {},
     "output_type": "execute_result"
    }
   ],
   "source": [
    "c1.balance"
   ]
  },
  {
   "cell_type": "code",
   "execution_count": 18,
   "id": "5de1992d",
   "metadata": {},
   "outputs": [
    {
     "name": "stdout",
     "output_type": "stream",
     "text": [
      "Balance after deposit:  100\n"
     ]
    }
   ],
   "source": [
    "c1.deposit(100)"
   ]
  },
  {
   "cell_type": "code",
   "execution_count": 19,
   "id": "fca34422",
   "metadata": {},
   "outputs": [
    {
     "data": {
      "text/plain": [
       "100"
      ]
     },
     "execution_count": 19,
     "metadata": {},
     "output_type": "execute_result"
    }
   ],
   "source": [
    "c1.balance"
   ]
  },
  {
   "cell_type": "code",
   "execution_count": 20,
   "id": "2b41f43e",
   "metadata": {},
   "outputs": [
    {
     "name": "stdout",
     "output_type": "stream",
     "text": [
      "Balance after deposit:  1100\n"
     ]
    }
   ],
   "source": [
    "c1.deposit(1000)"
   ]
  },
  {
   "cell_type": "code",
   "execution_count": 21,
   "id": "3e9ffcb6",
   "metadata": {},
   "outputs": [
    {
     "name": "stdout",
     "output_type": "stream",
     "text": [
      "\n",
      "            Amount Withdrawn: 200\n",
      "            Remaining Balance: 900\n"
     ]
    }
   ],
   "source": [
    "c1.withdraw(200)"
   ]
  },
  {
   "cell_type": "code",
   "execution_count": 22,
   "id": "ad2669eb",
   "metadata": {},
   "outputs": [
    {
     "data": {
      "text/plain": [
       "900"
      ]
     },
     "execution_count": 22,
     "metadata": {},
     "output_type": "execute_result"
    }
   ],
   "source": [
    "c1.balance"
   ]
  },
  {
   "cell_type": "code",
   "execution_count": 23,
   "id": "7fe71dd8",
   "metadata": {},
   "outputs": [
    {
     "name": "stdout",
     "output_type": "stream",
     "text": [
      "Insufficient Balance. Availabel Balance:  900\n"
     ]
    }
   ],
   "source": [
    "c1.withdraw(1000)"
   ]
  },
  {
   "cell_type": "code",
   "execution_count": null,
   "id": "14383ef2",
   "metadata": {},
   "outputs": [],
   "source": []
  }
 ],
 "metadata": {
  "kernelspec": {
   "display_name": "Python 3 (ipykernel)",
   "language": "python",
   "name": "python3"
  },
  "language_info": {
   "codemirror_mode": {
    "name": "ipython",
    "version": 3
   },
   "file_extension": ".py",
   "mimetype": "text/x-python",
   "name": "python",
   "nbconvert_exporter": "python",
   "pygments_lexer": "ipython3",
   "version": "3.9.7"
  }
 },
 "nbformat": 4,
 "nbformat_minor": 5
}
