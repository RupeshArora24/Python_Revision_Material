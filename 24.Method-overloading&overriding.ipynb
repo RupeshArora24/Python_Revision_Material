{
 "cells": [
  {
   "cell_type": "code",
   "execution_count": 1,
   "id": "56ba7e6a",
   "metadata": {},
   "outputs": [],
   "source": [
    "#Method Overloading - meaning same function is able to perform with variable number of arguments / parameters"
   ]
  },
  {
   "cell_type": "code",
   "execution_count": 2,
   "id": "9701ce5c",
   "metadata": {},
   "outputs": [],
   "source": [
    "class area:\n",
    "    def find_area(self, x=None, y=None):\n",
    "        if (x!=None and y!=None):\n",
    "            print('area= ',x*y)\n",
    "        elif (x!=None):\n",
    "            print('area= ',x*x)\n",
    "        else:\n",
    "            print('Nothing')\n",
    "        "
   ]
  },
  {
   "cell_type": "code",
   "execution_count": 3,
   "id": "69052ac2",
   "metadata": {},
   "outputs": [],
   "source": [
    "obj=area()"
   ]
  },
  {
   "cell_type": "code",
   "execution_count": 4,
   "id": "3e07e642",
   "metadata": {},
   "outputs": [
    {
     "name": "stdout",
     "output_type": "stream",
     "text": [
      "area=  100\n",
      "area=  200\n",
      "Nothing\n"
     ]
    }
   ],
   "source": [
    "obj.find_area(10)\n",
    "obj.find_area(10,20)\n",
    "obj.find_area()"
   ]
  },
  {
   "cell_type": "markdown",
   "id": "49e35aa8",
   "metadata": {},
   "source": [
    "------------------"
   ]
  },
  {
   "cell_type": "code",
   "execution_count": 5,
   "id": "fa5c024e",
   "metadata": {},
   "outputs": [],
   "source": [
    "#Method Overridding - same method name. same argument\n",
    "# this concept is useful when inheriting a class with same method name and same argument.\n",
    "# mehod overriding avoid calling the method of parent class to save memory and processing power "
   ]
  },
  {
   "cell_type": "code",
   "execution_count": 6,
   "id": "c938be9b",
   "metadata": {},
   "outputs": [],
   "source": [
    "class A:\n",
    "    def showdata(self):\n",
    "        print('Im in A class')\n",
    "    \n",
    "class B(A):\n",
    "    def showdata(self):\n",
    "        print('Im in B class')"
   ]
  },
  {
   "cell_type": "code",
   "execution_count": 7,
   "id": "d5bc3843",
   "metadata": {},
   "outputs": [],
   "source": [
    "test1=B()"
   ]
  },
  {
   "cell_type": "code",
   "execution_count": 8,
   "id": "9231a44a",
   "metadata": {},
   "outputs": [
    {
     "name": "stdout",
     "output_type": "stream",
     "text": [
      "Im in B class\n"
     ]
    }
   ],
   "source": [
    "test1.showdata() #only function of B class is executed"
   ]
  },
  {
   "cell_type": "code",
   "execution_count": null,
   "id": "1c7cad65",
   "metadata": {},
   "outputs": [],
   "source": []
  }
 ],
 "metadata": {
  "kernelspec": {
   "display_name": "Python 3 (ipykernel)",
   "language": "python",
   "name": "python3"
  },
  "language_info": {
   "codemirror_mode": {
    "name": "ipython",
    "version": 3
   },
   "file_extension": ".py",
   "mimetype": "text/x-python",
   "name": "python",
   "nbconvert_exporter": "python",
   "pygments_lexer": "ipython3",
   "version": "3.9.7"
  }
 },
 "nbformat": 4,
 "nbformat_minor": 5
}
