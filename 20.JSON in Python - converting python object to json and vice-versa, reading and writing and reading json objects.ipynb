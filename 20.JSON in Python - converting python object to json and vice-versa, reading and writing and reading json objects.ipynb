{
 "cells": [
  {
   "cell_type": "code",
   "execution_count": 1,
   "id": "048f2ba9",
   "metadata": {},
   "outputs": [],
   "source": [
    "# JSON (Java Script Object Notation ) -"
   ]
  },
  {
   "cell_type": "code",
   "execution_count": null,
   "id": "3f919ab5",
   "metadata": {},
   "outputs": [],
   "source": [
    "'''\n",
    "Used for storing and transferring data between browser and the server.\n",
    "APIs are used for interfacing, while the data shared over this interface\n",
    "is in JSON format.\n",
    "\n",
    "JSON is text, data format is similar to dictionary \n",
    "but it is has inverted commas like '{}' around curly braces\n",
    "written with Java Script\n",
    "\n",
    "It is not JavaScript but is written is format as objects are noted in JS\n",
    "\n",
    "JSON supports data types -\n",
    "string\n",
    "number\n",
    "boolean\n",
    "null\n",
    "object\n",
    "array\n",
    "\n",
    "'''"
   ]
  },
  {
   "cell_type": "code",
   "execution_count": 2,
   "id": "32834ac4",
   "metadata": {},
   "outputs": [],
   "source": [
    "#converting python object to JSON\n"
   ]
  },
  {
   "cell_type": "code",
   "execution_count": 1,
   "id": "5b796809",
   "metadata": {},
   "outputs": [],
   "source": [
    "import json \n",
    "# .loads() and .dumps() is used for converting python object to json\n",
    "# and json to python object"
   ]
  },
  {
   "cell_type": "code",
   "execution_count": 8,
   "id": "686a9fef",
   "metadata": {},
   "outputs": [
    {
     "name": "stdout",
     "output_type": "stream",
     "text": [
      "<class 'str'> {\"course\": \"python\", \"fees\": 1000}\n"
     ]
    }
   ],
   "source": [
    "d={'course':'python','fees':1000}\n",
    "f=json.dumps(d)  #for converting python object to the json object.\n",
    "#different than json.dump()-which is used for writing or reading to the file.\n",
    "\n",
    "print(type(f),f) #as dictionary belongs to str class it means it is a JSON"
   ]
  },
  {
   "cell_type": "markdown",
   "id": "624354ba",
   "metadata": {},
   "source": [
    "-------------"
   ]
  },
  {
   "cell_type": "code",
   "execution_count": 9,
   "id": "e94f9e40",
   "metadata": {},
   "outputs": [
    {
     "name": "stdout",
     "output_type": "stream",
     "text": [
      "<class 'dict'> {'cname': 'Python', 'fees': 1000}\n"
     ]
    }
   ],
   "source": [
    "v='{\"cname\":\"Python\",\"fees\":1000}' #Json type of data\n",
    "y=json.loads(v)#convert json to dict\n",
    "print(type(y),y)"
   ]
  },
  {
   "cell_type": "code",
   "execution_count": 10,
   "id": "0c77f3c1",
   "metadata": {},
   "outputs": [
    {
     "data": {
      "text/plain": [
       "dict_keys(['cname', 'fees'])"
      ]
     },
     "execution_count": 10,
     "metadata": {},
     "output_type": "execute_result"
    }
   ],
   "source": [
    "y.keys()"
   ]
  },
  {
   "cell_type": "code",
   "execution_count": 11,
   "id": "d3d0aace",
   "metadata": {},
   "outputs": [
    {
     "data": {
      "text/plain": [
       "dict_items([('cname', 'Python'), ('fees', 1000)])"
      ]
     },
     "execution_count": 11,
     "metadata": {},
     "output_type": "execute_result"
    }
   ],
   "source": [
    "y.items()"
   ]
  },
  {
   "cell_type": "markdown",
   "id": "f1e97935",
   "metadata": {},
   "source": [
    "--------------\n"
   ]
  },
  {
   "cell_type": "code",
   "execution_count": 12,
   "id": "ef353d69",
   "metadata": {},
   "outputs": [],
   "source": [
    "#reading and writing JSON files"
   ]
  },
  {
   "cell_type": "code",
   "execution_count": 13,
   "id": "5318f919",
   "metadata": {},
   "outputs": [],
   "source": [
    "import json\n",
    "file=open('sample.json','r')"
   ]
  },
  {
   "cell_type": "code",
   "execution_count": 14,
   "id": "09e10a30",
   "metadata": {},
   "outputs": [],
   "source": [
    "d=file.read()"
   ]
  },
  {
   "cell_type": "code",
   "execution_count": 15,
   "id": "df751c90",
   "metadata": {},
   "outputs": [
    {
     "name": "stdout",
     "output_type": "stream",
     "text": [
      "{'firstName': 'Joe', 'lastName': 'Jackson', 'gender': 'male', 'age': 28, 'address': {'streetAddress': '101', 'city': 'San Diego', 'state': 'CA'}, 'phoneNumbers': [{'type': 'home', 'number': '7349282382'}]}\n"
     ]
    }
   ],
   "source": [
    "finaldata=json.loads(d) #Deserialize ``s`` (a ``str``, ``bytes`` or ``bytearray`` instancecontaining a JSON document) to a Python object.\n",
    "\n",
    "print(finaldata)\n"
   ]
  },
  {
   "cell_type": "code",
   "execution_count": 16,
   "id": "e4c3466d",
   "metadata": {},
   "outputs": [
    {
     "data": {
      "text/plain": [
       "dict"
      ]
     },
     "execution_count": 16,
     "metadata": {},
     "output_type": "execute_result"
    }
   ],
   "source": [
    "type(finaldata)"
   ]
  },
  {
   "cell_type": "code",
   "execution_count": 17,
   "id": "bd2dd1d1",
   "metadata": {},
   "outputs": [
    {
     "data": {
      "text/plain": [
       "str"
      ]
     },
     "execution_count": 17,
     "metadata": {},
     "output_type": "execute_result"
    }
   ],
   "source": [
    "type(d)"
   ]
  },
  {
   "cell_type": "code",
   "execution_count": 18,
   "id": "9ac15b0d",
   "metadata": {},
   "outputs": [
    {
     "name": "stdout",
     "output_type": "stream",
     "text": [
      "firstName\n",
      "lastName\n",
      "gender\n",
      "age\n",
      "address\n",
      "phoneNumbers\n"
     ]
    }
   ],
   "source": [
    "for i in finaldata: # iterating over dictionary gives you keys only\n",
    "    print(i)"
   ]
  },
  {
   "cell_type": "code",
   "execution_count": 20,
   "id": "cf690518",
   "metadata": {},
   "outputs": [
    {
     "name": "stdout",
     "output_type": "stream",
     "text": [
      "Joe\n",
      "Jackson\n",
      "male\n",
      "28\n",
      "{'streetAddress': '101', 'city': 'San Diego', 'state': 'CA'}\n",
      "[{'type': 'home', 'number': '7349282382'}]\n"
     ]
    }
   ],
   "source": [
    "for n in finaldata:\n",
    "    print(finaldata[n])"
   ]
  },
  {
   "cell_type": "code",
   "execution_count": 21,
   "id": "d8c4d2c0",
   "metadata": {},
   "outputs": [],
   "source": [
    "file.close()"
   ]
  },
  {
   "cell_type": "code",
   "execution_count": 22,
   "id": "f2303275",
   "metadata": {},
   "outputs": [],
   "source": [
    "file=open('sample.json','w')#file object\n",
    "test={'firstName': 'Rohit', 'lastName': 'Pawar', 'gender': 'male', 'age': 27}"
   ]
  },
  {
   "cell_type": "code",
   "execution_count": 23,
   "id": "4d4f0440",
   "metadata": {},
   "outputs": [],
   "source": [
    "finaldata=json.dumps(test)#json.dumps() function converts a Python object into a json string."
   ]
  },
  {
   "cell_type": "code",
   "execution_count": 25,
   "id": "2a9e53ed",
   "metadata": {},
   "outputs": [
    {
     "data": {
      "text/plain": [
       "72"
      ]
     },
     "execution_count": 25,
     "metadata": {},
     "output_type": "execute_result"
    }
   ],
   "source": [
    "file.write(finaldata) #write json object to file 'file'\n",
    "#we can also use json.dump('python_object','file_object_path')"
   ]
  },
  {
   "cell_type": "code",
   "execution_count": 26,
   "id": "a84c8c90",
   "metadata": {},
   "outputs": [],
   "source": [
    "file.close()"
   ]
  },
  {
   "cell_type": "markdown",
   "id": "21b2f40b",
   "metadata": {},
   "source": [
    "-------------"
   ]
  },
  {
   "cell_type": "code",
   "execution_count": 27,
   "id": "40ac3012",
   "metadata": {},
   "outputs": [],
   "source": [
    "file=open('sample.json','r')"
   ]
  },
  {
   "cell_type": "code",
   "execution_count": 28,
   "id": "525aef17",
   "metadata": {},
   "outputs": [],
   "source": [
    "data=file.read()"
   ]
  },
  {
   "cell_type": "code",
   "execution_count": 29,
   "id": "577bbd31",
   "metadata": {},
   "outputs": [
    {
     "name": "stdout",
     "output_type": "stream",
     "text": [
      "{\"firstName\": \"Rohit\", \"lastName\": \"Pawar\", \"gender\": \"male\", \"age\": 27}\n"
     ]
    }
   ],
   "source": [
    "print(data)"
   ]
  },
  {
   "cell_type": "code",
   "execution_count": 30,
   "id": "7a7be25d",
   "metadata": {},
   "outputs": [
    {
     "data": {
      "text/plain": [
       "str"
      ]
     },
     "execution_count": 30,
     "metadata": {},
     "output_type": "execute_result"
    }
   ],
   "source": [
    "type(data)"
   ]
  },
  {
   "cell_type": "code",
   "execution_count": null,
   "id": "b3194b7e",
   "metadata": {},
   "outputs": [],
   "source": [
    "json.dump"
   ]
  }
 ],
 "metadata": {
  "kernelspec": {
   "display_name": "Python 3 (ipykernel)",
   "language": "python",
   "name": "python3"
  },
  "language_info": {
   "codemirror_mode": {
    "name": "ipython",
    "version": 3
   },
   "file_extension": ".py",
   "mimetype": "text/x-python",
   "name": "python",
   "nbconvert_exporter": "python",
   "pygments_lexer": "ipython3",
   "version": "3.9.7"
  }
 },
 "nbformat": 4,
 "nbformat_minor": 5
}
