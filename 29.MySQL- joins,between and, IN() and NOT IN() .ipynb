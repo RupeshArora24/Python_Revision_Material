{
 "cells": [
  {
   "cell_type": "code",
   "execution_count": null,
   "id": "bc73c7ee",
   "metadata": {},
   "outputs": [],
   "source": [
    "#inner join ,left join, right join\n",
    "\n",
    "query='select * from user right join orders on user.userid=orders.orders.id'"
   ]
  },
  {
   "cell_type": "code",
   "execution_count": 1,
   "id": "0baec159",
   "metadata": {},
   "outputs": [],
   "source": [
    "#equi join don't use join word instead uses = sign ........works same as inner join and gives only common fields\n",
    "query='select state.state_id,state_name,country.coun try_name from state,country where state.countryid=country.country_id'"
   ]
  },
  {
   "cell_type": "code",
   "execution_count": null,
   "id": "624d20d1",
   "metadata": {},
   "outputs": [],
   "source": [
    "#self join\n",
    "query='select * from categories as C1, categories as C2 where C1.cat)id=C2.cat_id'"
   ]
  },
  {
   "cell_type": "code",
   "execution_count": null,
   "id": "77eef873",
   "metadata": {},
   "outputs": [],
   "source": [
    "#Between Operator\n",
    "query='select * from student where std-id between 2 and 5'"
   ]
  },
  {
   "cell_type": "code",
   "execution_count": null,
   "id": "efd2b6d1",
   "metadata": {},
   "outputs": [],
   "source": [
    "#IN()-comma seperated values, returns all that are mentioned.\n",
    "#NOT IN()-comma seperated values , returns all except mentioned ones"
   ]
  }
 ],
 "metadata": {
  "kernelspec": {
   "display_name": "Python 3 (ipykernel)",
   "language": "python",
   "name": "python3"
  },
  "language_info": {
   "codemirror_mode": {
    "name": "ipython",
    "version": 3
   },
   "file_extension": ".py",
   "mimetype": "text/x-python",
   "name": "python",
   "nbconvert_exporter": "python",
   "pygments_lexer": "ipython3",
   "version": "3.9.7"
  }
 },
 "nbformat": 4,
 "nbformat_minor": 5
}
