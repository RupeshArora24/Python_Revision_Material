{
 "cells": [
  {
   "cell_type": "code",
   "execution_count": 1,
   "id": "5f658ff9",
   "metadata": {},
   "outputs": [],
   "source": [
    "#tuple()- ordered data type"
   ]
  },
  {
   "cell_type": "code",
   "execution_count": 3,
   "id": "07d6c306",
   "metadata": {},
   "outputs": [
    {
     "data": {
      "text/plain": [
       "\"\\nTuple- Ordered, Immutable, used when we need to keep values constant\\nSince tuples are immutable, del, pop,update,insert don't work\\n\\n\""
      ]
     },
     "execution_count": 3,
     "metadata": {},
     "output_type": "execute_result"
    }
   ],
   "source": [
    "'''\n",
    "*Tuple- Ordered, Immutable, used when we need to keep values constant\n",
    "\n",
    "*Since tuples are immutable, del, pop,update,insert don't work\n",
    "\n",
    "*A tuple created with () and not tuple() function, of 0 (zero) dimension is not a tuple, it is called str, int,float, list,array,dict\n",
    "depending upon the value inserted in the parenthesis\n",
    " \n",
    "*If tuple() function is used, i.e if exclusively declared as tuple, then we get type tuple\n",
    "\n",
    "Tuple method - index(value), count(value)\n",
    "Built-in function - max(t), min(t), sum(t) - only for data type in entire tuple\n",
    "\n",
    "*Iterating over tuple is faster than list.\n",
    "'''"
   ]
  },
  {
   "cell_type": "code",
   "execution_count": 10,
   "id": "50e8f7a9",
   "metadata": {},
   "outputs": [],
   "source": [
    "t=([1])"
   ]
  },
  {
   "cell_type": "code",
   "execution_count": 11,
   "id": "e48cc862",
   "metadata": {},
   "outputs": [
    {
     "data": {
      "text/plain": [
       "list"
      ]
     },
     "execution_count": 11,
     "metadata": {},
     "output_type": "execute_result"
    }
   ],
   "source": [
    "type(t)"
   ]
  },
  {
   "cell_type": "code",
   "execution_count": 12,
   "id": "c60c13aa",
   "metadata": {},
   "outputs": [
    {
     "data": {
      "text/plain": [
       "str"
      ]
     },
     "execution_count": 12,
     "metadata": {},
     "output_type": "execute_result"
    }
   ],
   "source": [
    "r=('str')\n",
    "type(r)"
   ]
  },
  {
   "cell_type": "markdown",
   "id": "79b2ccbe",
   "metadata": {},
   "source": [
    "------------"
   ]
  },
  {
   "cell_type": "code",
   "execution_count": 13,
   "id": "d14f182c",
   "metadata": {},
   "outputs": [],
   "source": [
    "#iterating ovet tuple\n"
   ]
  },
  {
   "cell_type": "code",
   "execution_count": 14,
   "id": "88975b0a",
   "metadata": {},
   "outputs": [],
   "source": [
    "a=('strrrr',1,2,'check')"
   ]
  },
  {
   "cell_type": "code",
   "execution_count": 15,
   "id": "6d87d180",
   "metadata": {},
   "outputs": [
    {
     "data": {
      "text/plain": [
       "'strrrr'"
      ]
     },
     "execution_count": 15,
     "metadata": {},
     "output_type": "execute_result"
    }
   ],
   "source": [
    "a[0]"
   ]
  },
  {
   "cell_type": "code",
   "execution_count": 16,
   "id": "53f9fe9c",
   "metadata": {},
   "outputs": [
    {
     "data": {
      "text/plain": [
       "2"
      ]
     },
     "execution_count": 16,
     "metadata": {},
     "output_type": "execute_result"
    }
   ],
   "source": [
    "a[2]"
   ]
  },
  {
   "cell_type": "code",
   "execution_count": 17,
   "id": "c500567d",
   "metadata": {},
   "outputs": [
    {
     "name": "stdout",
     "output_type": "stream",
     "text": [
      "strrrr\n",
      "1\n",
      "2\n",
      "check\n"
     ]
    }
   ],
   "source": [
    "for i in a:\n",
    "    print(i)"
   ]
  },
  {
   "cell_type": "markdown",
   "id": "e5379661",
   "metadata": {},
   "source": [
    "-----------\n"
   ]
  },
  {
   "cell_type": "code",
   "execution_count": 18,
   "id": "a0de6309",
   "metadata": {},
   "outputs": [],
   "source": [
    "#tuple methods & built-in function"
   ]
  },
  {
   "cell_type": "code",
   "execution_count": 27,
   "id": "e194a852",
   "metadata": {},
   "outputs": [],
   "source": [
    "b=(1,2,3,4,5,6,5) # not 'a' because min() and max() requires same data type\n",
    "z=min(b)"
   ]
  },
  {
   "cell_type": "code",
   "execution_count": 28,
   "id": "698b383e",
   "metadata": {},
   "outputs": [
    {
     "name": "stdout",
     "output_type": "stream",
     "text": [
      "1\n"
     ]
    }
   ],
   "source": [
    "print(z)"
   ]
  },
  {
   "cell_type": "code",
   "execution_count": 29,
   "id": "e8b814c6",
   "metadata": {},
   "outputs": [
    {
     "name": "stdout",
     "output_type": "stream",
     "text": [
      "6\n"
     ]
    }
   ],
   "source": [
    "z=max(b)\n",
    "print(z)"
   ]
  },
  {
   "cell_type": "code",
   "execution_count": 31,
   "id": "3efdf545",
   "metadata": {},
   "outputs": [
    {
     "data": {
      "text/plain": [
       "(1, 2, 3, 4, 5, 6, 5)"
      ]
     },
     "execution_count": 31,
     "metadata": {},
     "output_type": "execute_result"
    }
   ],
   "source": [
    "b"
   ]
  },
  {
   "cell_type": "code",
   "execution_count": 32,
   "id": "37ec7975",
   "metadata": {},
   "outputs": [
    {
     "data": {
      "text/plain": [
       "2"
      ]
     },
     "execution_count": 32,
     "metadata": {},
     "output_type": "execute_result"
    }
   ],
   "source": [
    "b.count(5)"
   ]
  },
  {
   "cell_type": "code",
   "execution_count": 33,
   "id": "46a5a2ee",
   "metadata": {},
   "outputs": [
    {
     "data": {
      "text/plain": [
       "4"
      ]
     },
     "execution_count": 33,
     "metadata": {},
     "output_type": "execute_result"
    }
   ],
   "source": [
    "b.index(5)"
   ]
  },
  {
   "cell_type": "markdown",
   "id": "aab499c9",
   "metadata": {},
   "source": [
    "-------------"
   ]
  },
  {
   "cell_type": "code",
   "execution_count": 35,
   "id": "9363ff08",
   "metadata": {},
   "outputs": [],
   "source": [
    "#sum()- works only for integer and float\n"
   ]
  },
  {
   "cell_type": "code",
   "execution_count": 36,
   "id": "66bb2279",
   "metadata": {},
   "outputs": [
    {
     "data": {
      "text/plain": [
       "26"
      ]
     },
     "execution_count": 36,
     "metadata": {},
     "output_type": "execute_result"
    }
   ],
   "source": [
    "sum(b)"
   ]
  },
  {
   "cell_type": "code",
   "execution_count": 38,
   "id": "519de753",
   "metadata": {},
   "outputs": [
    {
     "data": {
      "text/plain": [
       "126"
      ]
     },
     "execution_count": 38,
     "metadata": {},
     "output_type": "execute_result"
    }
   ],
   "source": [
    "sum(b,100)"
   ]
  },
  {
   "cell_type": "code",
   "execution_count": null,
   "id": "3de883b0",
   "metadata": {},
   "outputs": [],
   "source": []
  }
 ],
 "metadata": {
  "kernelspec": {
   "display_name": "Python 3 (ipykernel)",
   "language": "python",
   "name": "python3"
  },
  "language_info": {
   "codemirror_mode": {
    "name": "ipython",
    "version": 3
   },
   "file_extension": ".py",
   "mimetype": "text/x-python",
   "name": "python",
   "nbconvert_exporter": "python",
   "pygments_lexer": "ipython3",
   "version": "3.9.7"
  }
 },
 "nbformat": 4,
 "nbformat_minor": 5
}
