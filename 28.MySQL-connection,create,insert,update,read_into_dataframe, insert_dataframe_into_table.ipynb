{
 "cells": [
  {
   "cell_type": "markdown",
   "id": "07be7dba",
   "metadata": {},
   "source": [
    "# Creating a database 'school' and adding records in 'student' table."
   ]
  },
  {
   "cell_type": "code",
   "execution_count": 1,
   "id": "9bcccc57",
   "metadata": {},
   "outputs": [],
   "source": [
    "#!pip list # gives a list of modules available"
   ]
  },
  {
   "cell_type": "code",
   "execution_count": 2,
   "id": "14c02ab5",
   "metadata": {},
   "outputs": [
    {
     "name": "stdout",
     "output_type": "stream",
     "text": [
      "Requirement already satisfied: pymysql in c:\\users\\rohit\\anaconda3\\lib\\site-packages (1.0.2)\n"
     ]
    }
   ],
   "source": [
    "#!pip install pymysql - to install package in python , installed package may get installed at a different loaction depending\n",
    "#upon the os and might not be installed in JuPyter's python versions. \n",
    "'''But using this method is not recommended because of the OS behavior. This command executed on the current version in the $PATH variable of the OS. \n",
    "So in the case of multiple Python versions, this might not install the same package in the jupyter’s Python version. \n",
    "In the simplest case it may work.\n",
    "\n",
    "Using sys library:\n",
    "To solve the above-mentioned problem, it is recommended to use sys library in Python which will return the path of the current version’s pip on which the jupyter is running. \n",
    "sys.executable will return the path of the Python.exe of the version on which the current Jupyter instance is\n",
    "import sys\n",
    "!{sys.executable} -m pip install [package_name]\n",
    "\n",
    "'''\n",
    "import sys\n",
    "!{sys.executable} -m pip install pymysql"
   ]
  },
  {
   "cell_type": "code",
   "execution_count": 3,
   "id": "16cf09c6",
   "metadata": {},
   "outputs": [],
   "source": [
    " "
   ]
  },
  {
   "cell_type": "code",
   "execution_count": 4,
   "id": "548acf0c",
   "metadata": {},
   "outputs": [],
   "source": [
    "##creating connection object\n",
    "'''\n",
    "server name - host=localhost\n",
    "user-user=root\n",
    "password=''\n",
    "'''\n",
    "conn_obj=mq.connect(host=\"localhost\",user='root',password='',database='school')\n",
    "\n"
   ]
  },
  {
   "cell_type": "code",
   "execution_count": 5,
   "id": "eb895360",
   "metadata": {},
   "outputs": [],
   "source": [
    "##creating cursor object to execute sql commands and hold result\n",
    "cursor_obj=conn_obj.cursor()"
   ]
  },
  {
   "cell_type": "code",
   "execution_count": 6,
   "id": "b04a9433",
   "metadata": {},
   "outputs": [
    {
     "name": "stdout",
     "output_type": "stream",
     "text": [
      "Database error : check if it already exists\n"
     ]
    }
   ],
   "source": [
    "#handle error if database already exists\n",
    "try:\n",
    "    db=\"create database school\"\n",
    "    cursor_obj.execute(db) #.execute(query,*args) - args are used to assign values in placeholders in query\n",
    "    print(\"Database created\")\n",
    "    \n",
    "except:# 'finally' keyword is used in place of 'except' when we want the statement to execute irrespective of try statement\n",
    "    print('Database error : check if it already exists')"
   ]
  },
  {
   "cell_type": "code",
   "execution_count": 7,
   "id": "babe9d79",
   "metadata": {
    "scrolled": true
   },
   "outputs": [
    {
     "data": {
      "text/plain": [
       "0"
      ]
     },
     "execution_count": 7,
     "metadata": {},
     "output_type": "execute_result"
    }
   ],
   "source": [
    "#use db - to connect back if interupted earlier\n",
    "cursor_obj.execute('use school')"
   ]
  },
  {
   "cell_type": "code",
   "execution_count": 8,
   "id": "e4ef729a",
   "metadata": {},
   "outputs": [
    {
     "name": "stdout",
     "output_type": "stream",
     "text": [
      "Table already exists\n"
     ]
    }
   ],
   "source": [
    "##creating a table\n",
    "try:\n",
    "    tb='create table student(std_id int primary key auto_increment, std_name varchar(30), std_class varchar(30),s td_email varchar(30))'\n",
    "    cursor_obj.execute(tb)\n",
    "except:\n",
    "    print('Table already exists')"
   ]
  },
  {
   "cell_type": "markdown",
   "id": "e858a977",
   "metadata": {},
   "source": [
    "### Getting Error in SQL query"
   ]
  },
  {
   "cell_type": "code",
   "execution_count": 70,
   "id": "dbb526cc",
   "metadata": {},
   "outputs": [
    {
     "name": "stdout",
     "output_type": "stream",
     "text": [
      "Database error: 1050 - Table 'student_copy' already exists\n"
     ]
    }
   ],
   "source": [
    "##creating a table student_copy and printing error if any\n",
    "try:\n",
    "    cursor_obj.execute('create table student_copy (std_id int primary key auto_increment, std_name varchar(30), std_class varchar(30), std_email varchar(30))')\n",
    "    print('Table Successfully Created')\n",
    "except cursor_obj.Error as error:\n",
    "    print('Database error: {} - {}'.format(error.args[0],error.args[1]))\n",
    "    # print('Database error:{}:{}'.format(error.args)) - gives same result.\n",
    "    "
   ]
  },
  {
   "cell_type": "code",
   "execution_count": 73,
   "id": "835453ed",
   "metadata": {},
   "outputs": [
    {
     "name": "stdout",
     "output_type": "stream",
     "text": [
      "Error: 1064 - You have an error in your SQL syntax; check the manual that corresponds to your MariaDB server version for the right syntax to use near '' at line 1\n"
     ]
    }
   ],
   "source": [
    "#dropping table student_copy\n",
    "try:\n",
    "    cursor_obj.execute('delete table student_copy')\n",
    "    print('Table Successfully Deleted')\n",
    "except cursor_obj.Error as error:\n",
    "    print('Error: {} - {}'.format(error.args[0],error.args[1]))"
   ]
  },
  {
   "cell_type": "code",
   "execution_count": 75,
   "id": "823ca150",
   "metadata": {},
   "outputs": [
    {
     "name": "stdout",
     "output_type": "stream",
     "text": [
      "Table Successfully Deleted\n"
     ]
    }
   ],
   "source": [
    "#dropping table student_copy\n",
    "try:\n",
    "    cursor_obj.execute('drop table student_copy')\n",
    "    print('Table Successfully Deleted')\n",
    "except cursor_obj.Error as error:\n",
    "    print('Error: {} - {}'.format(error.args[0],error.args[1]))"
   ]
  },
  {
   "cell_type": "code",
   "execution_count": 61,
   "id": "2de42113",
   "metadata": {},
   "outputs": [
    {
     "data": {
      "text/plain": [
       "<attribute 'args' of 'BaseException' objects>"
      ]
     },
     "execution_count": 61,
     "metadata": {},
     "output_type": "execute_result"
    }
   ],
   "source": [
    "cursor_obj.Error.args"
   ]
  },
  {
   "cell_type": "code",
   "execution_count": 17,
   "id": "9d0c8b99",
   "metadata": {},
   "outputs": [
    {
     "name": "stdout",
     "output_type": "stream",
     "text": [
      "Data Inserted\n"
     ]
    }
   ],
   "source": [
    "##inserting a single data row into the table - pass values as a tuples\n",
    "#data entered is always in string format\n",
    "try:\n",
    "    ins=\"insert into student (std_name,std_class,std_email) values(%s,%s,%s)\"\n",
    "    val_str=('Ravi','12','ravi_mankara@gmail.com')\n",
    "    cursor_obj.execute(ins,val_str) #.execute() for single row entry\n",
    "    conn_obj.commit()\n",
    "    print('Data Inserted')\n",
    "    \n",
    "except:\n",
    "    print('Error: Data not inserted')"
   ]
  },
  {
   "cell_type": "code",
   "execution_count": 82,
   "id": "1efb059b",
   "metadata": {},
   "outputs": [
    {
     "name": "stdout",
     "output_type": "stream",
     "text": [
      "Error: (1146, \"Table 'school.students' doesn't exist\")\n"
     ]
    }
   ],
   "source": [
    "#inserting multiple values into the table - we need to pass a list of tuple\n",
    "try:\n",
    "    ins='insert into student (std_name, std_class, std_email) values (%s,%s,%s)'\n",
    "    val_list=[('Rohit','11','rohitpawar@gmail.com'),('Prerna','11','prerna@gmail.com')]\n",
    "    cursor_obj.executemany(ins,val_list)  #.executemany() for inserting multiple rows or when a list is passed\n",
    "    print('Data Inserted') \n",
    "    conn_obj.commit()#if you don't commit the data it will remain in cache and may be lost\n",
    "except cursor_obj.Error as error:\n",
    "    print('Error: {}'.format(error))"
   ]
  },
  {
   "cell_type": "code",
   "execution_count": 19,
   "id": "31dd5848",
   "metadata": {},
   "outputs": [
    {
     "name": "stdout",
     "output_type": "stream",
     "text": [
      "Student Id      Student Name         Student Class        Student Email       \n",
      "1               Prerna C             12                   chaurasia@gmail.com \n",
      "2               Rohit P              12                   pawar@gmail.com     \n",
      "4               Rohit                12                   rohitpawar@gmail.com\n",
      "5               Prerna               11                   prerna@gmail.com    \n",
      "6               Ravi                 12                   ravi_mankara@gmail.com\n",
      "7               Rohit                12                   rohitpawar@gmail.com\n",
      "8               Prerna               11                   prerna@gmail.com    \n",
      "9               Honda                10                   honda@gmail.com     \n",
      "10              Yamaha               11                   yamaha@gmail.com    \n",
      "11              Honda                10                   honda@gmail.com     \n",
      "12              Yamaha               11                   yamaha@gmail.com    \n",
      "13              Honda                10                   honda@gmail.com     \n",
      "14              Yamaha               11                   yamaha@gmail.com    \n",
      "15              Honda                10                   honda@gmail.com     \n",
      "16              Yamaha               11                   yamaha@gmail.com    \n",
      "17              Ravi                 12                   ravi_mankara@gmail.com\n",
      "18              Prerna               12                   prerna_rohit@gmail.com\n",
      "20              Honda                10                   honda@gmail.com     \n",
      "21              Yamaha               11                   yamaha@gmail.com    \n",
      "22              Ravi                 12                   ravi_mankara@gmail.com\n",
      "23              Rohit                12                   rohitpawar@gmail.com\n",
      "24              Prerna               11                   prerna@gmail.com    \n"
     ]
    }
   ],
   "source": [
    "#selecting data from query-data is returned as tuple of tuple\n",
    "#to display all data\n",
    "\n",
    "print(\"{:<15} {:<20} {:<20} {:<20}\".format(\"Student Id\", \"Student Name\", \"Student Class\", \"Student Email\"))\n",
    "\n",
    "try:\n",
    "    cursor_obj.execute('select * from student')\n",
    "    result=cursor_obj.fetchall()\n",
    "\n",
    "    for i in result:\n",
    "        print(\"{:<15} {:<20} {:<20} {:<20}\".format(i[0], i[1], i[2], i[3]))\n",
    "except:\n",
    "              print(\"Error\")"
   ]
  },
  {
   "cell_type": "code",
   "execution_count": 20,
   "id": "bcc98986",
   "metadata": {},
   "outputs": [
    {
     "name": "stdout",
     "output_type": "stream",
     "text": [
      "((1, 'Prerna C', '12', 'chaurasia@gmail.com'), (2, 'Rohit P', '12', 'pawar@gmail.com'), (4, 'Rohit', '12', 'rohitpawar@gmail.com'), (5, 'Prerna', '11', 'prerna@gmail.com'), (6, 'Ravi', '12', 'ravi_mankara@gmail.com'), (7, 'Rohit', '12', 'rohitpawar@gmail.com'), (8, 'Prerna', '11', 'prerna@gmail.com'), (9, 'Honda', '10', 'honda@gmail.com'), (10, 'Yamaha', '11', 'yamaha@gmail.com'), (11, 'Honda', '10', 'honda@gmail.com'), (12, 'Yamaha', '11', 'yamaha@gmail.com'), (13, 'Honda', '10', 'honda@gmail.com'), (14, 'Yamaha', '11', 'yamaha@gmail.com'), (15, 'Honda', '10', 'honda@gmail.com'), (16, 'Yamaha', '11', 'yamaha@gmail.com'), (17, 'Ravi', '12', 'ravi_mankara@gmail.com'), (18, 'Prerna', '12', 'prerna_rohit@gmail.com'), (20, 'Honda', '10', 'honda@gmail.com'), (21, 'Yamaha', '11', 'yamaha@gmail.com'), (22, 'Ravi', '12', 'ravi_mankara@gmail.com'), (23, 'Rohit', '12', 'rohitpawar@gmail.com'), (24, 'Prerna', '11', 'prerna@gmail.com'))\n"
     ]
    }
   ],
   "source": [
    "print(result)#tuple of tuple "
   ]
  },
  {
   "cell_type": "code",
   "execution_count": 21,
   "id": "25f891de",
   "metadata": {},
   "outputs": [
    {
     "name": "stdout",
     "output_type": "stream",
     "text": [
      "Student Id      Student Name         Student Class        Student Email       \n",
      "1               Prerna C             12                   chaurasia@gmail.com \n"
     ]
    }
   ],
   "source": [
    "#to display a single row data\n",
    "\n",
    "print(\"{:<15} {:<20} {:<20} {:<20}\".format(\"Student Id\", \"Student Name\", \"Student Class\", \"Student Email\"))\n",
    "\n",
    "try:\n",
    "    cursor_obj.execute('select * from student')\n",
    "    result=cursor_obj.fetchone()\n",
    "\n",
    "    print(\"{:<15} {:<20} {:<20} {:<20}\".format(result[0], result[1], result[2], result[3]))\n",
    "except:\n",
    "              print(\"Error\")\n"
   ]
  },
  {
   "cell_type": "code",
   "execution_count": 22,
   "id": "3354c59d",
   "metadata": {},
   "outputs": [
    {
     "name": "stdout",
     "output_type": "stream",
     "text": [
      "Student Id      Student Name         Student Class        Student Email       \n",
      "1               Prerna C             12                   chaurasia@gmail.com \n",
      "2               Rohit P              12                   pawar@gmail.com     \n"
     ]
    }
   ],
   "source": [
    "#to display a multiple row data\n",
    "print(\"{:<15} {:<20} {:<20} {:<20}\".format(\"Student Id\", \"Student Name\", \"Student Class\", \"Student Email\"))\n",
    "\n",
    "try:\n",
    "    cursor_obj.execute('select * from student')\n",
    "    result=cursor_obj.fetchmany(size=2)\n",
    "\n",
    "    for i in result:\n",
    "        print(\"{:<15} {:<20} {:<20} {:<20}\".format(i[0], i[1], i[2], i[3]))\n",
    "except:\n",
    "              print(\"Error\")"
   ]
  },
  {
   "cell_type": "markdown",
   "id": "3f6bdf92",
   "metadata": {},
   "source": [
    "-----------------\n"
   ]
  },
  {
   "cell_type": "code",
   "execution_count": 23,
   "id": "9da08afb",
   "metadata": {},
   "outputs": [
    {
     "name": "stdout",
     "output_type": "stream",
     "text": [
      "Enter Student ID to delete from table: 19\n",
      "Record deleted successfully\n"
     ]
    }
   ],
   "source": [
    "#deleting data entries - you can also get input from user for deleting rows\n",
    "query='delete from student where std_id= %s'\n",
    "std_id=input('Enter Student ID to delete from table: ')\n",
    "try:\n",
    "    cursor_obj.execute(query,std_id)\n",
    "    print('Record deleted successfully')\n",
    "    conn_obj.commit() #unless you commit changes are not propogated to database\n",
    "except:\n",
    "    print('Error Occured, check query')"
   ]
  },
  {
   "cell_type": "markdown",
   "id": "89c84fb0",
   "metadata": {},
   "source": [
    "-------------\n"
   ]
  },
  {
   "cell_type": "code",
   "execution_count": 83,
   "id": "21609132",
   "metadata": {},
   "outputs": [
    {
     "name": "stdout",
     "output_type": "stream",
     "text": [
      "Enter Student Id to be updated: 32\n",
      "Enter Student Name: Kawaski\n",
      "Enter Student Email: kawasaki@gmail.com\n",
      "Record updated successfully\n"
     ]
    }
   ],
   "source": [
    "#updating data in database\n",
    "std_id=input('Enter Student Id to be updated: ')\n",
    "std_name=input('Enter Student Name: ')\n",
    "std_email=input('Enter Student Email: ')\n",
    "query='update student set std_name=%s, std_email=%s where std_id=%s'\n",
    "#update_details=tuple([std_name,std_email,std_id])#convert a list of string into tuple\n",
    "update_details=(std_name,std_email,std_id) # you can pass either a tuple or list of string\n",
    "\n",
    "try:\n",
    "    cursor_obj.execute(query,update_details)\n",
    "    print('Record updated successfully')\n",
    "    conn_obj.commit() #unless you commit changes are not propogated to database\n",
    "except:\n",
    "    print('Error Occured, check query')"
   ]
  },
  {
   "cell_type": "markdown",
   "id": "b059423e",
   "metadata": {},
   "source": [
    "----------------------"
   ]
  },
  {
   "cell_type": "code",
   "execution_count": 25,
   "id": "7ac0695f",
   "metadata": {},
   "outputs": [
    {
     "name": "stdout",
     "output_type": "stream",
     "text": [
      "Student Id      Student Name         Student Class        Student Email       \n",
      "13              Honda                10                   honda@gmail.com     \n",
      "20              Honda                10                   honda@gmail.com     \n",
      "15              Honda                10                   honda@gmail.com     \n",
      "11              Honda                10                   honda@gmail.com     \n",
      "9               Honda                10                   honda@gmail.com     \n",
      "24              Prerna               11                   prerna@gmail.com    \n",
      "8               Prerna               11                   prerna@gmail.com    \n",
      "5               Prerna               11                   prerna@gmail.com    \n",
      "1               Prerna C             12                   chaurasia@gmail.com \n",
      "6               Ravi                 12                   ravi_mankara@gmail.com\n",
      "22              Ravi                 12                   ravi_mankara@gmail.com\n",
      "17              Ravi                 12                   ravi_mankara@gmail.com\n",
      "23              Rohit                12                   rohitpawar@gmail.com\n",
      "7               Rohit                12                   rohitpawar@gmail.com\n",
      "4               Rohit                12                   rohitpawar@gmail.com\n",
      "2               Rohit P              12                   pawar@gmail.com     \n",
      "18              Rohit Pawar          12                   rohitpawar@gmail.com\n",
      "14              Yamaha               11                   yamaha@gmail.com    \n",
      "21              Yamaha               11                   yamaha@gmail.com    \n",
      "12              Yamaha               11                   yamaha@gmail.com    \n",
      "10              Yamaha               11                   yamaha@gmail.com    \n",
      "16              Yamaha               11                   yamaha@gmail.com    \n"
     ]
    }
   ],
   "source": [
    "#orderby asc\n",
    "print(\"{:<15} {:<20} {:<20} {:<20}\".format(\"Student Id\", \"Student Name\", \"Student Class\", \"Student Email\"))\n",
    "\n",
    "try:\n",
    "    cursor_obj.execute('select * from student order by std_name')\n",
    "    result=cursor_obj.fetchall()\n",
    "\n",
    "    for i in result:\n",
    "        print(\"{:<15} {:<20} {:<20} {:<20}\".format(i[0], i[1], i[2], i[3]))\n",
    "except:\n",
    "              print(\"Error\")"
   ]
  },
  {
   "cell_type": "code",
   "execution_count": 26,
   "id": "a594c467",
   "metadata": {},
   "outputs": [
    {
     "name": "stdout",
     "output_type": "stream",
     "text": [
      "Student Id      Student Name         Student Class        Student Email       \n",
      "16              Yamaha               11                   yamaha@gmail.com    \n",
      "14              Yamaha               11                   yamaha@gmail.com    \n",
      "12              Yamaha               11                   yamaha@gmail.com    \n",
      "10              Yamaha               11                   yamaha@gmail.com    \n",
      "21              Yamaha               11                   yamaha@gmail.com    \n",
      "18              Rohit Pawar          12                   rohitpawar@gmail.com\n",
      "2               Rohit P              12                   pawar@gmail.com     \n",
      "7               Rohit                12                   rohitpawar@gmail.com\n",
      "23              Rohit                12                   rohitpawar@gmail.com\n",
      "4               Rohit                12                   rohitpawar@gmail.com\n",
      "22              Ravi                 12                   ravi_mankara@gmail.com\n",
      "6               Ravi                 12                   ravi_mankara@gmail.com\n",
      "17              Ravi                 12                   ravi_mankara@gmail.com\n",
      "1               Prerna C             12                   chaurasia@gmail.com \n",
      "24              Prerna               11                   prerna@gmail.com    \n",
      "8               Prerna               11                   prerna@gmail.com    \n",
      "5               Prerna               11                   prerna@gmail.com    \n",
      "15              Honda                10                   honda@gmail.com     \n",
      "11              Honda                10                   honda@gmail.com     \n",
      "20              Honda                10                   honda@gmail.com     \n",
      "9               Honda                10                   honda@gmail.com     \n",
      "13              Honda                10                   honda@gmail.com     \n"
     ]
    }
   ],
   "source": [
    "#orderby desc\n",
    "print(\"{:<15} {:<20} {:<20} {:<20}\".format(\"Student Id\", \"Student Name\", \"Student Class\", \"Student Email\"))\n",
    "\n",
    "try:\n",
    "    cursor_obj.execute('select * from student order by std_name desc')\n",
    "    result=cursor_obj.fetchall()\n",
    "\n",
    "    for i in result:\n",
    "        print(\"{:<15} {:<20} {:<20} {:<20}\".format(i[0], i[1], i[2], i[3]))\n",
    "except:\n",
    "              print(\"Error\")"
   ]
  },
  {
   "cell_type": "markdown",
   "id": "0ba26766",
   "metadata": {},
   "source": [
    "--------------------------------------------------"
   ]
  },
  {
   "cell_type": "code",
   "execution_count": 84,
   "id": "2777ebb6",
   "metadata": {},
   "outputs": [
    {
     "name": "stdout",
     "output_type": "stream",
     "text": [
      "Student Id      Student Name         Student Class        Student Email       \n",
      "4               Rohit                12                   rohitpawar@gmail.com\n"
     ]
    }
   ],
   "source": [
    "#limit \n",
    "#orderby / limit\n",
    "print(\"{:<15} {:<20} {:<20} {:<20}\".format(\"Student Id\", \"Student Name\", \"Student Class\", \"Student Email\"))\n",
    "\n",
    "try:\n",
    "    cursor_obj.execute('select * from student limit 2,1')#limit (2,1) 2-hide, 1-number of entries after hide\n",
    "    result=cursor_obj.fetchall()\n",
    "\n",
    "    for i in result:\n",
    "        print(\"{:<15} {:<20} {:<20} {:<20}\".format(i[0], i[1], i[2], i[3]))\n",
    "except:\n",
    "              print(\"Error\")"
   ]
  },
  {
   "cell_type": "markdown",
   "id": "3080f8dd",
   "metadata": {},
   "source": [
    "-----------------------------------"
   ]
  },
  {
   "cell_type": "code",
   "execution_count": 28,
   "id": "f7e5bd88",
   "metadata": {},
   "outputs": [
    {
     "name": "stdout",
     "output_type": "stream",
     "text": [
      "Enter Student Name to search: Prerna\n",
      "Student Id      Student Name         Student Class        Student Email       \n",
      "5               Prerna               11                   prerna@gmail.com    \n",
      "8               Prerna               11                   prerna@gmail.com    \n",
      "24              Prerna               11                   prerna@gmail.com    \n"
     ]
    }
   ],
   "source": [
    "#searching/filtering #exact value needs to be passed\n",
    "#orderby / limit\n",
    "\n",
    "search=input('Enter Student Name to search: ')\n",
    "print(\"{:<15} {:<20} {:<20} {:<20}\".format(\"Student Id\", \"Student Name\", \"Student Class\", \"Student Email\"))\n",
    "\n",
    "try:\n",
    "    cursor_obj.execute(\"select * from student where std_name = '{}'\".format(search) ) #take care of qoutation\n",
    "    result=cursor_obj.fetchall()\n",
    "\n",
    "    for i in result:\n",
    "        print(\"{:<15} {:<20} {:<20} {:<20}\".format(i[0], i[1], i[2], i[3]))\n",
    "except:\n",
    "              print(\"Error\")\n"
   ]
  },
  {
   "cell_type": "code",
   "execution_count": 90,
   "id": "7f06c0c2",
   "metadata": {},
   "outputs": [
    {
     "name": "stdout",
     "output_type": "stream",
     "text": [
      "Enter Student Name to search: rohit\n",
      "Student Id      Student Name         Student Class        Student Email       \n",
      "2               Rohit P              12                   pawar@gmail.com     \n",
      "4               Rohit                12                   rohitpawar@gmail.com\n",
      "7               Rohit                12                   rohitpawar@gmail.com\n",
      "18              Rohit Pawar          12                   rohitpawar@gmail.com\n",
      "23              Rohit                12                   rohitpawar@gmail.com\n",
      "27              Rohit                12                   rohitpawar@gmail.com\n",
      "29              Rohit                                     rohitpawar@gmail.com\n",
      "31              Rohit                110                  rohitpawar@gmail.com\n",
      "33              Rohit                11                   rohitpawar@gmail.com\n"
     ]
    }
   ],
   "source": [
    "#matching - like - case insensitive\n",
    "search=input('Enter Student Name to search: ')\n",
    "print(\"{:<15} {:<20} {:<20} {:<20}\".format(\"Student Id\", \"Student Name\", \"Student Class\", \"Student Email\"))\n",
    "\n",
    "try:\n",
    "    cursor_obj.execute(\"select * from student where std_name like '%{}%'\".format(search) ) #%P% means all row containing the letter\n",
    "    result=cursor_obj.fetchall()\n",
    "\n",
    "    for i in result:\n",
    "        print(\"{:<15} {:<20} {:<20} {:<20}\".format(i[0], i[1], i[2], i[3]))\n",
    "except:\n",
    "              print(\"Error\")\n"
   ]
  },
  {
   "cell_type": "code",
   "execution_count": 86,
   "id": "2a857433",
   "metadata": {},
   "outputs": [
    {
     "name": "stdout",
     "output_type": "stream",
     "text": [
      "Enter Student Name to search: P\n",
      "Student Id      Student Name         Student Class        Student Email       \n",
      "1               Prerna C             12                   chaurasia@gmail.com \n",
      "2               Rohit P              12                   pawar@gmail.com     \n",
      "5               Prerna               11                   prerna@gmail.com    \n",
      "8               Prerna               11                   prerna@gmail.com    \n",
      "18              Rohit Pawar          12                   rohitpawar@gmail.com\n",
      "24              Prerna               11                   prerna@gmail.com    \n",
      "28              Prerna               11                   prerna@gmail.com    \n",
      "30              Prerna               11                   prerna@gmail.com    \n",
      "34              Prerna               11                   prerna@gmail.com    \n"
     ]
    }
   ],
   "source": [
    "#matching - like - case sensitive\n",
    "search=input('Enter Student Name to search: ')\n",
    "print(\"{:<15} {:<20} {:<20} {:<20}\".format(\"Student Id\", \"Student Name\", \"Student Class\", \"Student Email\"))\n",
    "\n",
    "try:\n",
    "    cursor_obj.execute(\"select * from student where binary std_name like '%{}%'\".format(search) ) #binary- means case sensitive #%P% means all row containing the letter\n",
    "    result=cursor_obj.fetchall()\n",
    "\n",
    "    for i in result:\n",
    "        print(\"{:<15} {:<20} {:<20} {:<20}\".format(i[0], i[1], i[2], i[3]))\n",
    "except:\n",
    "              print(\"Error\")\n"
   ]
  },
  {
   "cell_type": "markdown",
   "id": "34b78a4a",
   "metadata": {},
   "source": [
    "--------------"
   ]
  },
  {
   "cell_type": "code",
   "execution_count": 91,
   "id": "d9aec3d3",
   "metadata": {},
   "outputs": [
    {
     "name": "stdout",
     "output_type": "stream",
     "text": [
      "Enter Student Name to search: Rohit\n",
      "Enter Student Class to search: 10\n",
      "Student Id      Student Name         Student Class        Student Email       \n"
     ]
    }
   ],
   "source": [
    "\n",
    "#usig and for fulfilling both the condition\n",
    "\n",
    "#matching - like - case insensitive\n",
    "search1=input('Enter Student Name to search: ')\n",
    "search2=input('Enter Student Class to search: ')\n",
    "print(\"{:<15} {:<20} {:<20} {:<20}\".format(\"Student Id\", \"Student Name\", \"Student Class\", \"Student Email\"))\n",
    "\n",
    "try:\n",
    "    cursor_obj.execute(\"select * from student where std_name like '%{}%' and std_class={}\".format(search1,search2) ) #%P% means all row containing the letter\n",
    "    result=cursor_obj.fetchall() \n",
    "\n",
    "    for i in result:\n",
    "        print(\"{:<15} {:<20} {:<20} {:<20}\".format(i[0], i[1], i[2], i[3]))\n",
    "except:\n",
    "              print(\"Error\")\n",
    "\n",
    "        \n"
   ]
  },
  {
   "cell_type": "markdown",
   "id": "da9aa89b",
   "metadata": {},
   "source": [
    "Above query returns no row as there is no record with name 'Rohit' and class '10'."
   ]
  },
  {
   "cell_type": "code",
   "execution_count": 89,
   "id": "126eff6d",
   "metadata": {},
   "outputs": [
    {
     "name": "stdout",
     "output_type": "stream",
     "text": [
      "Enter Student Name to search: Rohit\n",
      "Enter Student Class to search: 10\n",
      "Student Id      Student Name         Student Class        Student Email       \n",
      "2               Rohit P              12                   pawar@gmail.com     \n",
      "4               Rohit                12                   rohitpawar@gmail.com\n",
      "7               Rohit                12                   rohitpawar@gmail.com\n",
      "9               Honda                10                   honda@gmail.com     \n",
      "11              Honda                10                   honda@gmail.com     \n",
      "13              Honda                10                   honda@gmail.com     \n",
      "15              Honda                10                   honda@gmail.com     \n",
      "18              Rohit Pawar          12                   rohitpawar@gmail.com\n",
      "20              Honda                10                   honda@gmail.com     \n",
      "23              Rohit                12                   rohitpawar@gmail.com\n",
      "25              Honda                10                   honda@gmail.com     \n",
      "27              Rohit                12                   rohitpawar@gmail.com\n",
      "29              Rohit                                     rohitpawar@gmail.com\n",
      "31              Rohit                110                  rohitpawar@gmail.com\n",
      "33              Rohit                11                   rohitpawar@gmail.com\n"
     ]
    }
   ],
   "source": [
    "\n",
    "#using or for fulfilling either the condition\n",
    "\n",
    "#matching - like - case insensitive\n",
    "search1=input('Enter Student Name to search: ')\n",
    "search2=input('Enter Student Class to search: ')\n",
    "print(\"{:<15} {:<20} {:<20} {:<20}\".format(\"Student Id\", \"Student Name\", \"Student Class\", \"Student Email\"))\n",
    "\n",
    "try:\n",
    "    cursor_obj.execute(\"select * from student where std_name like '%{}%' or std_class={}\".format(search1,search2) ) #%P% means all row containing the letter\n",
    "    result=cursor_obj.fetchall()\n",
    "\n",
    "    for i in result:\n",
    "        print(\"{:<15} {:<20} {:<20} {:<20}\".format(i[0], i[1], i[2], i[3]))\n",
    "except:\n",
    "              print(\"Error\")\n"
   ]
  },
  {
   "cell_type": "markdown",
   "id": "7afea5db",
   "metadata": {},
   "source": [
    "----------------------"
   ]
  },
  {
   "cell_type": "markdown",
   "id": "a74bc51c",
   "metadata": {},
   "source": [
    "------------------------------"
   ]
  },
  {
   "cell_type": "code",
   "execution_count": 33,
   "id": "772ab411",
   "metadata": {},
   "outputs": [
    {
     "name": "stdout",
     "output_type": "stream",
     "text": [
      "    std_id     std_name std_class               std_email\n",
      "0        1     Prerna C        12     chaurasia@gmail.com\n",
      "1        2      Rohit P        12         pawar@gmail.com\n",
      "2        4        Rohit        12    rohitpawar@gmail.com\n",
      "3        5       Prerna        11        prerna@gmail.com\n",
      "4        6         Ravi        12  ravi_mankara@gmail.com\n",
      "5        7        Rohit        12    rohitpawar@gmail.com\n",
      "6        8       Prerna        11        prerna@gmail.com\n",
      "7        9        Honda        10         honda@gmail.com\n",
      "8       10       Yamaha        11        yamaha@gmail.com\n",
      "9       11        Honda        10         honda@gmail.com\n",
      "10      12       Yamaha        11        yamaha@gmail.com\n",
      "11      13        Honda        10         honda@gmail.com\n",
      "12      14       Yamaha        11        yamaha@gmail.com\n",
      "13      15        Honda        10         honda@gmail.com\n",
      "14      16       Yamaha        11        yamaha@gmail.com\n",
      "15      17         Ravi        12  ravi_mankara@gmail.com\n",
      "16      18  Rohit Pawar        12    rohitpawar@gmail.com\n",
      "17      20        Honda        10         honda@gmail.com\n",
      "18      21       Yamaha        11        yamaha@gmail.com\n",
      "19      22         Ravi        12  ravi_mankara@gmail.com\n",
      "20      23        Rohit        12    rohitpawar@gmail.com\n",
      "21      24       Prerna        11        prerna@gmail.com\n"
     ]
    }
   ],
   "source": [
    "#using pandas to read data into data frame for processing\n",
    "import pandas as pd\n",
    "try:\n",
    "    df_read=pd.read_sql(\"select * from student\",conn_obj) #read data from db into dataframe\n",
    "    print(df_read)\n",
    "except:\n",
    "    prnt('Error: Unable to read data')\n"
   ]
  },
  {
   "cell_type": "code",
   "execution_count": 34,
   "id": "1817a3ae",
   "metadata": {},
   "outputs": [
    {
     "data": {
      "text/plain": [
       "pandas.core.frame.DataFrame"
      ]
     },
     "execution_count": 34,
     "metadata": {},
     "output_type": "execute_result"
    }
   ],
   "source": [
    "type(df_read)"
   ]
  },
  {
   "cell_type": "code",
   "execution_count": 35,
   "id": "e8c873f6",
   "metadata": {},
   "outputs": [
    {
     "name": "stdout",
     "output_type": "stream",
     "text": [
      "<class 'pandas.core.frame.DataFrame'>\n",
      "RangeIndex: 22 entries, 0 to 21\n",
      "Data columns (total 4 columns):\n",
      " #   Column     Non-Null Count  Dtype \n",
      "---  ------     --------------  ----- \n",
      " 0   std_id     22 non-null     int64 \n",
      " 1   std_name   22 non-null     object\n",
      " 2   std_class  22 non-null     object\n",
      " 3   std_email  22 non-null     object\n",
      "dtypes: int64(1), object(3)\n",
      "memory usage: 832.0+ bytes\n"
     ]
    }
   ],
   "source": [
    "df_read.info()"
   ]
  },
  {
   "cell_type": "code",
   "execution_count": 36,
   "id": "f67fe094",
   "metadata": {},
   "outputs": [
    {
     "data": {
      "text/plain": [
       "'\\n# Create dataframe\\ndata = pd.DataFrame({\\n    \\'book_id\\':[12345, 12346, 12347],\\n    \\'title\\':[\\'Python Programming\\', \\'Learn MySQL\\', \\'Data Science Cookbook\\'],\\n    \\'price\\':[29, 23, 27]\\n})\\n\\n# creating column list for insertion\\ncols = \"`,`\".join([str(i) for i in data.columns.tolist()])\\n\\n# Insert DataFrame recrds one by one.\\nfor i,row in data.iterrows():\\n    sql = \"INSERT INTO `book_details` (`\" +cols + \"`) VALUES (\" + \"%s,\"*(len(row)-1) + \"%s)\"\\n    cursor.execute(sql, tuple(row))\\n\\n    # the connection is not autocommitted by default, so we must commit to save our changes\\n    connection.commit() '"
      ]
     },
     "execution_count": 36,
     "metadata": {},
     "output_type": "execute_result"
    }
   ],
   "source": [
    "'''\n",
    "# Create dataframe\n",
    "data = pd.DataFrame({\n",
    "    'book_id':[12345, 12346, 12347],\n",
    "    'title':['Python Programming', 'Learn MySQL', 'Data Science Cookbook'],\n",
    "    'price':[29, 23, 27]\n",
    "})\n",
    "\n",
    "# creating column list for insertion\n",
    "cols = \"`,`\".join([str(i) for i in data.columns.tolist()])\n",
    "\n",
    "# Insert DataFrame recrds one by one.\n",
    "for i,row in data.iterrows():\n",
    "    sql = \"INSERT INTO `book_details` (`\" +cols + \"`) VALUES (\" + \"%s,\"*(len(row)-1) + \"%s)\"\n",
    "    cursor.execute(sql, tuple(row))\n",
    "\n",
    "    # the connection is not autocommitted by default, so we must commit to save our changes\n",
    "    connection.commit() '''"
   ]
  },
  {
   "cell_type": "markdown",
   "id": "ba1a10ea",
   "metadata": {},
   "source": [
    "-------------\n"
   ]
  },
  {
   "cell_type": "markdown",
   "id": "437fa365",
   "metadata": {},
   "source": [
    "---------------"
   ]
  },
  {
   "cell_type": "code",
   "execution_count": 37,
   "id": "405b9d99",
   "metadata": {
    "scrolled": true
   },
   "outputs": [
    {
     "name": "stdout",
     "output_type": "stream",
     "text": [
      "Error Unable to write data\n"
     ]
    }
   ],
   "source": [
    "#Failed to write a pandas dataframe to student table\n",
    "#writing data to a new blank table,that will be created, not the one that exists, using pandas\n",
    "write_dict={'std_name':['Honda','Yamaha'] ,'std_class':[10,11], 'std_email':['honda@gmail.com','yamaha@gmail.com']} # if using a scalar i.e single data entry you must specify an index or else pass the values as list\n",
    "write_df=pd.DataFrame(data=write_dict)\n",
    "try:\n",
    "    write_df.to_sql('student',conn_obj)\n",
    "    print('Data written to Student Table')\n",
    "    conn_obj.commit()\n",
    "except:\n",
    "    print('Error Unable to write data')\n"
   ]
  },
  {
   "cell_type": "code",
   "execution_count": 38,
   "id": "ad799d2e",
   "metadata": {},
   "outputs": [],
   "source": [
    "#creating a new connection object as there is some issue with pymysql while writing data back to database\n",
    "#inserting dataframe into database using \n",
    "import sqlalchemy\n",
    "from sqlalchemy import create_engine\n",
    "engine = sqlalchemy.create_engine('mysql+pymysql://root:@localhost/school')#connection object"
   ]
  },
  {
   "cell_type": "code",
   "execution_count": 39,
   "id": "b2f4bcc7",
   "metadata": {},
   "outputs": [
    {
     "name": "stdout",
     "output_type": "stream",
     "text": [
      "Error Unable to write data\n"
     ]
    }
   ],
   "source": [
    "#(1412, 'Table definition has changed, please retry transaction')\n",
    "#if used with old connection object we get this error\n",
    "tst=engine.execute('select * from test_db')\n",
    "write_dict={'std_name':['Honda','Yamaha'] ,'std_class':[10,11], 'std_email':['honda@gmail.com','yamaha@gmail.com']} # if using a scalar i.e single data entry you must specify an index or else pass the values as list\n",
    "write_df=pd.DataFrame(data=write_dict)#the data\n",
    "try:\n",
    "    write_df.to_sql('test_db',con=engine) \n",
    "    print('Data written to test_db Table')\n",
    "    #conn_obj.commit()\n",
    "except:\n",
    "    print('Error Unable to write data')\n"
   ]
  },
  {
   "cell_type": "code",
   "execution_count": 40,
   "id": "f95988c3",
   "metadata": {},
   "outputs": [
    {
     "name": "stdout",
     "output_type": "stream",
     "text": [
      "(0, 'Honda', 10, 'honda@gmail.com')\n",
      "(1, 'Yamaha', 11, 'yamaha@gmail.com')\n"
     ]
    }
   ],
   "source": [
    "#checking data that is written.\n",
    "tst=engine.execute('select * from test_db')\n",
    "for i in tst:\n",
    "    print(i)"
   ]
  },
  {
   "cell_type": "code",
   "execution_count": 41,
   "id": "672ad5ee",
   "metadata": {},
   "outputs": [],
   "source": [
    "engine.dispose() #doesn't really close connection need to add parameters while creating connection to help achieve this\n",
    "#cursor_obj.execute('select * from test_db')\n",
    "#(1412, 'Table definition has changed, please retry transaction')\n"
   ]
  },
  {
   "cell_type": "markdown",
   "id": "653c0fe9",
   "metadata": {},
   "source": [
    "-----------------"
   ]
  },
  {
   "cell_type": "markdown",
   "id": "cbe504df",
   "metadata": {},
   "source": [
    "---------------"
   ]
  },
  {
   "cell_type": "code",
   "execution_count": 42,
   "id": "68a2493e",
   "metadata": {},
   "outputs": [],
   "source": [
    "#entering data using insert, can insert into old table\n",
    "# creating column list for insertion\n",
    "cols = ','.join([str(i) for i in write_df.columns.tolist()])#dataframe must have column label same table column name\n",
    "\n",
    "# Insert DataFrame recrds one by one.\n",
    "for i,row in write_df.iterrows():#iterate over df as index and series, returns series for each row and does not preserve the dtype of element\n",
    "    query=\"insert into student ({}) values (%s,%s,%s)\".format(cols)\n",
    "    cursor_obj.execute(query, list(row)) #val_str: can be a list, tuple, dict\n",
    "    conn_obj.commit() "
   ]
  },
  {
   "cell_type": "code",
   "execution_count": 43,
   "id": "f893d2a2",
   "metadata": {},
   "outputs": [
    {
     "data": {
      "text/plain": [
       "pandas.core.series.Series"
      ]
     },
     "execution_count": 43,
     "metadata": {},
     "output_type": "execute_result"
    }
   ],
   "source": [
    "type(row)#iter"
   ]
  },
  {
   "cell_type": "code",
   "execution_count": 44,
   "id": "30ccda77",
   "metadata": {},
   "outputs": [
    {
     "data": {
      "text/plain": [
       "pandas.core.series.Series"
      ]
     },
     "execution_count": 44,
     "metadata": {},
     "output_type": "execute_result"
    }
   ],
   "source": [
    "type(write_df.std_name)"
   ]
  },
  {
   "cell_type": "code",
   "execution_count": 45,
   "id": "1f8145ed",
   "metadata": {},
   "outputs": [
    {
     "name": "stdout",
     "output_type": "stream",
     "text": [
      "std_name               Yamaha\n",
      "std_class                  11\n",
      "std_email    yamaha@gmail.com\n",
      "Name: 1, dtype: object\n"
     ]
    }
   ],
   "source": [
    "print(row)"
   ]
  },
  {
   "cell_type": "code",
   "execution_count": 46,
   "id": "37c90cb7",
   "metadata": {},
   "outputs": [
    {
     "name": "stdout",
     "output_type": "stream",
     "text": [
      "Index(['std_name', 'std_class', 'std_email'], dtype='object')\n",
      "0x15beac31070\n"
     ]
    }
   ],
   "source": [
    "print(row.index)\n",
    "print(hex(id(row)))"
   ]
  },
  {
   "cell_type": "code",
   "execution_count": 47,
   "id": "14c90ad8",
   "metadata": {},
   "outputs": [
    {
     "name": "stdout",
     "output_type": "stream",
     "text": [
      "(1, 'Prerna C', '12', 'chaurasia@gmail.com')\n",
      "(2, 'Rohit P', '12', 'pawar@gmail.com')\n",
      "(4, 'Rohit', '12', 'rohitpawar@gmail.com')\n",
      "(5, 'Prerna', '11', 'prerna@gmail.com')\n",
      "(6, 'Ravi', '12', 'ravi_mankara@gmail.com')\n",
      "(7, 'Rohit', '12', 'rohitpawar@gmail.com')\n",
      "(8, 'Prerna', '11', 'prerna@gmail.com')\n",
      "(9, 'Honda', '10', 'honda@gmail.com')\n",
      "(10, 'Yamaha', '11', 'yamaha@gmail.com')\n",
      "(11, 'Honda', '10', 'honda@gmail.com')\n",
      "(12, 'Yamaha', '11', 'yamaha@gmail.com')\n",
      "(13, 'Honda', '10', 'honda@gmail.com')\n",
      "(14, 'Yamaha', '11', 'yamaha@gmail.com')\n",
      "(15, 'Honda', '10', 'honda@gmail.com')\n",
      "(16, 'Yamaha', '11', 'yamaha@gmail.com')\n",
      "(17, 'Ravi', '12', 'ravi_mankara@gmail.com')\n",
      "(18, 'Rohit Pawar', '12', 'rohitpawar@gmail.com')\n",
      "(20, 'Honda', '10', 'honda@gmail.com')\n",
      "(21, 'Yamaha', '11', 'yamaha@gmail.com')\n",
      "(22, 'Ravi', '12', 'ravi_mankara@gmail.com')\n",
      "(23, 'Rohit', '12', 'rohitpawar@gmail.com')\n",
      "(24, 'Prerna', '11', 'prerna@gmail.com')\n",
      "(25, 'Honda', '10', 'honda@gmail.com')\n",
      "(26, 'Yamaha', '11', 'yamaha@gmail.com')\n"
     ]
    }
   ],
   "source": [
    "cursor_obj.execute('select * from student')\n",
    "res=cursor_obj.fetchall()#tuple of tuple, result is fetched as tuple and each record is always retrieved as tuple\n",
    "for i in res:\n",
    "    print(i)"
   ]
  },
  {
   "cell_type": "code",
   "execution_count": 48,
   "id": "7d8481ee",
   "metadata": {},
   "outputs": [
    {
     "data": {
      "text/plain": [
       "tuple"
      ]
     },
     "execution_count": 48,
     "metadata": {},
     "output_type": "execute_result"
    }
   ],
   "source": [
    "type(res)"
   ]
  },
  {
   "cell_type": "code",
   "execution_count": 49,
   "id": "e7b77e59",
   "metadata": {},
   "outputs": [
    {
     "name": "stdout",
     "output_type": "stream",
     "text": [
      "Pandas(Index=0, std_name='Honda', std_class=10, std_email='honda@gmail.com')\n",
      "Pandas(Index=1, std_name='Yamaha', std_class=11, std_email='yamaha@gmail.com')\n"
     ]
    }
   ],
   "source": [
    "for row1 in write_df.itertuples():#iteraete over namedtuple(is a frame of dataframe) hence it is of type frame\n",
    "    print(row1)"
   ]
  },
  {
   "cell_type": "code",
   "execution_count": 50,
   "id": "48390edb",
   "metadata": {},
   "outputs": [
    {
     "data": {
      "text/plain": [
       "pandas.core.frame.Pandas"
      ]
     },
     "execution_count": 50,
     "metadata": {},
     "output_type": "execute_result"
    }
   ],
   "source": [
    "type(row1) #Python's namedtuple was created to improve code readability by providing \n",
    "          #a way to access values using descriptive field names instead of integer indices,\n",
    "          #which most of the time don't provide any context on what the values are."
   ]
  },
  {
   "cell_type": "code",
   "execution_count": 51,
   "id": "59a41cc0",
   "metadata": {},
   "outputs": [
    {
     "data": {
      "text/plain": [
       "Pandas(Index=1, std_name='Yamaha', std_class=11, std_email='yamaha@gmail.com')"
      ]
     },
     "execution_count": 51,
     "metadata": {},
     "output_type": "execute_result"
    }
   ],
   "source": [
    "row1"
   ]
  },
  {
   "cell_type": "code",
   "execution_count": 52,
   "id": "b9951d70",
   "metadata": {},
   "outputs": [
    {
     "data": {
      "text/plain": [
       "pandas.core.frame.DataFrame"
      ]
     },
     "execution_count": 52,
     "metadata": {},
     "output_type": "execute_result"
    }
   ],
   "source": [
    "type(write_df)"
   ]
  },
  {
   "cell_type": "code",
   "execution_count": 53,
   "id": "312e2686",
   "metadata": {},
   "outputs": [
    {
     "name": "stdout",
     "output_type": "stream",
     "text": [
      "Pandas(std_name='Honda', std_class=10, std_email='honda@gmail.com')\n",
      "Pandas(std_name='Yamaha', std_class=11, std_email='yamaha@gmail.com')\n"
     ]
    }
   ],
   "source": [
    "for row2 in write_df.itertuples(index=False):\n",
    "    print(row2)"
   ]
  },
  {
   "cell_type": "code",
   "execution_count": 54,
   "id": "10d8d6d6",
   "metadata": {},
   "outputs": [
    {
     "data": {
      "text/plain": [
       "pandas.core.frame.Pandas"
      ]
     },
     "execution_count": 54,
     "metadata": {},
     "output_type": "execute_result"
    }
   ],
   "source": [
    "type(row2)"
   ]
  },
  {
   "cell_type": "code",
   "execution_count": 55,
   "id": "03ea1db5",
   "metadata": {},
   "outputs": [
    {
     "name": "stdout",
     "output_type": "stream",
     "text": [
      "std_name\n",
      "std_class\n",
      "std_email\n"
     ]
    }
   ],
   "source": [
    "for column, series in write_df.iteritems():\n",
    "    print(column)\n",
    "    #print(series)"
   ]
  },
  {
   "cell_type": "code",
   "execution_count": 56,
   "id": "db76924f",
   "metadata": {},
   "outputs": [
    {
     "name": "stdout",
     "output_type": "stream",
     "text": [
      "0     Honda\n",
      "1    Yamaha\n",
      "Name: std_name, dtype: object\n",
      "0    10\n",
      "1    11\n",
      "Name: std_class, dtype: int64\n",
      "0     honda@gmail.com\n",
      "1    yamaha@gmail.com\n",
      "Name: std_email, dtype: object\n"
     ]
    }
   ],
   "source": [
    "for column, series in write_df.iteritems():\n",
    "    #print(column)\n",
    "    print(series)"
   ]
  },
  {
   "cell_type": "code",
   "execution_count": null,
   "id": "573c8b7b",
   "metadata": {},
   "outputs": [],
   "source": []
  },
  {
   "cell_type": "code",
   "execution_count": null,
   "id": "4b02a45f",
   "metadata": {},
   "outputs": [],
   "source": []
  }
 ],
 "metadata": {
  "kernelspec": {
   "display_name": "Python 3 (ipykernel)",
   "language": "python",
   "name": "python3"
  },
  "language_info": {
   "codemirror_mode": {
    "name": "ipython",
    "version": 3
   },
   "file_extension": ".py",
   "mimetype": "text/x-python",
   "name": "python",
   "nbconvert_exporter": "python",
   "pygments_lexer": "ipython3",
   "version": "3.9.7"
  }
 },
 "nbformat": 4,
 "nbformat_minor": 5
}
