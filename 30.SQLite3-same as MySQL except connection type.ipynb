{
 "cells": [
  {
   "cell_type": "code",
   "execution_count": 1,
   "id": "d3703b8d",
   "metadata": {},
   "outputs": [],
   "source": [
    "#SQLite"
   ]
  },
  {
   "cell_type": "code",
   "execution_count": 9,
   "id": "e458e345",
   "metadata": {},
   "outputs": [],
   "source": [
    "#creating a connection object\n",
    "import sqlite3\n",
    "conn_obj=sqlite3.connect('test_sqlite.db') #creates a db at the same location as oython script"
   ]
  },
  {
   "cell_type": "code",
   "execution_count": 4,
   "id": "ed980485",
   "metadata": {},
   "outputs": [
    {
     "data": {
      "text/plain": [
       "<sqlite3.Cursor at 0x18caf3070a0>"
      ]
     },
     "execution_count": 4,
     "metadata": {},
     "output_type": "execute_result"
    }
   ],
   "source": [
    "#creating a table in test_sqlite.db\n",
    "conn_obj.execute('''\n",
    "create table student(std_id int primary key auto_increment,\n",
    "std_name varchar(30),\n",
    "std_class varchar(10),\n",
    "std_email varchar(30))\n",
    "\n",
    "''')"
   ]
  },
  {
   "cell_type": "code",
   "execution_count": 6,
   "id": "0eb38867",
   "metadata": {},
   "outputs": [],
   "source": [
    "#inserting values\n",
    "query='''\n",
    "insert into student (std_name,std_class,std_email) values('Ram','12','ram@gmail.com')\n",
    "'''\n",
    "conn_obj.execute(query)\n",
    "conn_obj.commit()\n",
    "conn_obj.close()"
   ]
  },
  {
   "cell_type": "code",
   "execution_count": 8,
   "id": "e565b623",
   "metadata": {},
   "outputs": [],
   "source": [
    "query='''\n",
    "insert into student (std_name,std_class,std_email) values('Ravi','12','ravi@gmail.com')\n",
    "'''\n",
    "conn_obj.execute(query)\n",
    "conn_obj.commit()\n",
    "conn_obj.close()"
   ]
  },
  {
   "cell_type": "code",
   "execution_count": 40,
   "id": "5b74cb3f",
   "metadata": {},
   "outputs": [
    {
     "name": "stdout",
     "output_type": "stream",
     "text": [
      "Student_id           Student_name         Student_class        Student_mail        \n",
      "(None, 'Ram', '12', 'ram@gmail.com')\n",
      "(None, 'Ravi', '12', 'ravi@gmail.com')\n"
     ]
    }
   ],
   "source": [
    "#getting data from student\n",
    "data=conn_obj.execute('select * from student')\n",
    "print(\"{:<20} {:<20} {:<20} {:<20}\".format('Student_id','Student_name','Student_class','Student_mail'))\n",
    "result=data.fetchall()#gives you a list of tuple\n",
    "for i in result:\n",
    "    #print(\"{:<20} {:<20} {:<20} {:<20}\".format(i[0], i[1], i[2], i[3]))\n",
    "    print((i[0], i[1], i[2], i[3])) #unable to use format as there is none in i[0]"
   ]
  },
  {
   "cell_type": "code",
   "execution_count": 45,
   "id": "2f5d51a0",
   "metadata": {},
   "outputs": [
    {
     "name": "stdout",
     "output_type": "stream",
     "text": [
      "Enter the std_id to delete1\n"
     ]
    }
   ],
   "source": [
    "user_input=input('Enter the std_id to delete')\n",
    "query=('delete from student where std_class='+user_input )\n",
    "conn_obj.execute(query)\n",
    "conn_obj.commit()"
   ]
  },
  {
   "cell_type": "code",
   "execution_count": null,
   "id": "93afee05",
   "metadata": {},
   "outputs": [],
   "source": []
  }
 ],
 "metadata": {
  "kernelspec": {
   "display_name": "Python 3 (ipykernel)",
   "language": "python",
   "name": "python3"
  },
  "language_info": {
   "codemirror_mode": {
    "name": "ipython",
    "version": 3
   },
   "file_extension": ".py",
   "mimetype": "text/x-python",
   "name": "python",
   "nbconvert_exporter": "python",
   "pygments_lexer": "ipython3",
   "version": "3.9.7"
  }
 },
 "nbformat": 4,
 "nbformat_minor": 5
}
