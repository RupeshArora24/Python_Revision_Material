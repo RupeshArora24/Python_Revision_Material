{
 "cells": [
  {
   "cell_type": "code",
   "execution_count": 1,
   "id": "20167b3c",
   "metadata": {},
   "outputs": [],
   "source": [
    "#Polymorphism - overloading & overloading"
   ]
  },
  {
   "cell_type": "code",
   "execution_count": 2,
   "id": "efef6319",
   "metadata": {},
   "outputs": [],
   "source": [
    "#Polymorphism means same function name being used for different data types (different signature).\n",
    "# Signature essentially means data type or data structure"
   ]
  },
  {
   "cell_type": "code",
   "execution_count": 4,
   "id": "f8d3673d",
   "metadata": {},
   "outputs": [
    {
     "name": "stdout",
     "output_type": "stream",
     "text": [
      "4\n",
      "welcome\n"
     ]
    }
   ],
   "source": [
    "#example\n",
    "l=[1,2,3,4]\n",
    "print(len(l))\n",
    "s='welcome'\n",
    "print(s)"
   ]
  },
  {
   "cell_type": "markdown",
   "id": "30557091",
   "metadata": {},
   "source": [
    "-------------"
   ]
  },
  {
   "cell_type": "code",
   "execution_count": 8,
   "id": "2bb74779",
   "metadata": {},
   "outputs": [],
   "source": [
    "class ws:\n",
    "    def displayinfo(self,name=\"\"): \n",
    "        print('Welcome to the '+name) #not initializing object as we don't have than one function in our class that multiple objects may access. \n",
    "                                    # as we have only one function there is no need to create object specific variables, all objects can access the function one by one."
   ]
  },
  {
   "cell_type": "code",
   "execution_count": 9,
   "id": "f650f6c2",
   "metadata": {},
   "outputs": [],
   "source": [
    "obj=ws()"
   ]
  },
  {
   "cell_type": "code",
   "execution_count": 10,
   "id": "485e817b",
   "metadata": {},
   "outputs": [
    {
     "name": "stdout",
     "output_type": "stream",
     "text": [
      "Welcome to the Jungle\n"
     ]
    }
   ],
   "source": [
    "obj.displayinfo('Jungle')"
   ]
  },
  {
   "cell_type": "code",
   "execution_count": 12,
   "id": "f8c7f32b",
   "metadata": {},
   "outputs": [
    {
     "name": "stdout",
     "output_type": "stream",
     "text": [
      "Welcome to the \n",
      "Welcome to the world little one\n"
     ]
    }
   ],
   "source": [
    "#overloading\n",
    "obj.displayinfo()\n",
    "obj.displayinfo('world little one')\n",
    "\n",
    "#same function gives us different output depending upon the parameter passsed\n",
    "#function is performing dynamically"
   ]
  },
  {
   "cell_type": "markdown",
   "id": "6408ae5a",
   "metadata": {},
   "source": [
    "--------------\n"
   ]
  },
  {
   "cell_type": "code",
   "execution_count": 13,
   "id": "d828808d",
   "metadata": {},
   "outputs": [],
   "source": [
    "#overwrite -\n",
    "#if function name is same in two different classes that are inheriting from one or another\n",
    "#the function of child get called even if we intended for parent function"
   ]
  },
  {
   "cell_type": "code",
   "execution_count": 29,
   "id": "0d036564",
   "metadata": {},
   "outputs": [],
   "source": [
    "class abc():\n",
    "    def displayinfo(self):\n",
    "        print(\"Welcome to the Jungle\")\n",
    "\n",
    "class xyz(abc):\n",
    "    def displayinfo(self):\n",
    "        print('How are You?')"
   ]
  },
  {
   "cell_type": "code",
   "execution_count": 30,
   "id": "0f668e05",
   "metadata": {},
   "outputs": [
    {
     "name": "stdout",
     "output_type": "stream",
     "text": [
      "How are You?\n"
     ]
    }
   ],
   "source": [
    "test=xyz()\n",
    "test.displayinfo()"
   ]
  },
  {
   "cell_type": "markdown",
   "id": "7925e714",
   "metadata": {},
   "source": [
    "----------\n"
   ]
  },
  {
   "cell_type": "code",
   "execution_count": 82,
   "id": "d57855b3",
   "metadata": {},
   "outputs": [],
   "source": [
    "class abc():\n",
    "    def displayinfo(self):\n",
    "        print(\"Welcome to the Jungle\")\n",
    "\n",
    "class xyz(abc):\n",
    "        \n",
    "    def displayinfo(self):\n",
    "        \n",
    "        super().displayinfo() #to access parent class function would\n",
    "        print('How are You?')\n"
   ]
  },
  {
   "cell_type": "code",
   "execution_count": 83,
   "id": "26e6d0d1",
   "metadata": {},
   "outputs": [],
   "source": [
    "test1=xyz()"
   ]
  },
  {
   "cell_type": "code",
   "execution_count": 84,
   "id": "dc390f8d",
   "metadata": {},
   "outputs": [
    {
     "name": "stdout",
     "output_type": "stream",
     "text": [
      "Welcome to the Jungle\n",
      "How are You?\n"
     ]
    }
   ],
   "source": [
    "test1.displayinfo()"
   ]
  },
  {
   "cell_type": "code",
   "execution_count": null,
   "id": "aaa959f8",
   "metadata": {},
   "outputs": [],
   "source": []
  }
 ],
 "metadata": {
  "kernelspec": {
   "display_name": "Python 3 (ipykernel)",
   "language": "python",
   "name": "python3"
  },
  "language_info": {
   "codemirror_mode": {
    "name": "ipython",
    "version": 3
   },
   "file_extension": ".py",
   "mimetype": "text/x-python",
   "name": "python",
   "nbconvert_exporter": "python",
   "pygments_lexer": "ipython3",
   "version": "3.9.7"
  }
 },
 "nbformat": 4,
 "nbformat_minor": 5
}
