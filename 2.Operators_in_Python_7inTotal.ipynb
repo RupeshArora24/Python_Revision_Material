{
 "cells": [
  {
   "cell_type": "code",
   "execution_count": 1,
   "id": "751720f2",
   "metadata": {},
   "outputs": [
    {
     "data": {
      "text/plain": [
       "' Operators in Python-\\nArithmatic Operators\\nAssignment operators\\nComparison Operator\\nLogical Operator\\nMembership Operators\\nIdentity Operator\\nBitwise Operator\\n'"
      ]
     },
     "execution_count": 1,
     "metadata": {},
     "output_type": "execute_result"
    }
   ],
   "source": [
    "\"\"\" Operators in Python-\n",
    "Arithmatic Operators (+, -, /, *, %, **, //)            returns value\n",
    "Assignment operators (=, +=, -=,*=,/=,%=,**=,//=)       returns value\n",
    "Comparison Operator (==,!=,>,<,>=, <=)                  returns True or False\n",
    "Logical Operator (and, or, not)                         returns True or False\n",
    "Membership Operators (in, not in)                       returns True or False\n",
    "Identity Operator (is, is not)                          returns True or False\n",
    "Bitwise Operator (&, |, ^, ~)                           returns value in binary and original\n",
    "                          '~' is not for bitwise operation    \n",
    "\"\"\""
   ]
  },
  {
   "cell_type": "code",
   "execution_count": 3,
   "id": "715e435d",
   "metadata": {},
   "outputs": [
    {
     "name": "stdout",
     "output_type": "stream",
     "text": [
      "100000000000000000000\n"
     ]
    }
   ],
   "source": [
    "a=10\n",
    "b=20\n",
    "\n",
    "print(a**b)"
   ]
  },
  {
   "cell_type": "code",
   "execution_count": 4,
   "id": "f0c8908d",
   "metadata": {},
   "outputs": [
    {
     "name": "stdout",
     "output_type": "stream",
     "text": [
      "125\n"
     ]
    }
   ],
   "source": [
    "print(5**3) # exponent\n"
   ]
  },
  {
   "cell_type": "code",
   "execution_count": 5,
   "id": "99824703",
   "metadata": {},
   "outputs": [
    {
     "name": "stdout",
     "output_type": "stream",
     "text": [
      "3.3333333333333335\n"
     ]
    }
   ],
   "source": [
    "print(10/3)"
   ]
  },
  {
   "cell_type": "code",
   "execution_count": 8,
   "id": "a2e2c01c",
   "metadata": {},
   "outputs": [
    {
     "name": "stdout",
     "output_type": "stream",
     "text": [
      "6.75\n",
      "6\n"
     ]
    }
   ],
   "source": [
    " #floor division returns a integer value only\n",
    "print(27/4)\n",
    "print(27//4)"
   ]
  },
  {
   "cell_type": "markdown",
   "id": "62a9bae1",
   "metadata": {},
   "source": [
    "-----------------------\n"
   ]
  },
  {
   "cell_type": "code",
   "execution_count": 11,
   "id": "81fbc8f9",
   "metadata": {},
   "outputs": [
    {
     "data": {
      "text/plain": [
       "'Assignment Operator'"
      ]
     },
     "execution_count": 11,
     "metadata": {},
     "output_type": "execute_result"
    }
   ],
   "source": [
    " \"\"\"Assignment Operator\"\"\""
   ]
  },
  {
   "cell_type": "code",
   "execution_count": null,
   "id": "468200bb",
   "metadata": {},
   "outputs": [],
   "source": []
  },
  {
   "cell_type": "code",
   "execution_count": 12,
   "id": "9e39418e",
   "metadata": {},
   "outputs": [
    {
     "name": "stdout",
     "output_type": "stream",
     "text": [
      "5\n"
     ]
    }
   ],
   "source": [
    "x=5\n",
    "print(x)"
   ]
  },
  {
   "cell_type": "code",
   "execution_count": 13,
   "id": "914b5509",
   "metadata": {},
   "outputs": [
    {
     "name": "stdout",
     "output_type": "stream",
     "text": [
      "10\n"
     ]
    }
   ],
   "source": [
    "x += 5\n",
    "print(x)"
   ]
  },
  {
   "cell_type": "code",
   "execution_count": 14,
   "id": "55efc8be",
   "metadata": {},
   "outputs": [
    {
     "name": "stdout",
     "output_type": "stream",
     "text": [
      "5\n"
     ]
    }
   ],
   "source": [
    "x -=5\n",
    "print(x)"
   ]
  },
  {
   "cell_type": "code",
   "execution_count": 15,
   "id": "6401f975",
   "metadata": {},
   "outputs": [
    {
     "name": "stdout",
     "output_type": "stream",
     "text": [
      "25\n"
     ]
    }
   ],
   "source": [
    "x *=5\n",
    "print(x)"
   ]
  },
  {
   "cell_type": "code",
   "execution_count": 16,
   "id": "a99e0e8a",
   "metadata": {},
   "outputs": [
    {
     "name": "stdout",
     "output_type": "stream",
     "text": [
      "5.0\n"
     ]
    }
   ],
   "source": [
    "#x=25\n",
    "x/=5\n",
    "print(x)"
   ]
  },
  {
   "cell_type": "code",
   "execution_count": 42,
   "id": "34900505",
   "metadata": {},
   "outputs": [
    {
     "name": "stdout",
     "output_type": "stream",
     "text": [
      "0\n"
     ]
    }
   ],
   "source": [
    "x%=5 \n",
    "print(x)"
   ]
  },
  {
   "cell_type": "code",
   "execution_count": 7,
   "id": "903dd591",
   "metadata": {},
   "outputs": [
    {
     "name": "stdout",
     "output_type": "stream",
     "text": [
      "1\n"
     ]
    }
   ],
   "source": [
    "z=2\n",
    "z//=2\n",
    "print(z)"
   ]
  },
  {
   "cell_type": "markdown",
   "id": "20a97c94",
   "metadata": {},
   "source": [
    "--------------\n"
   ]
  },
  {
   "cell_type": "code",
   "execution_count": 17,
   "id": "5658881e",
   "metadata": {},
   "outputs": [
    {
     "data": {
      "text/plain": [
       "'Comparison Operators'"
      ]
     },
     "execution_count": 17,
     "metadata": {},
     "output_type": "execute_result"
    }
   ],
   "source": [
    "\"\"\"Comparison Operators\"\"\""
   ]
  },
  {
   "cell_type": "code",
   "execution_count": 18,
   "id": "bef008e4",
   "metadata": {},
   "outputs": [
    {
     "name": "stdout",
     "output_type": "stream",
     "text": [
      "False\n"
     ]
    }
   ],
   "source": [
    "x=10\n",
    "y=20\n",
    "\n",
    "print(x==y)"
   ]
  },
  {
   "cell_type": "code",
   "execution_count": 19,
   "id": "b49fae02",
   "metadata": {},
   "outputs": [
    {
     "name": "stdout",
     "output_type": "stream",
     "text": [
      "True\n"
     ]
    }
   ],
   "source": [
    " print(x!=y)"
   ]
  },
  {
   "cell_type": "code",
   "execution_count": 20,
   "id": "52d83204",
   "metadata": {},
   "outputs": [
    {
     "name": "stdout",
     "output_type": "stream",
     "text": [
      "False\n"
     ]
    }
   ],
   "source": [
    "print(x>y)"
   ]
  },
  {
   "cell_type": "code",
   "execution_count": 21,
   "id": "cea55598",
   "metadata": {},
   "outputs": [
    {
     "name": "stdout",
     "output_type": "stream",
     "text": [
      "True\n"
     ]
    }
   ],
   "source": [
    "print(x<y)"
   ]
  },
  {
   "cell_type": "code",
   "execution_count": 22,
   "id": "9a56dc6c",
   "metadata": {},
   "outputs": [
    {
     "name": "stdout",
     "output_type": "stream",
     "text": [
      "False\n"
     ]
    }
   ],
   "source": [
    "print(x>=y)"
   ]
  },
  {
   "cell_type": "code",
   "execution_count": 23,
   "id": "0ac4c5ed",
   "metadata": {},
   "outputs": [
    {
     "name": "stdout",
     "output_type": "stream",
     "text": [
      "True\n"
     ]
    }
   ],
   "source": [
    "print(x<=y)"
   ]
  },
  {
   "cell_type": "markdown",
   "id": "c55284e3",
   "metadata": {},
   "source": [
    "------"
   ]
  },
  {
   "cell_type": "code",
   "execution_count": 24,
   "id": "25be191b",
   "metadata": {},
   "outputs": [
    {
     "data": {
      "text/plain": [
       "'Logical Operator'"
      ]
     },
     "execution_count": 24,
     "metadata": {},
     "output_type": "execute_result"
    }
   ],
   "source": [
    "\"\"\"Logical Operator\"\"\""
   ]
  },
  {
   "cell_type": "code",
   "execution_count": 25,
   "id": "61ccbf31",
   "metadata": {},
   "outputs": [
    {
     "name": "stdout",
     "output_type": "stream",
     "text": [
      "True\n"
     ]
    }
   ],
   "source": [
    "#x=10\n",
    "#y=20\n",
    "print(x==10 and y==20)"
   ]
  },
  {
   "cell_type": "code",
   "execution_count": 26,
   "id": "0463e15c",
   "metadata": {},
   "outputs": [
    {
     "name": "stdout",
     "output_type": "stream",
     "text": [
      "False\n"
     ]
    }
   ],
   "source": [
    "print(x==10 and y==20 and x==y)"
   ]
  },
  {
   "cell_type": "code",
   "execution_count": 29,
   "id": "9899ba4e",
   "metadata": {},
   "outputs": [
    {
     "name": "stdout",
     "output_type": "stream",
     "text": [
      "True\n"
     ]
    }
   ],
   "source": [
    "print(x==10 or y==20)"
   ]
  },
  {
   "cell_type": "code",
   "execution_count": 28,
   "id": "fc3b852b",
   "metadata": {},
   "outputs": [
    {
     "name": "stdout",
     "output_type": "stream",
     "text": [
      "True\n"
     ]
    }
   ],
   "source": [
    "print(x==10 or y==20 or x==y)"
   ]
  },
  {
   "cell_type": "code",
   "execution_count": 30,
   "id": "05c0a257",
   "metadata": {},
   "outputs": [
    {
     "name": "stdout",
     "output_type": "stream",
     "text": [
      "True\n"
     ]
    }
   ],
   "source": [
    "print(x==10 or y==30 or x==y)"
   ]
  },
  {
   "cell_type": "code",
   "execution_count": 31,
   "id": "a95fd1cc",
   "metadata": {},
   "outputs": [
    {
     "name": "stdout",
     "output_type": "stream",
     "text": [
      "False\n",
      "True\n"
     ]
    }
   ],
   "source": [
    "print((x!=10))\n",
    "print(not(x!=10))"
   ]
  },
  {
   "cell_type": "markdown",
   "id": "73c1c795",
   "metadata": {},
   "source": [
    "-------------------"
   ]
  },
  {
   "cell_type": "code",
   "execution_count": 33,
   "id": "c79b2b3e",
   "metadata": {},
   "outputs": [
    {
     "data": {
      "text/plain": [
       "'Membership Operator - checks if there is a required element in an iterable\\n'"
      ]
     },
     "execution_count": 33,
     "metadata": {},
     "output_type": "execute_result"
    }
   ],
   "source": [
    "\"\"\"Membership Operator - checks if there is a required element in an iterable\n",
    "\"\"\" "
   ]
  },
  {
   "cell_type": "code",
   "execution_count": 34,
   "id": "ace21753",
   "metadata": {},
   "outputs": [
    {
     "name": "stdout",
     "output_type": "stream",
     "text": [
      "False\n"
     ]
    }
   ],
   "source": [
    "string1=\"Hello\"\n",
    "print('h' in string1)"
   ]
  },
  {
   "cell_type": "code",
   "execution_count": 35,
   "id": "f9d87c75",
   "metadata": {},
   "outputs": [
    {
     "name": "stdout",
     "output_type": "stream",
     "text": [
      "True\n"
     ]
    }
   ],
   "source": [
    "print('H' in string1)"
   ]
  },
  {
   "cell_type": "code",
   "execution_count": 36,
   "id": "33e12b03",
   "metadata": {},
   "outputs": [
    {
     "name": "stdout",
     "output_type": "stream",
     "text": [
      "False\n"
     ]
    }
   ],
   "source": [
    "print('H' not in string1)"
   ]
  },
  {
   "cell_type": "code",
   "execution_count": 37,
   "id": "946b5d99",
   "metadata": {},
   "outputs": [
    {
     "name": "stdout",
     "output_type": "stream",
     "text": [
      "False\n"
     ]
    }
   ],
   "source": [
    "l=[10,20,30,40]\n",
    "print(50 in l)"
   ]
  },
  {
   "cell_type": "code",
   "execution_count": 38,
   "id": "19cd1a58",
   "metadata": {},
   "outputs": [
    {
     "name": "stdout",
     "output_type": "stream",
     "text": [
      "True\n"
     ]
    }
   ],
   "source": [
    "print(50 not in l)"
   ]
  },
  {
   "cell_type": "markdown",
   "id": "46f0619b",
   "metadata": {},
   "source": [
    "-------------------"
   ]
  },
  {
   "cell_type": "code",
   "execution_count": 39,
   "id": "d62b4f10",
   "metadata": {},
   "outputs": [
    {
     "data": {
      "text/plain": [
       "'Identity Operator - checks if both variable are same\\n'"
      ]
     },
     "execution_count": 39,
     "metadata": {},
     "output_type": "execute_result"
    }
   ],
   "source": [
    "\"\"\"Identity Operator - checks if both variable are same,\n",
    "it is similar to '=='\n",
    "\"\"\""
   ]
  },
  {
   "cell_type": "code",
   "execution_count": 40,
   "id": "0d27bebb",
   "metadata": {},
   "outputs": [
    {
     "name": "stdout",
     "output_type": "stream",
     "text": [
      "True True\n"
     ]
    }
   ],
   "source": [
    "x=10\n",
    "y=10\n",
    "print(x is y, x==y)"
   ]
  },
  {
   "cell_type": "code",
   "execution_count": 41,
   "id": "6836e3fa",
   "metadata": {},
   "outputs": [
    {
     "name": "stdout",
     "output_type": "stream",
     "text": [
      "False False\n"
     ]
    }
   ],
   "source": [
    "print(x is not y, x!=y)"
   ]
  },
  {
   "cell_type": "markdown",
   "id": "ae4a0c90",
   "metadata": {},
   "source": [
    " --------------"
   ]
  },
  {
   "cell_type": "code",
   "execution_count": 43,
   "id": "34efd7f0",
   "metadata": {},
   "outputs": [
    {
     "data": {
      "text/plain": [
       "'Bitwise Operator-\\nworks on the binary values of values in variable\\nand'"
      ]
     },
     "execution_count": 43,
     "metadata": {},
     "output_type": "execute_result"
    }
   ],
   "source": [
    "\"\"\"Bitwise Operator-\n",
    "works on the binary values of values in variable\n",
    "and\"\"\""
   ]
  },
  {
   "cell_type": "code",
   "execution_count": 45,
   "id": "648e8679",
   "metadata": {},
   "outputs": [
    {
     "name": "stdout",
     "output_type": "stream",
     "text": [
      "0b1010\n",
      "0b1000\n"
     ]
    }
   ],
   "source": [
    "x=10\n",
    "y=8\n",
    "print(bin(x))\n",
    "print(bin(y))"
   ]
  },
  {
   "cell_type": "code",
   "execution_count": 49,
   "id": "d67663ab",
   "metadata": {},
   "outputs": [
    {
     "name": "stdout",
     "output_type": "stream",
     "text": [
      "0b1000\n",
      "8\n"
     ]
    }
   ],
   "source": [
    "print(bin(x&y))\n",
    "print(x&y)"
   ]
  },
  {
   "cell_type": "code",
   "execution_count": 51,
   "id": "1a60657c",
   "metadata": {},
   "outputs": [
    {
     "name": "stdout",
     "output_type": "stream",
     "text": [
      "0b1010\n",
      "10\n"
     ]
    }
   ],
   "source": [
    "print(bin(x|y))\n",
    "print(x|y)"
   ]
  },
  {
   "cell_type": "code",
   "execution_count": 52,
   "id": "e74cbeaa",
   "metadata": {},
   "outputs": [
    {
     "name": "stdout",
     "output_type": "stream",
     "text": [
      "0b10\n",
      "2\n"
     ]
    }
   ],
   "source": [
    "print(bin(x^y))\n",
    "print(x^y)"
   ]
  },
  {
   "cell_type": "markdown",
   "id": "b73c4064",
   "metadata": {},
   "source": [
    "--------------"
   ]
  },
  {
   "cell_type": "code",
   "execution_count": 1,
   "id": "8964cdcb",
   "metadata": {},
   "outputs": [],
   "source": [
    "test='Rohit'\n",
    "new_list=list(test)"
   ]
  },
  {
   "cell_type": "code",
   "execution_count": 3,
   "id": "0a801ab9",
   "metadata": {},
   "outputs": [
    {
     "name": "stdout",
     "output_type": "stream",
     "text": [
      "['R', 'o', 'h', 'i', 't']\n"
     ]
    }
   ],
   "source": [
    "print(new_list)"
   ]
  },
  {
   "cell_type": "code",
   "execution_count": 5,
   "id": "4b57733a",
   "metadata": {},
   "outputs": [
    {
     "name": "stdout",
     "output_type": "stream",
     "text": [
      "5\n",
      "5\n"
     ]
    }
   ],
   "source": [
    "print(len(test))\n",
    "print (len(new_list))"
   ]
  },
  {
   "cell_type": "code",
   "execution_count": null,
   "id": "3a130a3e",
   "metadata": {},
   "outputs": [],
   "source": []
  }
 ],
 "metadata": {
  "kernelspec": {
   "display_name": "Python 3 (ipykernel)",
   "language": "python",
   "name": "python3"
  },
  "language_info": {
   "codemirror_mode": {
    "name": "ipython",
    "version": 3
   },
   "file_extension": ".py",
   "mimetype": "text/x-python",
   "name": "python",
   "nbconvert_exporter": "python",
   "pygments_lexer": "ipython3",
   "version": "3.9.7"
  }
 },
 "nbformat": 4,
 "nbformat_minor": 5
}
