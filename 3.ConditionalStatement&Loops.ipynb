{
 "cells": [
  {
   "cell_type": "code",
   "execution_count": 1,
   "id": "f201f2c0",
   "metadata": {},
   "outputs": [],
   "source": [
    "#Conditional Statement "
   ]
  },
  {
   "cell_type": "code",
   "execution_count": 8,
   "id": "aef8a755",
   "metadata": {},
   "outputs": [
    {
     "name": "stdout",
     "output_type": "stream",
     "text": [
      "Enter the value:4\n",
      "Entered Numbers 4 is Even\n"
     ]
    }
   ],
   "source": [
    "a=int(input('Enter the value:'))\n",
    "\n",
    "if a%2==0:\n",
    "    print('Entered Numbers',a,'is Even')\n",
    "else:\n",
    "    print('Entered Number',a,'is Odd')"
   ]
  },
  {
   "cell_type": "code",
   "execution_count": 13,
   "id": "74dc9afa",
   "metadata": {},
   "outputs": [
    {
     "name": "stdout",
     "output_type": "stream",
     "text": [
      "Enter the percentage47\n",
      "Third Division\n"
     ]
    }
   ],
   "source": [
    "#check division\n",
    "\n",
    "per=int(input('Enter the percentage'))\n",
    "\n",
    "if per>=60:\n",
    "    print('First Divison')\n",
    "elif per>=48:\n",
    "    print('Second Division')\n",
    "elif per>=35:\n",
    "    print('Third Division')\n",
    "else:\n",
    "    print('Fail')\n",
    "    "
   ]
  },
  {
   "cell_type": "markdown",
   "id": "127c0599",
   "metadata": {},
   "source": [
    "\n",
    "--------"
   ]
  },
  {
   "cell_type": "code",
   "execution_count": 14,
   "id": "f21e308d",
   "metadata": {},
   "outputs": [],
   "source": [
    "# Constructing a simple calculator"
   ]
  },
  {
   "cell_type": "code",
   "execution_count": 20,
   "id": "668b9bd1",
   "metadata": {},
   "outputs": [
    {
     "name": "stdout",
     "output_type": "stream",
     "text": [
      "Simple Calvulator\n",
      "Enter value1:84\n",
      "Enter value2:564\n",
      "Enter the operator:|\n",
      "Operation Not Supported\n"
     ]
    }
   ],
   "source": [
    "print (\"Simple Calvulator\")\n",
    "num1=int(input(\"Enter value1:\"))\n",
    "num2=int(input(\"Enter value2:\"))\n",
    "opp=input('Enter the operator:')\n",
    "\n",
    "if opp=='-':\n",
    "    print('Ans',num1-num2)\n",
    "elif opp=='+':\n",
    "    print('Ans',num1+num2)\n",
    "elif opp=='*':\n",
    "    print('Ans',num1*num2)\n",
    "elif opp=='/':\n",
    "    print('Ans',num1/num2)\n",
    "elif opp=='%':\n",
    "    print('Ans',num1%num2)\n",
    "elif opp=='**':\n",
    "    print('Ans',num1**num2)\n",
    "elif opp=='//':\n",
    "    print('Ans',num1//num2)\n",
    "else:\n",
    "    print('Operation Not Supported')"
   ]
  },
  {
   "cell_type": "code",
   "execution_count": 23,
   "id": "4852bc13",
   "metadata": {},
   "outputs": [
    {
     "name": "stdout",
     "output_type": "stream",
     "text": [
      "Simple Calvulator\n",
      "Enter value1:4\n",
      "Enter value2:6\n",
      "Enter the operator:-\n",
      "Ans -2\n",
      "Operation Not Supported\n",
      "Either -, + or / entered\n"
     ]
    }
   ],
   "source": [
    "#Testing _ n above calcualtor python checks only for condition that is true\n",
    "#if a condition becomes true it leaves all other condititon\n",
    "#But if you use multiple 'ifs' then python checks for all 'ifs' statment\n",
    "print (\"Simple Calvulator\")\n",
    "num1=int(input(\"Enter value1:\"))\n",
    "num2=int(input(\"Enter value2:\"))\n",
    "opp=input('Enter the operator:')\n",
    "\n",
    "if opp=='-':\n",
    "    print('Ans',num1-num2)\n",
    "if opp=='+':\n",
    "    print('Ans',num1+num2)\n",
    "if opp=='*':\n",
    "    print('Ans',num1*num2)\n",
    "if opp=='/':\n",
    "    print('Ans',num1/num2)\n",
    "if opp=='%':\n",
    "    print('Ans',num1%num2)\n",
    "if opp=='**':\n",
    "    print('Ans',num1**num2)\n",
    "if opp=='//':\n",
    "    print('Ans',num1//num2)\n",
    "else:\n",
    "    print('Operation Not Supported') # this will also be executed as this is a partof last if statement\n",
    "if opp=='-' and opp=='+' and opp=='*' and opp=='/':\n",
    "    print('Multiple Operations entered')\n",
    "if opp=='-' or opp=='+' or opp=='*' or opp=='/':\n",
    "    print('Either -, + or / entered')"
   ]
  },
  {
   "cell_type": "markdown",
   "id": "08892c5e",
   "metadata": {},
   "source": [
    "-----------\n"
   ]
  },
  {
   "cell_type": "code",
   "execution_count": 28,
   "id": "8e4094da",
   "metadata": {},
   "outputs": [
    {
     "name": "stdout",
     "output_type": "stream",
     "text": [
      "a= range(0, 5)\n",
      "b= [0, 1, 2, 3, 4]\n"
     ]
    }
   ],
   "source": [
    "#range(start,condition,increment)\n",
    "'''\n",
    "start=0\n",
    "condition<5\n",
    "incerement=1\n",
    "'''\n",
    "a=range(5)\n",
    "print('a=',a)\n",
    "\n",
    "b=list(range(5))\n",
    "print('b=',b)"
   ]
  },
  {
   "cell_type": "markdown",
   "id": "31a4f184",
   "metadata": {},
   "source": [
    "--------"
   ]
  },
  {
   "cell_type": "code",
   "execution_count": 29,
   "id": "fbd7844b",
   "metadata": {},
   "outputs": [],
   "source": [
    "#loop - for loop"
   ]
  },
  {
   "cell_type": "code",
   "execution_count": 30,
   "id": "ea846ab1",
   "metadata": {},
   "outputs": [
    {
     "name": "stdout",
     "output_type": "stream",
     "text": [
      "0\n",
      "1\n",
      "2\n",
      "3\n",
      "4\n"
     ]
    }
   ],
   "source": [
    "for i in range(5):\n",
    "    print (i)"
   ]
  },
  {
   "cell_type": "code",
   "execution_count": 31,
   "id": "9a58cbea",
   "metadata": {},
   "outputs": [
    {
     "data": {
      "text/plain": [
       "int"
      ]
     },
     "execution_count": 31,
     "metadata": {},
     "output_type": "execute_result"
    }
   ],
   "source": [
    "type(i)"
   ]
  },
  {
   "cell_type": "code",
   "execution_count": 32,
   "id": "fa4fa32a",
   "metadata": {},
   "outputs": [
    {
     "name": "stdout",
     "output_type": "stream",
     "text": [
      "1\n",
      "2\n",
      "3\n",
      "4\n",
      "5\n"
     ]
    }
   ],
   "source": [
    "for i in range(1,6):\n",
    "    print(i)"
   ]
  },
  {
   "cell_type": "code",
   "execution_count": 34,
   "id": "29751a5c",
   "metadata": {},
   "outputs": [
    {
     "name": "stdout",
     "output_type": "stream",
     "text": [
      "1\n",
      "3\n",
      "5\n"
     ]
    }
   ],
   "source": [
    "for i in range(1,6,2):\n",
    "    print(i)"
   ]
  },
  {
   "cell_type": "code",
   "execution_count": 38,
   "id": "62e96cbc",
   "metadata": {},
   "outputs": [
    {
     "name": "stdout",
     "output_type": "stream",
     "text": [
      "2 * 1 = 2\n",
      "2 * 2 = 4\n",
      "2 * 3 = 6\n",
      "2 * 4 = 8\n",
      "2 * 5 = 10\n",
      "2 * 6 = 12\n",
      "2 * 7 = 14\n",
      "2 * 8 = 16\n",
      "2 * 9 = 18\n",
      "2 * 10 = 20\n"
     ]
    }
   ],
   "source": [
    "#table\n",
    "for i in range(1,11):\n",
    "    print('2 *',i,'=',2*i)"
   ]
  },
  {
   "cell_type": "code",
   "execution_count": 51,
   "id": "6ea4abe0",
   "metadata": {},
   "outputs": [
    {
     "name": "stdout",
     "output_type": "stream",
     "text": [
      "2 * 10 = 20\n",
      "2 * 9 = 18\n",
      "2 * 8 = 16\n",
      "2 * 7 = 14\n",
      "2 * 6 = 12\n",
      "2 * 5 = 10\n",
      "2 * 4 = 8\n",
      "2 * 3 = 6\n",
      "2 * 2 = 4\n",
      "2 * 1 = 2\n"
     ]
    }
   ],
   "source": [
    "#table in reverse # in reverse order starting point needs to be higher than condition\n",
    "for n in range(10,0,-1): #range(1,11,-1) - gives nothing as starting point \n",
    "    print('2 *',n,'=',2*n)"
   ]
  },
  {
   "cell_type": "code",
   "execution_count": 49,
   "id": "17487732",
   "metadata": {},
   "outputs": [
    {
     "name": "stdout",
     "output_type": "stream",
     "text": [
      "10\n",
      "8\n",
      "6\n",
      "4\n",
      "2\n"
     ]
    }
   ],
   "source": [
    "  for i in range(10,0,-2):\n",
    "        print(i)"
   ]
  },
  {
   "cell_type": "markdown",
   "id": "371d0706",
   "metadata": {},
   "source": [
    "--------------------"
   ]
  },
  {
   "cell_type": "code",
   "execution_count": 53,
   "id": "a0bd1fbd",
   "metadata": {},
   "outputs": [
    {
     "data": {
      "text/plain": [
       "'\\nstart\\ncondition\\nincrement/decrement\\n'"
      ]
     },
     "execution_count": 53,
     "metadata": {},
     "output_type": "execute_result"
    }
   ],
   "source": [
    "#while loop\n",
    "'''\n",
    "start\n",
    "while 'condition':\n",
    "    increment/decrement\n",
    "'''"
   ]
  },
  {
   "cell_type": "code",
   "execution_count": 57,
   "id": "ea555d98",
   "metadata": {},
   "outputs": [
    {
     "name": "stdout",
     "output_type": "stream",
     "text": [
      "This is a new begining  1\n",
      "This is a new begining  2\n",
      "This is a new begining  3\n",
      "This is a new begining  4\n",
      "This is a new begining  5\n",
      "This is a new begining  6\n",
      "This is a new begining  7\n",
      "This is a new begining  8\n",
      "This is a new begining  9\n",
      "This is a new begining  10\n"
     ]
    }
   ],
   "source": [
    "i=1\n",
    "while i<=10:\n",
    "    print('This is a new begining ',i)\n",
    "    i+=1\n",
    "\n",
    "    "
   ]
  },
  {
   "cell_type": "code",
   "execution_count": 61,
   "id": "4dc152c4",
   "metadata": {},
   "outputs": [
    {
     "name": "stdout",
     "output_type": "stream",
     "text": [
      "Hello  10\n",
      "Hello  9\n",
      "Hello  8\n",
      "Hello  7\n",
      "Hello  6\n",
      "Hello  5\n",
      "Hello  4\n",
      "Hello  3\n",
      "Hello  2\n",
      "Hello  1\n"
     ]
    }
   ],
   "source": [
    "t=10\n",
    "while (t>0):\n",
    "    print('Hello ', t)\n",
    "    t-=1"
   ]
  },
  {
   "cell_type": "markdown",
   "id": "ca12b8a9",
   "metadata": {},
   "source": [
    "-----------------------\n"
   ]
  },
  {
   "cell_type": "code",
   "execution_count": null,
   "id": "10ea172c",
   "metadata": {},
   "outputs": [],
   "source": []
  }
 ],
 "metadata": {
  "kernelspec": {
   "display_name": "Python 3 (ipykernel)",
   "language": "python",
   "name": "python3"
  },
  "language_info": {
   "codemirror_mode": {
    "name": "ipython",
    "version": 3
   },
   "file_extension": ".py",
   "mimetype": "text/x-python",
   "name": "python",
   "nbconvert_exporter": "python",
   "pygments_lexer": "ipython3",
   "version": "3.9.7"
  }
 },
 "nbformat": 4,
 "nbformat_minor": 5
}
